{
  "nbformat": 4,
  "nbformat_minor": 0,
  "metadata": {
    "colab": {
      "provenance": [],
      "authorship_tag": "ABX9TyM1noB2ngLaGBz7Mt3ogUDy",
      "include_colab_link": true
    },
    "kernelspec": {
      "name": "python3",
      "display_name": "Python 3"
    },
    "language_info": {
      "name": "python"
    }
  },
  "cells": [
    {
      "cell_type": "markdown",
      "metadata": {
        "id": "view-in-github",
        "colab_type": "text"
      },
      "source": [
        "<a href=\"https://colab.research.google.com/github/gapself/machine-learning-projects/blob/main/functional_programming.ipynb\" target=\"_parent\"><img src=\"https://colab.research.google.com/assets/colab-badge.svg\" alt=\"Open In Colab\"/></a>"
      ]
    },
    {
      "cell_type": "markdown",
      "source": [
        "# Imperative code - filtering"
      ],
      "metadata": {
        "id": "29Yl3c9eOqEb"
      }
    },
    {
      "cell_type": "code",
      "source": [
        "nums = (1, 2, 3, 4, 5, 6, 7, 8, 9, 10)\n",
        "\n",
        "def filter_values(predicate, lst):\n",
        "  ret = []\n",
        "  for i in lst:\n",
        "    if predicate(i):\n",
        "      ret.append(i)\n",
        "  return ret\n",
        "\n",
        "filtered_numbers = filter_values(lambda x: x % 2 == 0, nums)\n",
        "\n",
        "print(filtered_numbers)"
      ],
      "metadata": {
        "colab": {
          "base_uri": "https://localhost:8080/"
        },
        "id": "jP30AY1ZOtIu",
        "outputId": "703a05d5-e8a9-4cd9-ca19-65f5c8c7d0fb"
      },
      "execution_count": null,
      "outputs": [
        {
          "output_type": "stream",
          "name": "stdout",
          "text": [
            "[2, 4, 6, 8, 10]\n"
          ]
        }
      ]
    },
    {
      "cell_type": "markdown",
      "source": [
        "# Declarative code - using higher-order function FILTER()"
      ],
      "metadata": {
        "id": "QXG5Oy1yO2db"
      }
    },
    {
      "cell_type": "code",
      "source": [
        "filtered_numbers = filter(lambda x: x % 2 == 0 , nums)\n",
        "print(filtered_numbers)\n",
        "print(tuple(filtered_numbers))"
      ],
      "metadata": {
        "colab": {
          "base_uri": "https://localhost:8080/"
        },
        "id": "8XKQUfqkO51v",
        "outputId": "c97cac7f-56e9-4eeb-d0e0-b8fbc0025911"
      },
      "execution_count": null,
      "outputs": [
        {
          "output_type": "stream",
          "name": "stdout",
          "text": [
            "<filter object at 0x7e37b0301270>\n",
            "(2, 4, 6, 8, 10)\n"
          ]
        }
      ]
    },
    {
      "cell_type": "markdown",
      "source": [
        "# MAP () - some operation on every element of a list"
      ],
      "metadata": {
        "id": "htjz-fj3PQ51"
      }
    },
    {
      "cell_type": "code",
      "source": [
        "print(tuple(map(lambda x: x*3, nums)))"
      ],
      "metadata": {
        "colab": {
          "base_uri": "https://localhost:8080/"
        },
        "id": "ddWatJMVPNA8",
        "outputId": "8ea253e7-be9f-4280-a896-f36ffe908bc6"
      },
      "execution_count": null,
      "outputs": [
        {
          "output_type": "stream",
          "name": "stdout",
          "text": [
            "(3, 6, 9, 12, 15, 18, 21, 24, 27, 30)\n"
          ]
        }
      ]
    },
    {
      "cell_type": "markdown",
      "source": [
        "# REDUCE() - calculation\n",
        "- import lib!\n",
        "- reduce() function **is expecting more than two input parameters!**\n",
        "\n",
        "```\n",
        "from functools import reduce\n",
        "```\n",
        "\n"
      ],
      "metadata": {
        "id": "HME-a3y9PeSk"
      }
    },
    {
      "cell_type": "code",
      "source": [
        "from functools import reduce\n",
        "\n",
        "print(reduce(lambda x,y: x+y, nums))"
      ],
      "metadata": {
        "colab": {
          "base_uri": "https://localhost:8080/"
        },
        "id": "OsDBqtLaPa6K",
        "outputId": "87821a65-dc09-4047-9370-926aa65041ec"
      },
      "execution_count": null,
      "outputs": [
        {
          "output_type": "stream",
          "name": "stdout",
          "text": [
            "55\n"
          ]
        }
      ]
    },
    {
      "cell_type": "markdown",
      "source": [
        "# Mapping a Filtered Collection\n",
        "- multiply all even nums by 2"
      ],
      "metadata": {
        "id": "ilxI68KdPynl"
      }
    },
    {
      "cell_type": "code",
      "source": [
        "print(tuple(map(lambda x: x*2, filter(lambda x: x % 2 == 0 , nums))))"
      ],
      "metadata": {
        "colab": {
          "base_uri": "https://localhost:8080/"
        },
        "id": "TFoLJJxuP74b",
        "outputId": "105e1af4-e993-4b80-f331-85cfcf5123e6"
      },
      "execution_count": null,
      "outputs": [
        {
          "output_type": "stream",
          "name": "stdout",
          "text": [
            "(4, 8, 12, 16, 20)\n"
          ]
        }
      ]
    },
    {
      "cell_type": "code",
      "source": [
        "t_filtered_numbers = tuple(filtered_numbers)\n",
        "print(tuple(map(lambda x: x*2, filter(lambda x: x % 2 == 0 , nums))))"
      ],
      "metadata": {
        "colab": {
          "base_uri": "https://localhost:8080/"
        },
        "id": "13bb68e1QtMw",
        "outputId": "5b9ee5f3-bcb8-4bb4-a740-2482bd11a768"
      },
      "execution_count": null,
      "outputs": [
        {
          "output_type": "stream",
          "name": "stdout",
          "text": [
            "(48, 12, 32, 16, 4, 40, 44, 24, 8)\n"
          ]
        }
      ]
    },
    {
      "cell_type": "markdown",
      "source": [
        "# Reducing a Filtered Collection"
      ],
      "metadata": {
        "id": "sYNa6exVQ4Vp"
      }
    },
    {
      "cell_type": "code",
      "source": [
        "from collections import namedtuple\n",
        "from functools import reduce\n",
        "\n",
        "# Prices are in USD\n",
        "menu_item = namedtuple(\"menu_item\", [\"name\", \"dish_type\", \"price\"])\n",
        "\n",
        "jsp = menu_item(\"Jumbo Shrimp Platter\", \"Appetizer\", 29.95)\n",
        "lc = menu_item(\"Lobster Cake\", \"Appetizer\", 30.95)\n",
        "scb = menu_item(\"Sizzling Canadian Bacon\", \"Appetizer\", 9.95)\n",
        "ccc = menu_item(\"Codecademy Crab Cake\", \"Appetizer\", 32.95)\n",
        "cs = menu_item(\"Caeser Salad\", \"Salad\", 14.95)\n",
        "mgs = menu_item(\"Mixed Green Salad\", \"Salad\", 10.95)\n",
        "cp = menu_item(\"Codecademy Potatoes\", \"Side\", 34.95)\n",
        "mp = menu_item(\"Mashed Potatoes\", \"Side\", 14.95)\n",
        "a = menu_item(\"Asparagus\", \"Side\", 15.95)\n",
        "rs = menu_item(\"Ribeye Steak\", \"Entree\", 75.95)\n",
        "phs = menu_item(\"Porter House Steak\", \"Entree\", 131.95)\n",
        "grs = menu_item(\"Grilled Salmon\", \"Entree\", 36.95)\n",
        "\n",
        "menu = (jsp, lc, scb, ccc, cs, mgs, cp, mp, a, rs, phs, grs)\n",
        "entree = 0\n",
        "least_expensive = 0\n",
        "\n",
        "#find the most expensive dish that is an entree\n",
        "entree = reduce(lambda x, y: x if x.price > y.price else y,\n",
        "                filter(lambda x: x.dish_type == \"Entree\", menu))\n",
        "print(entree)\n",
        "\n",
        "#find the least expensive dish that is either a side or a salad\n",
        "least_expensive = reduce(lambda x, y: x if x.price < y.price else y,\n",
        "                         filter(lambda x: x.dish_type in [\"Salad\",\"Side\"], menu))\n",
        "print(least_expensive)"
      ],
      "metadata": {
        "colab": {
          "base_uri": "https://localhost:8080/"
        },
        "id": "oSwWkWQ8Q22t",
        "outputId": "f48d2f51-be57-4e44-ba71-77d0352cf7a1"
      },
      "execution_count": null,
      "outputs": [
        {
          "output_type": "stream",
          "name": "stdout",
          "text": [
            "menu_item(name='Porter House Steak', dish_type='Entree', price=131.95)\n",
            "menu_item(name='Mixed Green Salad', dish_type='Salad', price=10.95)\n"
          ]
        }
      ]
    },
    {
      "cell_type": "markdown",
      "source": [
        "#Reducing mapped collection"
      ],
      "metadata": {
        "id": "tFuyRDyGRTpQ"
      }
    },
    {
      "cell_type": "code",
      "source": [
        "from functools import reduce\n",
        "\n",
        "fruits = {\"Grape\":(4, 6, 2),\n",
        "          \"Lemon\":(7, 3, 1),\n",
        "          \"Orange\":(5, 8, 1),\n",
        "          \"Apple\":(2, 8, 10),\n",
        "          \"Watermelon\":(0, 9, 6)}\n",
        "\n",
        "\n",
        "# find the total number of fruits sold\n",
        "total_fruits = reduce(lambda x,y: x+y,\n",
        "                      map(lambda x: fruits[x][0]+fruits[x][1]+fruits[x][2],fruits))\n",
        "\n",
        "print(total_fruits)"
      ],
      "metadata": {
        "colab": {
          "base_uri": "https://localhost:8080/"
        },
        "id": "J9-N3BI_RV0O",
        "outputId": "b8dcfba2-a0e2-4425-92da-d4517151f3d8"
      },
      "execution_count": null,
      "outputs": [
        {
          "output_type": "stream",
          "name": "stdout",
          "text": [
            "72\n"
          ]
        }
      ]
    },
    {
      "cell_type": "markdown",
      "source": [
        "# Combining all Three Higher-Order Functions"
      ],
      "metadata": {
        "id": "7Dk44VlrRskB"
      }
    },
    {
      "cell_type": "code",
      "source": [
        "from functools import reduce\n",
        "\n",
        "costs = {\"shirt\": (4, 13.00), \"shoes\":(2, 80.00), \"pants\":(3, 100.00), \"socks\":(5, 5.00), \"ties\":(3, 14.00), \"watch\":(1, 145.00)}\n",
        "\n",
        "nums = (24, 6, 7, 16, 8, 2, 3, 11, 21, 20, 22, 23, 19, 12, 1, 4, 17, 9, 25, 15)\n",
        "\n",
        "# find the total cost of items that cost more than £150\n",
        "total = reduce(lambda x,y: x+y,\n",
        "               filter(lambda x: x > 150.00,\n",
        "                      map(lambda x: costs[x][0]*costs[x][1],costs)))\n",
        "\n",
        "print(total)\n",
        "\n",
        "# find all numbers less than 10, add five to them, and find their total product\n",
        "product = reduce(lambda x,y: x*y,\n",
        "                 map(lambda x: x+5,\n",
        "                     filter(lambda x: x<10, nums)))\n",
        "\n",
        "print(product)"
      ],
      "metadata": {
        "colab": {
          "base_uri": "https://localhost:8080/"
        },
        "id": "MHXYWTdVRrV9",
        "outputId": "f83e7fbf-7bbb-4968-91ec-d212c70bfd73"
      },
      "execution_count": null,
      "outputs": [
        {
          "output_type": "stream",
          "name": "stdout",
          "text": [
            "460.0\n",
            "72648576\n"
          ]
        }
      ]
    },
    {
      "cell_type": "markdown",
      "source": [
        "# Reading CSV File"
      ],
      "metadata": {
        "id": "o4_e9ew4SAcY"
      }
    },
    {
      "cell_type": "code",
      "source": [
        "import csv\n",
        "from collections import namedtuple\n",
        "from functools import reduce\n",
        "\n",
        "#store tuples from the records of the provided CSV file\n",
        "tree = namedtuple('tree',['index','width','height','volume'])\n",
        "\n",
        "with open('trees.csv', newline = '') as csvfile:\n",
        "  reader = csv.reader(csvfile, delimiter=',', quotechar='|')\n",
        "  next(reader) # Skip the first line in trees.csv that contains the data lablels.\n",
        "\n",
        "  # “map” the records to tuples of type tree\n",
        "  mapper = map(lambda x: tree(int(x[0]),float(x[1]),float(x[2]),float(x[3])), reader)\n",
        "\n",
        "  trees = tuple(mapper)\n",
        "  print(trees)"
      ],
      "metadata": {
        "id": "MEQxR2iBR-zY"
      },
      "execution_count": null,
      "outputs": []
    },
    {
      "cell_type": "markdown",
      "source": [
        "# Processing CSV File"
      ],
      "metadata": {
        "id": "wj-YwBEpSPcw"
      }
    },
    {
      "cell_type": "code",
      "source": [
        "import csv\n",
        "from collections import namedtuple\n",
        "from functools import reduce\n",
        "\n",
        "tree = namedtuple(\"tree\", [\"index\", \"width\", \"height\", \"volume\"])\n",
        "\n",
        "with open('trees.csv', newline = '') as csvfile:\n",
        "  reader = csv.reader(csvfile, delimiter=',', quotechar='|')\n",
        "  next(reader)\n",
        "  mapper = map(lambda x: tree(int(x[0]), float(x[1]), int(x[2]), float(x[3])), reader)\n",
        "\n",
        "  # data of trees that have a height greater than 75\n",
        "  t = filter(lambda x: x.height > 75, mapper)\n",
        "  trees = tuple(t)\n",
        "\n",
        "  # record of the widest tree in trees\n",
        "  widest = reduce(lambda x, y: x if x.width > y.width else y, trees)"
      ],
      "metadata": {
        "id": "DFjYGZz_SO7o"
      },
      "execution_count": null,
      "outputs": []
    },
    {
      "cell_type": "markdown",
      "source": [
        "# Processing JSON file\n",
        "- unlike a CSV file, we cannot use an iterator when we read data from a JSON file\n",
        "- we will have to work with the dict type\n",
        "1. use map() to store this data as a namedtuple"
      ],
      "metadata": {
        "id": "tlJotH-TTLOF"
      }
    },
    {
      "cell_type": "code",
      "source": [
        "import json\n",
        "from collections import namedtuple\n",
        "from functools import reduce\n",
        "\n",
        "city = namedtuple(\"city\", [\"name\", \"country\", \"coordinates\", \"continent\"])\n",
        "\n",
        "with open('cities.json') as json_file:\n",
        "  data = json.load(json_file)\n",
        "\n",
        "cities = map(lambda x: city(x[\"name\"], x[\"country\"], x[\"coordinates\"], x[\"continent\"]), data[\"city\"])\n",
        "\n",
        "# all cities that are on the continent of Asia\n",
        "asia = tuple(filter(lambda x: x.continent=='Asia', cities))\n",
        "print(asia)\n",
        "\n",
        "# the western-most city in the asia\n",
        "# the western-most country is the one where the longitude is the lowest number (minimum of city.coordinates[1])\n",
        "# coordinates=[25.2048, 55.2708]\n",
        "west = reduce(lambda x,y: x if x.coordinates[1] < y.coordinates[1] else y, asia)\n",
        "\n",
        "# Code for Checkpoint 2 goes here.\n",
        "\n",
        "print(west)"
      ],
      "metadata": {
        "id": "oBLZkt46TJ0p"
      },
      "execution_count": null,
      "outputs": []
    },
    {
      "cell_type": "code",
      "source": [],
      "metadata": {
        "id": "KlSP3cG1YunK"
      },
      "execution_count": null,
      "outputs": []
    }
  ]
}