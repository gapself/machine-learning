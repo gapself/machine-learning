{
  "nbformat": 4,
  "nbformat_minor": 0,
  "metadata": {
    "colab": {
      "provenance": [],
      "authorship_tag": "ABX9TyOmK55TUmi2weQuaAkwgw8+",
      "include_colab_link": true
    },
    "kernelspec": {
      "name": "python3",
      "display_name": "Python 3"
    },
    "language_info": {
      "name": "python"
    }
  },
  "cells": [
    {
      "cell_type": "markdown",
      "metadata": {
        "id": "view-in-github",
        "colab_type": "text"
      },
      "source": [
        "<a href=\"https://colab.research.google.com/github/gapself/machine-learning-projects/blob/main/jeopardy_game_analysis.ipynb\" target=\"_parent\"><img src=\"https://colab.research.google.com/assets/colab-badge.svg\" alt=\"Open In Colab\"/></a>"
      ]
    },
    {
      "cell_type": "markdown",
      "source": [
        "# 200,000+ Jeopardy! Questions. Data about the game show."
      ],
      "metadata": {
        "id": "THNF7laPVX9q"
      }
    },
    {
      "cell_type": "markdown",
      "source": [
        "# Kaggle API instalation:"
      ],
      "metadata": {
        "id": "gLEmgc0AZY7-"
      }
    },
    {
      "cell_type": "code",
      "execution_count": 2,
      "metadata": {
        "colab": {
          "base_uri": "https://localhost:8080/"
        },
        "id": "ZcISF9p3VCul",
        "outputId": "9102f3c6-a929-42e4-97cc-2c402eaac625"
      },
      "outputs": [
        {
          "output_type": "stream",
          "name": "stdout",
          "text": [
            "Requirement already satisfied: kaggle in /usr/local/lib/python3.10/dist-packages (1.5.16)\n",
            "Requirement already satisfied: six>=1.10 in /usr/local/lib/python3.10/dist-packages (from kaggle) (1.16.0)\n",
            "Requirement already satisfied: certifi in /usr/local/lib/python3.10/dist-packages (from kaggle) (2023.7.22)\n",
            "Requirement already satisfied: python-dateutil in /usr/local/lib/python3.10/dist-packages (from kaggle) (2.8.2)\n",
            "Requirement already satisfied: requests in /usr/local/lib/python3.10/dist-packages (from kaggle) (2.31.0)\n",
            "Requirement already satisfied: tqdm in /usr/local/lib/python3.10/dist-packages (from kaggle) (4.66.1)\n",
            "Requirement already satisfied: python-slugify in /usr/local/lib/python3.10/dist-packages (from kaggle) (8.0.1)\n",
            "Requirement already satisfied: urllib3 in /usr/local/lib/python3.10/dist-packages (from kaggle) (2.0.7)\n",
            "Requirement already satisfied: bleach in /usr/local/lib/python3.10/dist-packages (from kaggle) (6.1.0)\n",
            "Requirement already satisfied: webencodings in /usr/local/lib/python3.10/dist-packages (from bleach->kaggle) (0.5.1)\n",
            "Requirement already satisfied: text-unidecode>=1.3 in /usr/local/lib/python3.10/dist-packages (from python-slugify->kaggle) (1.3)\n",
            "Requirement already satisfied: charset-normalizer<4,>=2 in /usr/local/lib/python3.10/dist-packages (from requests->kaggle) (3.3.0)\n",
            "Requirement already satisfied: idna<4,>=2.5 in /usr/local/lib/python3.10/dist-packages (from requests->kaggle) (3.4)\n"
          ]
        }
      ],
      "source": [
        "!pip install kaggle"
      ]
    },
    {
      "cell_type": "code",
      "source": [
        "!mkdir -p ~/.kaggle\n",
        "!mv kaggle.json ~/.kaggle/"
      ],
      "metadata": {
        "id": "vIX4A0W7Vb5I"
      },
      "execution_count": 4,
      "outputs": []
    },
    {
      "cell_type": "code",
      "source": [
        "!chmod 600 ~/.kaggle/kaggle.json"
      ],
      "metadata": {
        "id": "_5BAQQLwV-mx"
      },
      "execution_count": 5,
      "outputs": []
    },
    {
      "cell_type": "code",
      "source": [
        "!kaggle datasets download -d tunguz/200000-jeopardy-questions"
      ],
      "metadata": {
        "colab": {
          "base_uri": "https://localhost:8080/"
        },
        "id": "fCWfq2KQWGKy",
        "outputId": "6d88eb90-2bb6-426f-fbe4-79b0dd46ff6d"
      },
      "execution_count": 6,
      "outputs": [
        {
          "output_type": "stream",
          "name": "stdout",
          "text": [
            "Downloading 200000-jeopardy-questions.zip to /content\n",
            "\r  0% 0.00/11.5M [00:00<?, ?B/s]\r 43% 5.00M/11.5M [00:00<00:00, 30.1MB/s]\n",
            "\r100% 11.5M/11.5M [00:00<00:00, 60.5MB/s]\n"
          ]
        }
      ]
    },
    {
      "cell_type": "code",
      "source": [
        "!unzip 200000-jeopardy-questions.zip"
      ],
      "metadata": {
        "colab": {
          "base_uri": "https://localhost:8080/"
        },
        "id": "txnAfcJIWWTq",
        "outputId": "200a815f-be3a-4cb3-d0d2-9ad4734ff8c7"
      },
      "execution_count": 7,
      "outputs": [
        {
          "output_type": "stream",
          "name": "stdout",
          "text": [
            "Archive:  200000-jeopardy-questions.zip\n",
            "  inflating: JEOPARDY_CSV.csv        \n"
          ]
        }
      ]
    },
    {
      "cell_type": "code",
      "source": [
        "import pandas as pd\n",
        "\n",
        "df = pd.read_csv('JEOPARDY_CSV.csv')\n",
        "df.head()"
      ],
      "metadata": {
        "colab": {
          "base_uri": "https://localhost:8080/",
          "height": 310
        },
        "id": "W4xujj-2WZTT",
        "outputId": "104ad3d5-00e9-47cd-9169-4589572f966f"
      },
      "execution_count": 10,
      "outputs": [
        {
          "output_type": "execute_result",
          "data": {
            "text/plain": [
              "   Show Number    Air Date  ...                                           Question      Answer\n",
              "0         4680  2004-12-31  ...  For the last 8 years of his life, Galileo was ...  Copernicus\n",
              "1         4680  2004-12-31  ...  No. 2: 1912 Olympian; football star at Carlisl...  Jim Thorpe\n",
              "2         4680  2004-12-31  ...  The city of Yuma in this state has a record av...     Arizona\n",
              "3         4680  2004-12-31  ...  In 1963, live on \"The Art Linkletter Show\", th...  McDonald's\n",
              "4         4680  2004-12-31  ...  Signer of the Dec. of Indep., framer of the Co...  John Adams\n",
              "\n",
              "[5 rows x 7 columns]"
            ],
            "text/html": [
              "\n",
              "  <div id=\"df-5e8b78c2-07ac-4723-b381-5c83bb5bc7eb\" class=\"colab-df-container\">\n",
              "    <div>\n",
              "<style scoped>\n",
              "    .dataframe tbody tr th:only-of-type {\n",
              "        vertical-align: middle;\n",
              "    }\n",
              "\n",
              "    .dataframe tbody tr th {\n",
              "        vertical-align: top;\n",
              "    }\n",
              "\n",
              "    .dataframe thead th {\n",
              "        text-align: right;\n",
              "    }\n",
              "</style>\n",
              "<table border=\"1\" class=\"dataframe\">\n",
              "  <thead>\n",
              "    <tr style=\"text-align: right;\">\n",
              "      <th></th>\n",
              "      <th>Show Number</th>\n",
              "      <th>Air Date</th>\n",
              "      <th>Round</th>\n",
              "      <th>Category</th>\n",
              "      <th>Value</th>\n",
              "      <th>Question</th>\n",
              "      <th>Answer</th>\n",
              "    </tr>\n",
              "  </thead>\n",
              "  <tbody>\n",
              "    <tr>\n",
              "      <th>0</th>\n",
              "      <td>4680</td>\n",
              "      <td>2004-12-31</td>\n",
              "      <td>Jeopardy!</td>\n",
              "      <td>HISTORY</td>\n",
              "      <td>$200</td>\n",
              "      <td>For the last 8 years of his life, Galileo was ...</td>\n",
              "      <td>Copernicus</td>\n",
              "    </tr>\n",
              "    <tr>\n",
              "      <th>1</th>\n",
              "      <td>4680</td>\n",
              "      <td>2004-12-31</td>\n",
              "      <td>Jeopardy!</td>\n",
              "      <td>ESPN's TOP 10 ALL-TIME ATHLETES</td>\n",
              "      <td>$200</td>\n",
              "      <td>No. 2: 1912 Olympian; football star at Carlisl...</td>\n",
              "      <td>Jim Thorpe</td>\n",
              "    </tr>\n",
              "    <tr>\n",
              "      <th>2</th>\n",
              "      <td>4680</td>\n",
              "      <td>2004-12-31</td>\n",
              "      <td>Jeopardy!</td>\n",
              "      <td>EVERYBODY TALKS ABOUT IT...</td>\n",
              "      <td>$200</td>\n",
              "      <td>The city of Yuma in this state has a record av...</td>\n",
              "      <td>Arizona</td>\n",
              "    </tr>\n",
              "    <tr>\n",
              "      <th>3</th>\n",
              "      <td>4680</td>\n",
              "      <td>2004-12-31</td>\n",
              "      <td>Jeopardy!</td>\n",
              "      <td>THE COMPANY LINE</td>\n",
              "      <td>$200</td>\n",
              "      <td>In 1963, live on \"The Art Linkletter Show\", th...</td>\n",
              "      <td>McDonald's</td>\n",
              "    </tr>\n",
              "    <tr>\n",
              "      <th>4</th>\n",
              "      <td>4680</td>\n",
              "      <td>2004-12-31</td>\n",
              "      <td>Jeopardy!</td>\n",
              "      <td>EPITAPHS &amp; TRIBUTES</td>\n",
              "      <td>$200</td>\n",
              "      <td>Signer of the Dec. of Indep., framer of the Co...</td>\n",
              "      <td>John Adams</td>\n",
              "    </tr>\n",
              "  </tbody>\n",
              "</table>\n",
              "</div>\n",
              "    <div class=\"colab-df-buttons\">\n",
              "\n",
              "  <div class=\"colab-df-container\">\n",
              "    <button class=\"colab-df-convert\" onclick=\"convertToInteractive('df-5e8b78c2-07ac-4723-b381-5c83bb5bc7eb')\"\n",
              "            title=\"Convert this dataframe to an interactive table.\"\n",
              "            style=\"display:none;\">\n",
              "\n",
              "  <svg xmlns=\"http://www.w3.org/2000/svg\" height=\"24px\" viewBox=\"0 -960 960 960\">\n",
              "    <path d=\"M120-120v-720h720v720H120Zm60-500h600v-160H180v160Zm220 220h160v-160H400v160Zm0 220h160v-160H400v160ZM180-400h160v-160H180v160Zm440 0h160v-160H620v160ZM180-180h160v-160H180v160Zm440 0h160v-160H620v160Z\"/>\n",
              "  </svg>\n",
              "    </button>\n",
              "\n",
              "  <style>\n",
              "    .colab-df-container {\n",
              "      display:flex;\n",
              "      gap: 12px;\n",
              "    }\n",
              "\n",
              "    .colab-df-convert {\n",
              "      background-color: #E8F0FE;\n",
              "      border: none;\n",
              "      border-radius: 50%;\n",
              "      cursor: pointer;\n",
              "      display: none;\n",
              "      fill: #1967D2;\n",
              "      height: 32px;\n",
              "      padding: 0 0 0 0;\n",
              "      width: 32px;\n",
              "    }\n",
              "\n",
              "    .colab-df-convert:hover {\n",
              "      background-color: #E2EBFA;\n",
              "      box-shadow: 0px 1px 2px rgba(60, 64, 67, 0.3), 0px 1px 3px 1px rgba(60, 64, 67, 0.15);\n",
              "      fill: #174EA6;\n",
              "    }\n",
              "\n",
              "    .colab-df-buttons div {\n",
              "      margin-bottom: 4px;\n",
              "    }\n",
              "\n",
              "    [theme=dark] .colab-df-convert {\n",
              "      background-color: #3B4455;\n",
              "      fill: #D2E3FC;\n",
              "    }\n",
              "\n",
              "    [theme=dark] .colab-df-convert:hover {\n",
              "      background-color: #434B5C;\n",
              "      box-shadow: 0px 1px 3px 1px rgba(0, 0, 0, 0.15);\n",
              "      filter: drop-shadow(0px 1px 2px rgba(0, 0, 0, 0.3));\n",
              "      fill: #FFFFFF;\n",
              "    }\n",
              "  </style>\n",
              "\n",
              "    <script>\n",
              "      const buttonEl =\n",
              "        document.querySelector('#df-5e8b78c2-07ac-4723-b381-5c83bb5bc7eb button.colab-df-convert');\n",
              "      buttonEl.style.display =\n",
              "        google.colab.kernel.accessAllowed ? 'block' : 'none';\n",
              "\n",
              "      async function convertToInteractive(key) {\n",
              "        const element = document.querySelector('#df-5e8b78c2-07ac-4723-b381-5c83bb5bc7eb');\n",
              "        const dataTable =\n",
              "          await google.colab.kernel.invokeFunction('convertToInteractive',\n",
              "                                                    [key], {});\n",
              "        if (!dataTable) return;\n",
              "\n",
              "        const docLinkHtml = 'Like what you see? Visit the ' +\n",
              "          '<a target=\"_blank\" href=https://colab.research.google.com/notebooks/data_table.ipynb>data table notebook</a>'\n",
              "          + ' to learn more about interactive tables.';\n",
              "        element.innerHTML = '';\n",
              "        dataTable['output_type'] = 'display_data';\n",
              "        await google.colab.output.renderOutput(dataTable, element);\n",
              "        const docLink = document.createElement('div');\n",
              "        docLink.innerHTML = docLinkHtml;\n",
              "        element.appendChild(docLink);\n",
              "      }\n",
              "    </script>\n",
              "  </div>\n",
              "\n",
              "\n",
              "<div id=\"df-490be79c-0605-4d9f-ad35-d51939931941\">\n",
              "  <button class=\"colab-df-quickchart\" onclick=\"quickchart('df-490be79c-0605-4d9f-ad35-d51939931941')\"\n",
              "            title=\"Suggest charts.\"\n",
              "            style=\"display:none;\">\n",
              "\n",
              "<svg xmlns=\"http://www.w3.org/2000/svg\" height=\"24px\"viewBox=\"0 0 24 24\"\n",
              "     width=\"24px\">\n",
              "    <g>\n",
              "        <path d=\"M19 3H5c-1.1 0-2 .9-2 2v14c0 1.1.9 2 2 2h14c1.1 0 2-.9 2-2V5c0-1.1-.9-2-2-2zM9 17H7v-7h2v7zm4 0h-2V7h2v10zm4 0h-2v-4h2v4z\"/>\n",
              "    </g>\n",
              "</svg>\n",
              "  </button>\n",
              "\n",
              "<style>\n",
              "  .colab-df-quickchart {\n",
              "      --bg-color: #E8F0FE;\n",
              "      --fill-color: #1967D2;\n",
              "      --hover-bg-color: #E2EBFA;\n",
              "      --hover-fill-color: #174EA6;\n",
              "      --disabled-fill-color: #AAA;\n",
              "      --disabled-bg-color: #DDD;\n",
              "  }\n",
              "\n",
              "  [theme=dark] .colab-df-quickchart {\n",
              "      --bg-color: #3B4455;\n",
              "      --fill-color: #D2E3FC;\n",
              "      --hover-bg-color: #434B5C;\n",
              "      --hover-fill-color: #FFFFFF;\n",
              "      --disabled-bg-color: #3B4455;\n",
              "      --disabled-fill-color: #666;\n",
              "  }\n",
              "\n",
              "  .colab-df-quickchart {\n",
              "    background-color: var(--bg-color);\n",
              "    border: none;\n",
              "    border-radius: 50%;\n",
              "    cursor: pointer;\n",
              "    display: none;\n",
              "    fill: var(--fill-color);\n",
              "    height: 32px;\n",
              "    padding: 0;\n",
              "    width: 32px;\n",
              "  }\n",
              "\n",
              "  .colab-df-quickchart:hover {\n",
              "    background-color: var(--hover-bg-color);\n",
              "    box-shadow: 0 1px 2px rgba(60, 64, 67, 0.3), 0 1px 3px 1px rgba(60, 64, 67, 0.15);\n",
              "    fill: var(--button-hover-fill-color);\n",
              "  }\n",
              "\n",
              "  .colab-df-quickchart-complete:disabled,\n",
              "  .colab-df-quickchart-complete:disabled:hover {\n",
              "    background-color: var(--disabled-bg-color);\n",
              "    fill: var(--disabled-fill-color);\n",
              "    box-shadow: none;\n",
              "  }\n",
              "\n",
              "  .colab-df-spinner {\n",
              "    border: 2px solid var(--fill-color);\n",
              "    border-color: transparent;\n",
              "    border-bottom-color: var(--fill-color);\n",
              "    animation:\n",
              "      spin 1s steps(1) infinite;\n",
              "  }\n",
              "\n",
              "  @keyframes spin {\n",
              "    0% {\n",
              "      border-color: transparent;\n",
              "      border-bottom-color: var(--fill-color);\n",
              "      border-left-color: var(--fill-color);\n",
              "    }\n",
              "    20% {\n",
              "      border-color: transparent;\n",
              "      border-left-color: var(--fill-color);\n",
              "      border-top-color: var(--fill-color);\n",
              "    }\n",
              "    30% {\n",
              "      border-color: transparent;\n",
              "      border-left-color: var(--fill-color);\n",
              "      border-top-color: var(--fill-color);\n",
              "      border-right-color: var(--fill-color);\n",
              "    }\n",
              "    40% {\n",
              "      border-color: transparent;\n",
              "      border-right-color: var(--fill-color);\n",
              "      border-top-color: var(--fill-color);\n",
              "    }\n",
              "    60% {\n",
              "      border-color: transparent;\n",
              "      border-right-color: var(--fill-color);\n",
              "    }\n",
              "    80% {\n",
              "      border-color: transparent;\n",
              "      border-right-color: var(--fill-color);\n",
              "      border-bottom-color: var(--fill-color);\n",
              "    }\n",
              "    90% {\n",
              "      border-color: transparent;\n",
              "      border-bottom-color: var(--fill-color);\n",
              "    }\n",
              "  }\n",
              "</style>\n",
              "\n",
              "  <script>\n",
              "    async function quickchart(key) {\n",
              "      const quickchartButtonEl =\n",
              "        document.querySelector('#' + key + ' button');\n",
              "      quickchartButtonEl.disabled = true;  // To prevent multiple clicks.\n",
              "      quickchartButtonEl.classList.add('colab-df-spinner');\n",
              "      try {\n",
              "        const charts = await google.colab.kernel.invokeFunction(\n",
              "            'suggestCharts', [key], {});\n",
              "      } catch (error) {\n",
              "        console.error('Error during call to suggestCharts:', error);\n",
              "      }\n",
              "      quickchartButtonEl.classList.remove('colab-df-spinner');\n",
              "      quickchartButtonEl.classList.add('colab-df-quickchart-complete');\n",
              "    }\n",
              "    (() => {\n",
              "      let quickchartButtonEl =\n",
              "        document.querySelector('#df-490be79c-0605-4d9f-ad35-d51939931941 button');\n",
              "      quickchartButtonEl.style.display =\n",
              "        google.colab.kernel.accessAllowed ? 'block' : 'none';\n",
              "    })();\n",
              "  </script>\n",
              "</div>\n",
              "    </div>\n",
              "  </div>\n"
            ]
          },
          "metadata": {},
          "execution_count": 10
        }
      ]
    },
    {
      "cell_type": "code",
      "source": [
        "df.columns"
      ],
      "metadata": {
        "colab": {
          "base_uri": "https://localhost:8080/"
        },
        "id": "cwPDJD3DWwaP",
        "outputId": "383d4460-6871-4115-9cdd-1c207aeb61ac"
      },
      "execution_count": 11,
      "outputs": [
        {
          "output_type": "execute_result",
          "data": {
            "text/plain": [
              "Index(['Show Number', ' Air Date', ' Round', ' Category', ' Value',\n",
              "       ' Question', ' Answer'],\n",
              "      dtype='object')"
            ]
          },
          "metadata": {},
          "execution_count": 11
        }
      ]
    },
    {
      "cell_type": "markdown",
      "source": [
        "# Remove leading spaces from column names"
      ],
      "metadata": {
        "id": "T6cPu878WzYv"
      }
    },
    {
      "cell_type": "markdown",
      "source": [
        "## I. First way"
      ],
      "metadata": {
        "id": "c7EeHoliXX9b"
      }
    },
    {
      "cell_type": "code",
      "source": [
        "df = df.rename(columns = {\n",
        "    ' Air Date':'Air Date'\n",
        "})"
      ],
      "metadata": {
        "id": "C_Jmd7KeW9kc"
      },
      "execution_count": 12,
      "outputs": []
    },
    {
      "cell_type": "code",
      "source": [
        "df['Air Date']"
      ],
      "metadata": {
        "colab": {
          "base_uri": "https://localhost:8080/"
        },
        "id": "itrpry-9XwvG",
        "outputId": "13d38ee2-c023-48d2-ca0e-5f7a4fbf65c2"
      },
      "execution_count": 13,
      "outputs": [
        {
          "output_type": "execute_result",
          "data": {
            "text/plain": [
              "0         2004-12-31\n",
              "1         2004-12-31\n",
              "2         2004-12-31\n",
              "3         2004-12-31\n",
              "4         2004-12-31\n",
              "             ...    \n",
              "216925    2006-05-11\n",
              "216926    2006-05-11\n",
              "216927    2006-05-11\n",
              "216928    2006-05-11\n",
              "216929    2006-05-11\n",
              "Name: Air Date, Length: 216930, dtype: object"
            ]
          },
          "metadata": {},
          "execution_count": 13
        }
      ]
    },
    {
      "cell_type": "markdown",
      "source": [
        "## II. Faster way\n",
        "The **.strip()** method removes leading and trailing spaces from a string."
      ],
      "metadata": {
        "id": "DFbgkRG4Xcyh"
      }
    },
    {
      "cell_type": "code",
      "source": [
        "df.columns = [col.strip() for col in df.columns]"
      ],
      "metadata": {
        "id": "r06NxTS6XgTd"
      },
      "execution_count": 14,
      "outputs": []
    },
    {
      "cell_type": "code",
      "source": [
        "df.columns"
      ],
      "metadata": {
        "colab": {
          "base_uri": "https://localhost:8080/"
        },
        "id": "InOcT44MYCFw",
        "outputId": "e6bf3052-f1d0-4cab-d3de-7250fb010d00"
      },
      "execution_count": 15,
      "outputs": [
        {
          "output_type": "execute_result",
          "data": {
            "text/plain": [
              "Index(['Show Number', 'Air Date', 'Round', 'Category', 'Value', 'Question',\n",
              "       'Answer'],\n",
              "      dtype='object')"
            ]
          },
          "metadata": {},
          "execution_count": 15
        }
      ]
    },
    {
      "cell_type": "markdown",
      "source": [
        "# Notes:\n",
        "Methods to delete all of the spaces:\n",
        "\n"
      ],
      "metadata": {
        "id": "Vq4Abmp9Y0s2"
      }
    },
    {
      "cell_type": "code",
      "source": [
        "word_with_spaces = 'Air Date'\n",
        "print(word_with_spaces.replace(' ',''))\n",
        "print(''.join(word_with_spaces.split()))"
      ],
      "metadata": {
        "colab": {
          "base_uri": "https://localhost:8080/"
        },
        "id": "qNYae8s6YGZI",
        "outputId": "5500ef73-3a6b-4470-b3ea-28f177f4a538"
      },
      "execution_count": 31,
      "outputs": [
        {
          "output_type": "stream",
          "name": "stdout",
          "text": [
            "AirDate\n",
            "AirDate\n"
          ]
        }
      ]
    },
    {
      "cell_type": "code",
      "source": [
        "test = \"i Wanna uSe split. i love england's landscape\"\n",
        "print(test.lower().split())"
      ],
      "metadata": {
        "colab": {
          "base_uri": "https://localhost:8080/"
        },
        "id": "wmWGNjRejrMc",
        "outputId": "658bc1d1-854a-43d0-eede-d0b99c461b26"
      },
      "execution_count": 78,
      "outputs": [
        {
          "output_type": "stream",
          "name": "stdout",
          "text": [
            "['i', 'wanna', 'use', 'split.', 'i', 'love', \"england's\", 'landscape']\n"
          ]
        }
      ]
    },
    {
      "cell_type": "markdown",
      "source": [
        "# 1. Write a filtering function (by list of words):\n",
        " that filters the dataset for questions that contains all of the words in a list of words. For example, when the list [\"King\", \"England\"] was passed to our function, the function returned a DataFrame of 152 rows. Every row had the strings \"King\" and \"England\" somewhere in its \" Question\".\n",
        "\n",
        " - The all() function is applied to the list of elements, and it returns True if it finds match"
      ],
      "metadata": {
        "id": "xKB2bpHdZMrd"
      }
    },
    {
      "cell_type": "code",
      "source": [
        "def filter_function(data, words):\n",
        "  filter = lambda x: all(word in x for word in words)\n",
        "  filter_apply = data['Question'].apply(filter)\n",
        "  return data.loc[filter_apply]"
      ],
      "metadata": {
        "id": "OyxPru1OZ0RX"
      },
      "execution_count": 37,
      "outputs": []
    },
    {
      "cell_type": "code",
      "source": [
        "filtered = filter_function(df, ['King','England'])\n",
        "print(filtered['Question'])"
      ],
      "metadata": {
        "colab": {
          "base_uri": "https://localhost:8080/"
        },
        "id": "qdcotgE7atpo",
        "outputId": "b7fdb163-0a57-42a6-d901-a08ce7a76091"
      },
      "execution_count": 42,
      "outputs": [
        {
          "output_type": "stream",
          "name": "stdout",
          "text": [
            "4953      Both England's King George V & FDR put their s...\n",
            "14912     This country's King Louis IV was nicknamed \"Lo...\n",
            "21511     this man and his son ruled England following t...\n",
            "23810     William the Conqueror was crowned King of Engl...\n",
            "27555     This member of the Medici family was the mothe...\n",
            "33294     (Sarah of the Clue Crew delivers the clue from...\n",
            "41148     This French king recognized William of Orange ...\n",
            "41357     England's King Henry VIII had 3 wives named Ca...\n",
            "43122                The father of England's King Edward VI\n",
            "47814     This steak sauce was created for King George I...\n",
            "49994     Elizabeth I's half-brother, he reigned before ...\n",
            "51115     (<a href=\"http://www.j-archive.com/media/2000-...\n",
            "51565     He wrote several anthems, including \"The King ...\n",
            "56600     This city known for its 24-hour auto race was ...\n",
            "57516     Famous (& rather insulting) adjective for Engl...\n",
            "58949     He became King of England in 1399 after forcin...\n",
            "71808     Number of the William who was England's \"Sailo...\n",
            "74235     Barons & churchmen drew up this 1215 document ...\n",
            "77195     He became King of England on June 26, 1483; ju...\n",
            "79457     On Christmas Day 1066, he was crowned King of ...\n",
            "80113     England's King Charles II was known by this \"j...\n",
            "84639     He went from second banana on \"Roseanne\" to to...\n",
            "86412     This country's King Olaf V was born in England...\n",
            "89710     This 11th Century King of England also ruled D...\n",
            "111926    It begins \"John, by the grace of God, King of ...\n",
            "118809    In French this King of England is called Guill...\n",
            "123299    If you want to be crowned King of England, thi...\n",
            "123671                       King Henry VII of England dies\n",
            "125822    Famous nickname of the eldest son of England's...\n",
            "127484    Ethelred the Unready managed to lose most of E...\n",
            "127758    This state was named for the King of England w...\n",
            "129106    King Edward I of England, who fought William W...\n",
            "130208    This \"Sun King\" sniffed, \"England is a little ...\n",
            "137818    The last King William to rule England had this...\n",
            "143434    This Flemish artist painted a unique triple po...\n",
            "150880    During Stanley Baldwin's term as P.M., this Ki...\n",
            "165110    The 1st commoner to rule England, he became lo...\n",
            "165197    The \"Angel of Hadley\" is said to have saved a ...\n",
            "170007    In the 1697 Treaty of Rijswijk, the French rec...\n",
            "174055    This conqueror was crowned King of England on ...\n",
            "175259    His short reign as King of England fell in in ...\n",
            "183462    A capital in the West Indies is named for this...\n",
            "186239    He was King of England from 1189 to 1199 but s...\n",
            "187651    This Bahamian capital took its name from the f...\n",
            "191579    England's King Harold II lost the all-importan...\n",
            "192265    (<a href=\"http://www.j-archive.com/media/2012-...\n",
            "192966                   England's King _____ _____ R. Luce\n",
            "194516    The \"Monty Python\" member who played King Arth...\n",
            "200369    8th C. King Offa built a 170-mile north-south ...\n",
            "Name: Question, dtype: object\n"
          ]
        }
      ]
    },
    {
      "cell_type": "markdown",
      "source": [
        "# Improve function I\n",
        "\n",
        "Wanna find questions that contain 'king' or 'King'.\n",
        "\n",
        "Solution: lowercases all words in the list of words as well as the questions. Returns true is all of the words in the list appear in the question.\n"
      ],
      "metadata": {
        "id": "Enxmxr-VexHC"
      }
    },
    {
      "cell_type": "code",
      "source": [
        "def filter_function(data, words):\n",
        "  filter = lambda x: all(word.lower() in x.lower() for word in words)\n",
        "  filter_apply = data['Question'].apply(filter)\n",
        "  return data.loc[filter_apply]"
      ],
      "metadata": {
        "id": "kPdRXPBmewdF"
      },
      "execution_count": 43,
      "outputs": []
    },
    {
      "cell_type": "code",
      "source": [
        "filtered = filter_function(df, ['King','England'])\n",
        "print(filtered['Question'])"
      ],
      "metadata": {
        "colab": {
          "base_uri": "https://localhost:8080/"
        },
        "id": "o6lYRFbyfm0u",
        "outputId": "4175ea5e-b12c-4181-dbbb-13bc4ace2c8f"
      },
      "execution_count": 45,
      "outputs": [
        {
          "output_type": "stream",
          "name": "stdout",
          "text": [
            "4953      Both England's King George V & FDR put their s...\n",
            "6337      In retaliation for Viking raids, this \"Unready...\n",
            "9191      This king of England beat the odds to trounce ...\n",
            "11710     This Scotsman, the first Stuart king of Englan...\n",
            "13454     It's the number that followed the last king of...\n",
            "                                ...                        \n",
            "208295    In 1066 this great-great grandson of Rollo mad...\n",
            "208742    Dutch-born king who ruled England jointly with...\n",
            "213870    In 1781 William Herschel discovered Uranus & i...\n",
            "216021    His nickname was \"Bertie\", but he used this na...\n",
            "216789    This kingdom of England grew from 2 settlement...\n",
            "Name: Question, Length: 152, dtype: object\n"
          ]
        }
      ]
    },
    {
      "cell_type": "markdown",
      "source": [
        "# Improve function II\n",
        "But we dont wanna substrings of a word 'king' like 'kingdom' or 'england's'. We split sentences to find True values with lambda."
      ],
      "metadata": {
        "id": "7hCDX7YXf_w9"
      }
    },
    {
      "cell_type": "code",
      "source": [
        "def filter_function(data, words_to_find):\n",
        "  filter = lambda sentence: all(word.lower() in sentence.lower().split() for word in words_to_find)\n",
        "  filter_apply = data['Question'].apply(filter)\n",
        "  return data.loc[filter_apply]"
      ],
      "metadata": {
        "id": "W9NZaxnMgH0e"
      },
      "execution_count": 75,
      "outputs": []
    },
    {
      "cell_type": "code",
      "source": [
        "filtered = filter_function(df, ['King','England'])\n",
        "print(filtered['Question'])"
      ],
      "metadata": {
        "colab": {
          "base_uri": "https://localhost:8080/"
        },
        "id": "MSW7maHWjTRL",
        "outputId": "f3b82364-4d98-4599-a8fe-cc4c489aa8f2"
      },
      "execution_count": 76,
      "outputs": [
        {
          "output_type": "stream",
          "name": "stdout",
          "text": [
            "6337      In retaliation for Viking raids, this \"Unready...\n",
            "9191      This king of England beat the odds to trounce ...\n",
            "13454     It's the number that followed the last king of...\n",
            "14912     This country's King Louis IV was nicknamed \"Lo...\n",
            "18076     In 1199 this crusader king of England was mort...\n",
            "                                ...                        \n",
            "200369    8th C. King Offa built a 170-mile north-south ...\n",
            "201168    Popular Saint-Exupery character waiting around...\n",
            "208742    Dutch-born king who ruled England jointly with...\n",
            "213870    In 1781 William Herschel discovered Uranus & i...\n",
            "216021    His nickname was \"Bertie\", but he used this na...\n",
            "Name: Question, Length: 74, dtype: object\n"
          ]
        }
      ]
    },
    {
      "cell_type": "markdown",
      "source": [
        "# Calculate statistics like mean() on Value column\n",
        "\n",
        "First of all check the type of values in column Values.\n",
        "\n",
        " * Type 'object' - typically represents strings.\n",
        "\n",
        "We must change strings to floats values."
      ],
      "metadata": {
        "id": "yzGAML7cl1hF"
      }
    },
    {
      "cell_type": "code",
      "source": [
        "#first value in Values\n",
        "first_name_type = type(df.at[0, 'Value'])\n",
        "print(first_name_type)"
      ],
      "metadata": {
        "colab": {
          "base_uri": "https://localhost:8080/"
        },
        "id": "_JFpKcnZmCO-",
        "outputId": "c7e2bbb4-9eba-4bec-9651-efe2405cef67"
      },
      "execution_count": 87,
      "outputs": [
        {
          "output_type": "stream",
          "name": "stdout",
          "text": [
            "<class 'str'>\n"
          ]
        }
      ]
    },
    {
      "cell_type": "code",
      "source": [
        "column_data_types = df.dtypes\n",
        "print(column_data_types)"
      ],
      "metadata": {
        "colab": {
          "base_uri": "https://localhost:8080/"
        },
        "id": "4nVwPyT7n4SL",
        "outputId": "e7d5d634-dc7d-48fb-def2-734d00be2f25"
      },
      "execution_count": 90,
      "outputs": [
        {
          "output_type": "stream",
          "name": "stdout",
          "text": [
            "Show Number     int64\n",
            "Air Date       object\n",
            "Round          object\n",
            "Category       object\n",
            "Value          object\n",
            "Question       object\n",
            "Answer         object\n",
            "dtype: object\n"
          ]
        }
      ]
    },
    {
      "cell_type": "code",
      "source": [
        "print(df['Value'][0])"
      ],
      "metadata": {
        "colab": {
          "base_uri": "https://localhost:8080/"
        },
        "id": "yQBrqBmllqPC",
        "outputId": "2a4291b1-779a-4fca-978e-f6a14fe3e3dd"
      },
      "execution_count": 91,
      "outputs": [
        {
          "output_type": "stream",
          "name": "stdout",
          "text": [
            "$200\n"
          ]
        }
      ]
    },
    {
      "cell_type": "code",
      "source": [
        "df['Float Value'] = df['Value'].apply(lambda x: float(x[1:].replace(',','')) if x != 'None' else 0)"
      ],
      "metadata": {
        "id": "5aTq7CgSoqAi"
      },
      "execution_count": 97,
      "outputs": []
    },
    {
      "cell_type": "code",
      "source": [
        "print(df['Float Value'])"
      ],
      "metadata": {
        "colab": {
          "base_uri": "https://localhost:8080/"
        },
        "id": "GaWB7LyFpYcz",
        "outputId": "5b241efd-41f2-43a6-9e6e-c20b3f30e9a8"
      },
      "execution_count": 98,
      "outputs": [
        {
          "output_type": "stream",
          "name": "stdout",
          "text": [
            "0          200.0\n",
            "1          200.0\n",
            "2          200.0\n",
            "3          200.0\n",
            "4          200.0\n",
            "           ...  \n",
            "216925    2000.0\n",
            "216926    2000.0\n",
            "216927    2000.0\n",
            "216928    2000.0\n",
            "216929       0.0\n",
            "Name: Float Value, Length: 216930, dtype: float64\n"
          ]
        }
      ]
    },
    {
      "cell_type": "code",
      "source": [
        "print(df['Float Value'].mean())"
      ],
      "metadata": {
        "colab": {
          "base_uri": "https://localhost:8080/"
        },
        "id": "SEkt6o-ypdg2",
        "outputId": "fdd80609-5976-4a10-b603-e55c9fa7ced1"
      },
      "execution_count": 99,
      "outputs": [
        {
          "output_type": "stream",
          "name": "stdout",
          "text": [
            "739.9884755451067\n"
          ]
        }
      ]
    },
    {
      "cell_type": "code",
      "source": [
        "filtered = filter_function(df, ['King'])\n",
        "print(filtered['Float Value'].mean())"
      ],
      "metadata": {
        "colab": {
          "base_uri": "https://localhost:8080/"
        },
        "id": "2mTRFvXkpfTy",
        "outputId": "d3633256-ce6a-420c-f36d-cefced949acc"
      },
      "execution_count": 100,
      "outputs": [
        {
          "output_type": "stream",
          "name": "stdout",
          "text": [
            "805.4698795180723\n"
          ]
        }
      ]
    },
    {
      "cell_type": "markdown",
      "source": [
        "# A function to find the unique answers of a set of data\n",
        "f.ex. unique answers for filtered data by the word 'king'\n",
        "\n",
        "\n",
        " * The value_counts() method in pandas is used to count the number of occurrences of unique values in a Series (a column in a DataFrame). It returns a Series containing the unique values in the original Series and their respective counts in descending order.\n",
        "\n"
      ],
      "metadata": {
        "id": "24cmrSIfqc3H"
      }
    },
    {
      "cell_type": "code",
      "source": [
        "def get_answer_counts(data):\n",
        "  return data['Answer'].value_counts()"
      ],
      "metadata": {
        "id": "XZG-6ZtTqfD7"
      },
      "execution_count": 104,
      "outputs": []
    },
    {
      "cell_type": "code",
      "source": [
        "print(get_answer_counts(filtered))"
      ],
      "metadata": {
        "colab": {
          "base_uri": "https://localhost:8080/"
        },
        "id": "K3CEp4Ftq2yJ",
        "outputId": "a2ca561b-45ca-4f87-c6b3-665a4ea7b79c"
      },
      "execution_count": 105,
      "outputs": [
        {
          "output_type": "stream",
          "name": "stdout",
          "text": [
            "Henry VIII                           41\n",
            "Sweden                               24\n",
            "Solomon                              23\n",
            "Norway                               22\n",
            "Richard III                          21\n",
            "                                     ..\n",
            "Tory                                  1\n",
            "Naomi Watts Riots                     1\n",
            "Bad, Bad Leroy Brown                  1\n",
            "Elephants                             1\n",
            "a pyramid (the pyramids accepted)     1\n",
            "Name: Answer, Length: 1165, dtype: int64\n"
          ]
        }
      ]
    }
  ]
}