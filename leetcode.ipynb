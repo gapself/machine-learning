{
  "nbformat": 4,
  "nbformat_minor": 0,
  "metadata": {
    "colab": {
      "provenance": [],
      "authorship_tag": "ABX9TyM3aIinttokH6grqO8QMWQB",
      "include_colab_link": true
    },
    "kernelspec": {
      "name": "python3",
      "display_name": "Python 3"
    },
    "language_info": {
      "name": "python"
    }
  },
  "cells": [
    {
      "cell_type": "markdown",
      "metadata": {
        "id": "view-in-github",
        "colab_type": "text"
      },
      "source": [
        "<a href=\"https://colab.research.google.com/github/gapself/machine-learning-projects/blob/main/leetcode.ipynb\" target=\"_parent\"><img src=\"https://colab.research.google.com/assets/colab-badge.svg\" alt=\"Open In Colab\"/></a>"
      ]
    },
    {
      "cell_type": "markdown",
      "source": [
        "# Two Sum - HASH TABLE\n",
        "\n",
        "\n",
        "\n",
        "Given an array of integers nums and an integer target, return indices of the two numbers such that they add up to target.\n",
        "\n",
        "You may assume that each input would have exactly one solution, and you may not use the same element twice.\n",
        "\n",
        "\n",
        "------\n",
        "Input: nums = [2,7,11,15], target = 9\n",
        "\n",
        "Output: [0,1]\n",
        "\n",
        "Explanation: Because nums[0] + nums[1] == 9, we return [0, 1].\n",
        "\n",
        "Follow-up: Can you come up with an algorithm that is less than O(n2) time complexity?\n",
        "\n",
        "\n",
        "\n"
      ],
      "metadata": {
        "id": "lgG7mYq8ilsZ"
      }
    },
    {
      "cell_type": "markdown",
      "source": [
        "### 1. Easy solution but not good (with  time complexity of O(n^2)):\n",
        "\n",
        "runtime: 2655 ms"
      ],
      "metadata": {
        "id": "CN4hyUFPnHeo"
      }
    },
    {
      "cell_type": "code",
      "source": [
        "class Solution(object):\n",
        "    def twoSum(self, nums, target):\n",
        "        print(\"Enumerate nums:\", list(enumerate(nums)))\n",
        "        for idx,num in enumerate(nums): #outer loop iterates from the first element to the second-to-last element\n",
        "            for idx_2 in range(idx+1,len(nums)): # case1: range (1,5) # inner loop iterates from the next element to the last element.\n",
        "                other_num = nums[idx_2]\n",
        "                two_sum = num + other_num\n",
        "                if two_sum == target:\n",
        "                    ids = [idx,idx_2]\n",
        "        return ids\n",
        "\n",
        "case1 = Solution()\n",
        "case2 = Solution()\n",
        "case3 = Solution()\n",
        "print(case1.twoSum([2,7,11,15],9))\n",
        "print(case2.twoSum([3,2,4], 6))\n",
        "print(case3.twoSum([3,3], 6))"
      ],
      "metadata": {
        "colab": {
          "base_uri": "https://localhost:8080/"
        },
        "id": "gGZpatRDjTG4",
        "outputId": "1bc8d365-61cd-4c4d-bf20-c2ded133a2bd"
      },
      "execution_count": null,
      "outputs": [
        {
          "output_type": "stream",
          "name": "stdout",
          "text": [
            "Enumerate nums: [(0, 2), (1, 7), (2, 11), (3, 15)]\n",
            "[0, 1]\n",
            "Enumerate nums: [(0, 3), (1, 2), (2, 4)]\n",
            "[1, 2]\n",
            "Enumerate nums: [(0, 3), (1, 3)]\n",
            "[0, 1]\n"
          ]
        }
      ]
    },
    {
      "cell_type": "code",
      "source": [
        "# even slower\n",
        "class Solution():\n",
        "  def twoSum(self, nums, target):\n",
        "    dictio = {}\n",
        "    for idx,el in enumerate(nums):\n",
        "      dictio[idx] = el # dictionary_name[key] = value\n",
        "      diff = target - el # 7 = 9-2\n",
        "      nums[idx] = None\n",
        "      if diff >= 0 and diff in nums:\n",
        "        return [idx, nums.index(diff)]\n",
        "\n",
        "case1 = Solution()\n",
        "case2 = Solution()\n",
        "case3 = Solution()\n",
        "print(case1.twoSum([2,7,11,15],9))\n",
        "print(case2.twoSum([3,2,4], 6))\n",
        "print(case3.twoSum([3,3], 6))"
      ],
      "metadata": {
        "colab": {
          "base_uri": "https://localhost:8080/"
        },
        "id": "ntVd89Ye0oh_",
        "outputId": "cd2290ce-ac73-4c27-88e4-197b8f136104"
      },
      "execution_count": null,
      "outputs": [
        {
          "output_type": "stream",
          "name": "stdout",
          "text": [
            "[0, 1]\n",
            "[1, 2]\n",
            "[0, 1]\n"
          ]
        }
      ]
    },
    {
      "cell_type": "markdown",
      "source": [
        "### 2. Efficient approach is to use a HASH TABLE\n",
        "\n",
        "runtime: 35 ms"
      ],
      "metadata": {
        "id": "NjzptL7enWpg"
      }
    },
    {
      "cell_type": "code",
      "source": [
        "# lil reminder # dict[key] = value / .get(key) = value\n",
        "class Solution(object):\n",
        "  def twoSum(self, nums, target):\n",
        "    hash_table = {}\n",
        "    for i in range(len(nums)):\n",
        "      diff = target - nums[i] # 7 = 9-2\n",
        "      if diff in hash_table:\n",
        "        return [hash_table.get(diff),i]\n",
        "      else:\n",
        "        hash_table[nums[i]] =  i # {2:0}\n",
        "\n",
        "case1 = Solution()\n",
        "case2 = Solution()\n",
        "case3 = Solution()\n",
        "print(case1.twoSum([2,7,11,15],9))\n",
        "print(case2.twoSum([3,2,4], 6))\n",
        "print(case3.twoSum([3,3], 6))"
      ],
      "metadata": {
        "colab": {
          "base_uri": "https://localhost:8080/"
        },
        "id": "tyVvDrpujTE2",
        "outputId": "95a1eb96-b638-42bd-ba98-88636c342bb3"
      },
      "execution_count": null,
      "outputs": [
        {
          "output_type": "stream",
          "name": "stdout",
          "text": [
            "[0, 1]\n",
            "[1, 2]\n",
            "[0, 1]\n"
          ]
        }
      ]
    },
    {
      "cell_type": "markdown",
      "source": [
        "# Palindrome Number\n",
        "\n",
        "Given an integer x, return true if x is a\n",
        "palindrome, and false otherwise.\n",
        "______________\n",
        "\n",
        "Example 1:\n",
        "\n",
        "Input: x = 121\n",
        "\n",
        "Output: true\n",
        "\n",
        "Explanation: 121 reads as 121 from left to right and from right to left.\n",
        "\n",
        "\n",
        "-121 / 123 is not palindrome\n",
        "\n",
        "wow / patap / kazuzak / 1221 / 1234321 is palindrone\n",
        "_________________\n",
        "\n",
        "28 = 16 (2^4) + 8 (2^3) + 4 (2^2)\n",
        "\n",
        "1 (for 16) 1 (for 8) 1 (for 4) 0 (no for 2) 0 ( no for 1)\n",
        "\n",
        "so its 11100\n",
        "\n",
        "19 = 16 (2^4) + 2 (2^1) + 1\n",
        "\n",
        "1 (yes for 16) 0 (for 8) 0 (for 4) 1 (for 2) 1 (for 1)\n",
        "\n",
        "so its 10011\n",
        "\n",
        "____________________\n",
        "1. The intuition: check if the reversed number is equal to the original number. If they are the same, then the number is a palindrome.\n",
        "\n",
        "2. Palindrome nums CAN'T be negative like: -121 is not palindrome\n",
        "3. We can find last digit of a number -  use modulo operator %. When modulo divided by 10 returns its last digit.\n",
        "\n",
        "// - this is floor division = rounded division\n",
        "\n",
        "\n"
      ],
      "metadata": {
        "id": "91Mv-Ylq93bn"
      }
    },
    {
      "cell_type": "code",
      "source": [
        "class Solution(object):\n",
        "    def isPalindrome(self, x): #24\n",
        "      if x < 0:\n",
        "        return False\n",
        "\n",
        "      x_reversed = 0 #1)=0 2)=4\n",
        "      num = x #1)=24 2)=2\n",
        "\n",
        "      while num > 0: #1)=24   2)=2 #or temp !=\n",
        "          last_digit = num%10 # 1)=4   2)=2\n",
        "          x_reversed = x_reversed * 10 + last_digit #1)=0*10+4=4   2)=4*10+2=42\n",
        "          num //= 10 #1)=24//10=2   2)=42//10=4\n",
        "\n",
        "      return x_reversed == x\n",
        "\n",
        "case1 = Solution()\n",
        "case2 = Solution()\n",
        "case3 = Solution()\n",
        "print(case1.isPalindrome(24))\n",
        "print(case1.isPalindrome(121))\n",
        "print(case2.isPalindrome(-121))\n",
        "print(case3.isPalindrome(10))"
      ],
      "metadata": {
        "colab": {
          "base_uri": "https://localhost:8080/"
        },
        "id": "Gf9TD8lL_MNG",
        "outputId": "2bf60822-fbaf-48dc-a366-96cffdb34bc8"
      },
      "execution_count": null,
      "outputs": [
        {
          "output_type": "stream",
          "name": "stdout",
          "text": [
            "False\n",
            "True\n",
            "False\n",
            "False\n"
          ]
        }
      ]
    },
    {
      "cell_type": "markdown",
      "source": [
        "# Longest Common Prefix\n",
        "\n",
        "\n",
        "Write a function to find the longest common prefix string amongst an array of strings.\n",
        "\n",
        "If there is no common prefix, return an empty string \"\".\n",
        "\n"
      ],
      "metadata": {
        "id": "ikHwLxPFnC8L"
      }
    },
    {
      "cell_type": "code",
      "source": [
        "class Solution(object):\n",
        "    def longestCommonPrefix(self, strs):\n",
        "      prefix = \"\"\n",
        "      dicto = []\n",
        "      sorted_list = sorted(strs)\n",
        "\n",
        "      first=sorted_list[0]\n",
        "      last=sorted_list[-1]\n",
        "      for i in range(min(len(first),len(last))):\n",
        "          if(first[i]!=last[i]):\n",
        "              return prefix\n",
        "          prefix+=first[i]\n",
        "      return prefix\n",
        "\n",
        "case1 = Solution()\n",
        "case2 = Solution()\n",
        "case3 = Solution()\n",
        "case4 = Solution()\n",
        "case5 = Solution()\n",
        "\n",
        "print(case1.longestCommonPrefix([\"flower\",\"flow\",\"flight\"])) #lower, if firs_lett = cutted\n",
        "print(case2.longestCommonPrefix([\"dog\",\"racecar\",\"car\"]))\n",
        "print(case3.longestCommonPrefix([\"dog\",\"doggo\",\"dogsio\"]))\n",
        "print(case4.longestCommonPrefix([\"\"]))\n",
        "print(case5.longestCommonPrefix([\"ab\", \"a\"]))"
      ],
      "metadata": {
        "colab": {
          "base_uri": "https://localhost:8080/"
        },
        "id": "m-RyfH3Knpcc",
        "outputId": "21e23401-9dd2-470b-c5dd-7becdc736851"
      },
      "execution_count": null,
      "outputs": [
        {
          "output_type": "stream",
          "name": "stdout",
          "text": [
            "fl\n",
            "\n",
            "dog\n",
            "\n",
            "a\n"
          ]
        }
      ]
    },
    {
      "cell_type": "markdown",
      "source": [
        "# Sum of Two Integers - BIT MANIPULATION\n",
        "\n",
        "\n",
        "Given two integers a and b, return the sum of the two integers without using the operators + and -.\n",
        "\n",
        "----------------\n",
        "\n",
        "Example 1:\n",
        "\n",
        "Input: a = 1, b = 2\n",
        "Output: 3\n",
        "\n",
        "Example 2:\n",
        "\n",
        "Input: a = 2, b = 3\n",
        "Output: 5\n",
        "\n",
        "\n",
        "\n"
      ],
      "metadata": {
        "id": "GYGzrTL6EdCu"
      }
    },
    {
      "cell_type": "code",
      "source": [],
      "metadata": {
        "id": "aNx-DHju92Z4"
      },
      "execution_count": null,
      "outputs": []
    }
  ]
}