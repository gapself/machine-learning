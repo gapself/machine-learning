{
  "nbformat": 4,
  "nbformat_minor": 0,
  "metadata": {
    "colab": {
      "provenance": [],
      "authorship_tag": "ABX9TyOlo16hQUtKLLDIGGt5Vkw5",
      "include_colab_link": true
    },
    "kernelspec": {
      "name": "python3",
      "display_name": "Python 3"
    },
    "language_info": {
      "name": "python"
    }
  },
  "cells": [
    {
      "cell_type": "markdown",
      "metadata": {
        "id": "view-in-github",
        "colab_type": "text"
      },
      "source": [
        "<a href=\"https://colab.research.google.com/github/gapself/machine-learning-projects/blob/main/leetcode.ipynb\" target=\"_parent\"><img src=\"https://colab.research.google.com/assets/colab-badge.svg\" alt=\"Open In Colab\"/></a>"
      ]
    },
    {
      "cell_type": "markdown",
      "source": [
        "## Two Sum\n",
        "\n",
        "\n",
        "\n",
        "Given an array of integers nums and an integer target, return indices of the two numbers such that they add up to target.\n",
        "\n",
        "You may assume that each input would have exactly one solution, and you may not use the same element twice.\n",
        "\n",
        "\n",
        "------\n",
        "Input: nums = [2,7,11,15], target = 9\n",
        "\n",
        "Output: [0,1]\n",
        "\n",
        "Explanation: Because nums[0] + nums[1] == 9, we return [0, 1].\n",
        "\n",
        "Follow-up: Can you come up with an algorithm that is less than O(n2) time complexity?\n",
        "\n",
        "\n",
        "\n"
      ],
      "metadata": {
        "id": "lgG7mYq8ilsZ"
      }
    },
    {
      "cell_type": "markdown",
      "source": [
        "1. Easy solution but not the best (with  time complexity of O(n^2)):\n",
        "\n",
        "runtime: 2655 ms"
      ],
      "metadata": {
        "id": "CN4hyUFPnHeo"
      }
    },
    {
      "cell_type": "code",
      "source": [
        "class Solution(object):\n",
        "    def twoSum(self, nums, target):\n",
        "        print(\"Enumerate nums:\", list(enumerate(nums)))\n",
        "        for idx,num in enumerate(nums): #outer loop iterates from the first element to the second-to-last element\n",
        "            for idx_2 in range(idx+1,len(nums)): # case1: range (1,5) # inner loop iterates from the next element to the last element.\n",
        "                other_num = nums[idx_2]\n",
        "                two_sum = num + other_num\n",
        "                if two_sum == target:\n",
        "                    ids = [idx,idx_2]\n",
        "        return ids\n",
        "\n",
        "case1 = Solution()\n",
        "case2 = Solution()\n",
        "case3 = Solution()\n",
        "print(case1.twoSum([2,7,11,15],9))\n",
        "print(case2.twoSum([3,2,4], 6))\n",
        "print(case3.twoSum([3,3], 6))"
      ],
      "metadata": {
        "colab": {
          "base_uri": "https://localhost:8080/"
        },
        "id": "gGZpatRDjTG4",
        "outputId": "1bc8d365-61cd-4c4d-bf20-c2ded133a2bd"
      },
      "execution_count": 52,
      "outputs": [
        {
          "output_type": "stream",
          "name": "stdout",
          "text": [
            "Enumerate nums: [(0, 2), (1, 7), (2, 11), (3, 15)]\n",
            "[0, 1]\n",
            "Enumerate nums: [(0, 3), (1, 2), (2, 4)]\n",
            "[1, 2]\n",
            "Enumerate nums: [(0, 3), (1, 3)]\n",
            "[0, 1]\n"
          ]
        }
      ]
    },
    {
      "cell_type": "code",
      "source": [
        "# even slower\n",
        "class Solution():\n",
        "  def twoSum(self, nums, target):\n",
        "    dictio = {}\n",
        "    for idx,el in enumerate(nums):\n",
        "      dictio[idx] = el # dictionary_name[key] = value\n",
        "      diff = target - el # 7 = 9-2\n",
        "      nums[idx] = None\n",
        "      if diff >= 0 and diff in nums:\n",
        "        return [idx, nums.index(diff)]\n",
        "\n",
        "case1 = Solution()\n",
        "case2 = Solution()\n",
        "case3 = Solution()\n",
        "print(case1.twoSum([2,7,11,15],9))\n",
        "print(case2.twoSum([3,2,4], 6))\n",
        "print(case3.twoSum([3,3], 6))"
      ],
      "metadata": {
        "colab": {
          "base_uri": "https://localhost:8080/"
        },
        "id": "ntVd89Ye0oh_",
        "outputId": "cd2290ce-ac73-4c27-88e4-197b8f136104"
      },
      "execution_count": 53,
      "outputs": [
        {
          "output_type": "stream",
          "name": "stdout",
          "text": [
            "[0, 1]\n",
            "[1, 2]\n",
            "[0, 1]\n"
          ]
        }
      ]
    },
    {
      "cell_type": "markdown",
      "source": [
        "2. More efficient approach is to use a hash table\n",
        "\n",
        "runtime: 35 ms"
      ],
      "metadata": {
        "id": "NjzptL7enWpg"
      }
    },
    {
      "cell_type": "code",
      "source": [
        "# lil reminder # dict[key] = value / .get(key) = value\n",
        "class Solution(object):\n",
        "  def twoSum(self, nums, target):\n",
        "    hash_table = {}\n",
        "    for i in range(len(nums)):\n",
        "      diff = target - nums[i] # 7 = 9-2\n",
        "      if diff in hash_table:\n",
        "        return [hash_table.get(diff),i]\n",
        "      else:\n",
        "        hash_table[nums[i]] =  i # {2:0}\n",
        "\n",
        "case1 = Solution()\n",
        "case2 = Solution()\n",
        "case3 = Solution()\n",
        "print(case1.twoSum([2,7,11,15],9))\n",
        "print(case2.twoSum([3,2,4], 6))\n",
        "print(case3.twoSum([3,3], 6))"
      ],
      "metadata": {
        "colab": {
          "base_uri": "https://localhost:8080/"
        },
        "id": "tyVvDrpujTE2",
        "outputId": "95a1eb96-b638-42bd-ba98-88636c342bb3"
      },
      "execution_count": 124,
      "outputs": [
        {
          "output_type": "stream",
          "name": "stdout",
          "text": [
            "[0, 1]\n",
            "[1, 2]\n",
            "[0, 1]\n"
          ]
        }
      ]
    }
  ]
}