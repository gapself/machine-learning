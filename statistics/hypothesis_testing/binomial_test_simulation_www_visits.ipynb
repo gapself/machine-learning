{
  "nbformat": 4,
  "nbformat_minor": 0,
  "metadata": {
    "colab": {
      "provenance": [],
      "authorship_tag": "ABX9TyNTsWqld2eA8C2n7LS/eAnb",
      "include_colab_link": true
    },
    "kernelspec": {
      "name": "python3",
      "display_name": "Python 3"
    },
    "language_info": {
      "name": "python"
    }
  },
  "cells": [
    {
      "cell_type": "markdown",
      "metadata": {
        "id": "view-in-github",
        "colab_type": "text"
      },
      "source": [
        "<a href=\"https://colab.research.google.com/github/gapself/machine-learning-projects/blob/main/statistics/hypothesis_testing/binomial_test_simulation_www_visits.ipynb\" target=\"_parent\"><img src=\"https://colab.research.google.com/assets/colab-badge.svg\" alt=\"Open In Colab\"/></a>"
      ]
    },
    {
      "cell_type": "markdown",
      "source": [
        "the binomial distribution describes the number of expected “successes” in an experiment with some number of “trials”. This experiment consisted of 500 people visiting Live-it-LIVE.com. For each of those trials (visitors), we expected a 10% chance of a purchase (success), but observed only 41 successes (less than 10%).\n",
        "\n"
      ],
      "metadata": {
        "id": "YYp1_WPzPCh1"
      }
    },
    {
      "cell_type": "markdown",
      "source": [
        "alternative hypothesis is that the probability of a visitor making a purchase was less than 10% (0.1)."
      ],
      "metadata": {
        "id": "KTLBpf4RQMtt"
      }
    },
    {
      "cell_type": "markdown",
      "source": [
        "zero hypothesis is that -||- is 10%."
      ],
      "metadata": {
        "id": "ambxRTTxQjZF"
      }
    },
    {
      "cell_type": "markdown",
      "source": [
        "# Binomial Testing - DIY"
      ],
      "metadata": {
        "id": "UK7gl3RnO8LD"
      }
    },
    {
      "cell_type": "code",
      "execution_count": 5,
      "metadata": {
        "colab": {
          "base_uri": "https://localhost:8080/"
        },
        "id": "-sbyqKSPOULD",
        "outputId": "82f35b8d-a465-4eb4-8476-5e8f35ce12da"
      },
      "outputs": [
        {
          "output_type": "stream",
          "name": "stdout",
          "text": [
            "simulation p-value:  0.2525\n",
            "binom_test p-value:  0.254689260562342\n"
          ]
        },
        {
          "output_type": "stream",
          "name": "stderr",
          "text": [
            "<ipython-input-5-f18d32360ffa>:23: DeprecationWarning: 'binom_test' is deprecated in favour of 'binomtest' from version 1.7.0 and will be removed in Scipy 1.12.0.\n",
            "  p_value2 = binom_test(45, 500, .1, alternative = 'less')\n"
          ]
        }
      ],
      "source": [
        "import numpy as np\n",
        "import pandas as pd\n",
        "from scipy.stats import binom_test\n",
        "\n",
        "def simulation_binomial_test(observed_successes, n, p):\n",
        "\n",
        "  null_outcomes = []\n",
        "\n",
        "  #generate the simulated null distribution\n",
        "  for i in range(10000):\n",
        "    simulated_monthly_visitors = np.random.choice(['y', 'n'], size=n, p=[p, 1-p])\n",
        "    num_purchased = np.sum(simulated_monthly_visitors == 'y')\n",
        "    null_outcomes.append(num_purchased)\n",
        "\n",
        "  #calculate a 1-sided p-value\n",
        "  null_outcomes = np.array(null_outcomes)\n",
        "  p_value = np.sum(null_outcomes <= observed_successes)/len(null_outcomes)\n",
        "  return p_value\n",
        "\n",
        "p_value1 = simulation_binomial_test(45, 500, .1)\n",
        "print(\"simulation p-value: \", p_value1)\n",
        "\n",
        "p_value2 = binom_test(45, 500, .1, alternative = 'less')\n",
        "print(\"binom_test p-value: \", p_value2)"
      ]
    },
    {
      "cell_type": "markdown",
      "source": [
        "# Binomial Testing with SciPy\n"
      ],
      "metadata": {
        "id": "UII3NU2rO4CZ"
      }
    },
    {
      "cell_type": "code",
      "source": [
        "p_value_2sided = binom_test(41, 500, .1)\n",
        "print(p_value_2sided)\n",
        "\n",
        "p_value_1sided = binom_test(41, 500, .1, alternative = 'less')\n",
        "print(p_value_1sided)"
      ],
      "metadata": {
        "colab": {
          "base_uri": "https://localhost:8080/"
        },
        "id": "jtvDYMQ1Q4m_",
        "outputId": "acd10691-0006-445a-d63b-bfa41ffac25f"
      },
      "execution_count": 7,
      "outputs": [
        {
          "output_type": "stream",
          "name": "stdout",
          "text": [
            "0.20456397700682577\n",
            "0.10011352697567102\n"
          ]
        },
        {
          "output_type": "stream",
          "name": "stderr",
          "text": [
            "<ipython-input-7-1aa4af837d20>:1: DeprecationWarning: 'binom_test' is deprecated in favour of 'binomtest' from version 1.7.0 and will be removed in Scipy 1.12.0.\n",
            "  p_value_2sided = binom_test(41, 500, .1)\n",
            "<ipython-input-7-1aa4af837d20>:4: DeprecationWarning: 'binom_test' is deprecated in favour of 'binomtest' from version 1.7.0 and will be removed in Scipy 1.12.0.\n",
            "  p_value_1sided = binom_test(41, 500, .1, alternative = 'less')\n"
          ]
        }
      ]
    },
    {
      "cell_type": "markdown",
      "source": [
        "# Interpreting a P-Value based on a Significance Threshold\n"
      ],
      "metadata": {
        "id": "8xvVteLbZSzD"
      }
    },
    {
      "cell_type": "markdown",
      "source": [
        "we want to remove our quiz question from our website if the probability of a correct response is different from 70%. Suppose we collected data from 100 learners and ran a binomial hypothesis test with the following null and alternative hypotheses:\n",
        "\n",
        "* Null: The probability that a learner gets the question correct is 70%.\n",
        "\n",
        "* Alternative: The probability that a learner gets the question correct is not 70%.\n",
        "\n",
        " Using a significance threshold of 0.05, should we remove the question from our site?"
      ],
      "metadata": {
        "id": "ER4lCbApZXHh"
      }
    },
    {
      "cell_type": "code",
      "source": [
        "p_value1 = .062\n",
        "remove_question_1 = 'no'\n",
        "\n",
        "p_value2 = 0.013\n",
        "remove_question_2 = 'yes'"
      ],
      "metadata": {
        "id": "Z5tcCLx1Z4VB"
      },
      "execution_count": 8,
      "outputs": []
    }
  ]
}