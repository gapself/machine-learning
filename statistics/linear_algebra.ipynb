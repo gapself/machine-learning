{
  "nbformat": 4,
  "nbformat_minor": 0,
  "metadata": {
    "colab": {
      "provenance": [],
      "authorship_tag": "ABX9TyOxazgy2EvbX8HUiQqBNfDe",
      "include_colab_link": true
    },
    "kernelspec": {
      "name": "python3",
      "display_name": "Python 3"
    },
    "language_info": {
      "name": "python"
    }
  },
  "cells": [
    {
      "cell_type": "markdown",
      "metadata": {
        "id": "view-in-github",
        "colab_type": "text"
      },
      "source": [
        "<a href=\"https://colab.research.google.com/github/gapself/machine-learning-projects/blob/main/statistics/linear_algebra.ipynb\" target=\"_parent\"><img src=\"https://colab.research.google.com/assets/colab-badge.svg\" alt=\"Open In Colab\"/></a>"
      ]
    },
    {
      "cell_type": "code",
      "execution_count": 12,
      "metadata": {
        "colab": {
          "base_uri": "https://localhost:8080/"
        },
        "id": "A83XF4IPQQJ8",
        "outputId": "1db161f9-b444-4988-ce95-eaa8d5579fe0"
      },
      "outputs": [
        {
          "output_type": "stream",
          "name": "stdout",
          "text": [
            "[[-2  4  5]\n",
            " [-6  1 -7]\n",
            " [ 2 -3  9]\n",
            " [ 3  8  0]]\n",
            "(4, 3)\n",
            "Ostatni wiersz:\n",
            "[3 8 0]\n",
            "Ostatnia kolumna:\n",
            "[ 5 -7  9  0]\n",
            "[ 5 -7  9  0]\n"
          ]
        }
      ],
      "source": [
        "import numpy as np\n",
        "\n",
        "vector_1 = np.array([-2,-6,2,3])\n",
        "vector_2 = np.array([4,1,-3,8])\n",
        "vector_3 = np.array([5,-7,9,0])\n",
        "\n",
        "\n",
        "matrix = np.column_stack((vector_1, vector_2, vector_3))\n",
        "print(matrix)\n",
        "print(matrix.shape)\n",
        "print('Ostatni wiersz:')\n",
        "print(matrix[-1,:])\n",
        "print('Ostatnia kolumna:')\n",
        "print(matrix[:,-1])\n",
        "print(matrix[:,2])"
      ]
    },
    {
      "cell_type": "code",
      "source": [
        "#matrix\n",
        "A = np.array([[2,3,-4], [-2, 1, -3]])\n",
        "print(A.shape)\n",
        "B = np.array([[1,-1,4], [3,-3,3]])\n",
        "print(B.shape)\n",
        "C = np.array([[1, 2], [3, 4], [5, 6]])\n",
        "print(C.shape)\n",
        "\n",
        "#vector\n",
        "v = np.array([-1,-2,-3])\n",
        "u = np.array([2,2,2])\n",
        "UV = np.dot(v,u)\n",
        "print(UV)\n",
        "\n",
        "D = 4*A - 2*B\n",
        "print(f'\\nMacierz D:\\n {D} \\n z rozmiarem {D.shape} \\n')\n",
        "\n",
        "E = np.matmul(A,C)\n",
        "print(f'Macierz E:\\n {E} \\n z rozmiarem {E.shape} \\n')\n",
        "\n",
        "F = C@A\n",
        "print(f'Macierz F:\\n {F} \\n z rozmiarem {F.shape}')"
      ],
      "metadata": {
        "colab": {
          "base_uri": "https://localhost:8080/"
        },
        "id": "J6n8cgf-QY9U",
        "outputId": "317f1732-8973-4aa8-c929-f3bb76acca1b"
      },
      "execution_count": 13,
      "outputs": [
        {
          "output_type": "stream",
          "name": "stdout",
          "text": [
            "(2, 3)\n",
            "(2, 3)\n",
            "(3, 2)\n",
            "-12\n",
            "\n",
            "Macierz D:\n",
            " [[  6  14 -24]\n",
            " [-14  10 -18]] \n",
            " z rozmiarem (2, 3) \n",
            "\n",
            "Macierz E:\n",
            " [[ -9  -8]\n",
            " [-14 -18]] \n",
            " z rozmiarem (2, 2) \n",
            "\n",
            "Macierz F:\n",
            " [[ -2   5 -10]\n",
            " [ -2  13 -24]\n",
            " [ -2  21 -38]] \n",
            " z rozmiarem (3, 3)\n"
          ]
        }
      ]
    },
    {
      "cell_type": "code",
      "source": [
        "# 4x4 identity matrix\n",
        "identity = np.eye(4)\n",
        "print(identity)"
      ],
      "metadata": {
        "colab": {
          "base_uri": "https://localhost:8080/"
        },
        "id": "1UfedDoHQk-I",
        "outputId": "cc1359fc-302d-4547-d2ef-faba4e43a3c1"
      },
      "execution_count": 15,
      "outputs": [
        {
          "output_type": "stream",
          "name": "stdout",
          "text": [
            "[[1. 0. 0. 0.]\n",
            " [0. 1. 0. 0.]\n",
            " [0. 0. 1. 0.]\n",
            " [0. 0. 0. 1.]]\n"
          ]
        }
      ]
    },
    {
      "cell_type": "code",
      "source": [
        "# 5-element vector of zeros\n",
        "zero_vector = np.zeros((5))\n",
        "print(zero_vector)"
      ],
      "metadata": {
        "colab": {
          "base_uri": "https://localhost:8080/"
        },
        "id": "J6wvZom3RLhE",
        "outputId": "b21db429-767f-425a-9a6b-0edb47c8138b"
      },
      "execution_count": 17,
      "outputs": [
        {
          "output_type": "stream",
          "name": "stdout",
          "text": [
            "[0. 0. 0. 0. 0.]\n"
          ]
        }
      ]
    },
    {
      "cell_type": "markdown",
      "source": [
        "## Swap the rows and columns (a transpose) "
      ],
      "metadata": {
        "id": "P3iTqWG7hXPw"
      }
    },
    {
      "cell_type": "code",
      "source": [
        "A = np.array([[1,2],[3,4]])\n",
        "A_transpose = A.T\n",
        "print(A_transpose)"
      ],
      "metadata": {
        "colab": {
          "base_uri": "https://localhost:8080/"
        },
        "id": "eMkuvSl2RMZa",
        "outputId": "bd6a7186-3130-4157-a876-58eb15997be1"
      },
      "execution_count": 19,
      "outputs": [
        {
          "output_type": "stream",
          "name": "stdout",
          "text": [
            "[[1 3]\n",
            " [2 4]]\n"
          ]
        }
      ]
    },
    {
      "cell_type": "code",
      "source": [
        "A = np.array([[1,-1,1], [0,1,0], [-1,2,1]])\n",
        "B = np.array([[0.5,1.5,-0.5], [0,1,0], [0.5,-0.5,0.5]])\n",
        "\n",
        "print(A@B)\n",
        "print(B@A)\n",
        "#Since the matrix product of A and B results in the identity matrix, they are inverses of each other.\n",
        "print(f'A matrix:\\n {A} \\nA Matrix Transposition :\\n {A.T}')\n",
        "print(f'B matrix:\\n {B} \\nB Matrix Transposition :\\n {B.T}')"
      ],
      "metadata": {
        "colab": {
          "base_uri": "https://localhost:8080/"
        },
        "id": "8LqdrmeuRX6y",
        "outputId": "10cd9645-369d-4efa-e1ab-fd65bb91a021"
      },
      "execution_count": 21,
      "outputs": [
        {
          "output_type": "stream",
          "name": "stdout",
          "text": [
            "[[1. 0. 0.]\n",
            " [0. 1. 0.]\n",
            " [0. 0. 1.]]\n",
            "[[1. 0. 0.]\n",
            " [0. 1. 0.]\n",
            " [0. 0. 1.]]\n",
            "A matrix:\n",
            " [[ 1 -1  1]\n",
            " [ 0  1  0]\n",
            " [-1  2  1]] \n",
            "A Matrix Transposition :\n",
            " [[ 1  0 -1]\n",
            " [-1  1  2]\n",
            " [ 1  0  1]]\n",
            "B matrix:\n",
            " [[ 0.5  1.5 -0.5]\n",
            " [ 0.   1.   0. ]\n",
            " [ 0.5 -0.5  0.5]] \n",
            "B Matrix Transposition :\n",
            " [[ 0.5  0.   0.5]\n",
            " [ 1.5  1.  -0.5]\n",
            " [-0.5  0.   0.5]]\n"
          ]
        }
      ]
    },
    {
      "cell_type": "markdown",
      "source": [
        "## Solve for unknown variables in a system on linear equations:\n",
        "\n",
        "\n",
        "```\n",
        "4x + z = 2\n",
        "-y + 2z - 3x = 0\n",
        ".5y - x - 1.5z = -4\n",
        "```"
      ],
      "metadata": {
        "id": "hdoUzolHUpsj"
      }
    },
    {
      "cell_type": "code",
      "source": [
        "A = np.array([[4,0,1],[-3,-1,2],[-1,.5,-1.5]])\n",
        "b = np.array([2,0,-4])\n",
        "\n",
        "x,y,z = np.linalg.solve(A,b)\n",
        "print(f\"x = {x} \\ny = {y} \\nz = {z}\")"
      ],
      "metadata": {
        "colab": {
          "base_uri": "https://localhost:8080/"
        },
        "id": "IlU_EJFHTUwi",
        "outputId": "08dcb354-e44f-4aa2-9d15-43c478f54cb8"
      },
      "execution_count": 26,
      "outputs": [
        {
          "output_type": "stream",
          "name": "stdout",
          "text": [
            "x = 6.0 \n",
            "y = -62.0 \n",
            "z = -22.0\n"
          ]
        }
      ]
    },
    {
      "cell_type": "markdown",
      "source": [
        "\n",
        "\n",
        "```\n",
        "2a + 3d - 2c = 4\n",
        "-c + 4b - a = 1\n",
        "2d - 2c + 3a - b = 2\n",
        "-2a + 3c - b = -2\n",
        "```\n",
        "\n"
      ],
      "metadata": {
        "id": "_9wY7wJWVmsE"
      }
    },
    {
      "cell_type": "code",
      "source": [
        "A = np.array([[2,0,-2,3],[-1,4,-1,0],[3,-1,-2,2],[-2,-1,3,0]])\n",
        "b = np.array([4,1,2,-2])\n",
        "\n",
        "a,b,c,d = np.linalg.solve(A,b)\n",
        "print(a,b,c,d)"
      ],
      "metadata": {
        "colab": {
          "base_uri": "https://localhost:8080/"
        },
        "id": "bSX9obrOVoT6",
        "outputId": "a226fdd3-8f24-4d7b-9628-0b59b64c5187"
      },
      "execution_count": 29,
      "outputs": [
        {
          "output_type": "stream",
          "name": "stdout",
          "text": [
            "-1.4999999999999998 -0.5909090909090906 -1.8636363636363633 1.0909090909090908\n"
          ]
        }
      ]
    },
    {
      "cell_type": "code",
      "source": [
        "A = np.array([[2,-3,1],[3,1,1],[-1,-2,-1]])\n",
        "b = np.array([2,-1,1])\n",
        "\n",
        "x,y,z = np.linalg.solve(A,b)\n",
        "print(f\"x = {x} \\ny = {y} \\nz = {z}\")"
      ],
      "metadata": {
        "colab": {
          "base_uri": "https://localhost:8080/"
        },
        "id": "gkWU-V6gXC9n",
        "outputId": "1037ac35-886c-4eb0-ef4f-9c108774cf3a"
      },
      "execution_count": 30,
      "outputs": [
        {
          "output_type": "stream",
          "name": "stdout",
          "text": [
            "x = -0.3333333333333335 \n",
            "y = -0.6666666666666666 \n",
            "z = 0.6666666666666669\n"
          ]
        }
      ]
    },
    {
      "cell_type": "markdown",
      "source": [
        "## Image Transformations"
      ],
      "metadata": {
        "id": "Avusvko1jsY-"
      }
    },
    {
      "cell_type": "code",
      "source": [
        "import matplotlib.pyplot as plt\n",
        "\n",
        "heart_img = np.array([[255,0,0,255,0,0,255],\n",
        "              [0,255/2,255/2,0,255/2,255/2,0],\n",
        "          [0,255/2,255/2,255/2,255/2,255/2,0],\n",
        "          [0,255/2,255/2,255/2,255/2,255/2,0],\n",
        "              [255,0,255/2,255/2,255/2,0,255],\n",
        "                  [255,255,0,255/2,0,255,255],\n",
        "                  [255,255,255,0,255,255,255]])\n",
        "\n",
        "def show_image(image, name_identifier):\n",
        "  plt.imshow(image, cmap=\"gray\")\n",
        "  plt.title(name_identifier)\n",
        "  plt.show()\n",
        "\n",
        "print(show_image(heart_img, 'Heart Image'))\n",
        "\n",
        "inverted_heart_img = 255-heart_img\n",
        "print(show_image(inverted_heart_img, 'Inverted Heart Image'))\n",
        "\n",
        "rotated_heart_img = heart_img.T\n",
        "print(show_image(rotated_heart_img, 'Rotated Heart Image'))\n",
        "\n",
        "random_img = np.random.randint(0,255, (7,7))\n",
        "print(show_image(random_img, 'Random Heart Image'))\n",
        "\n",
        "x = np.linalg.solve(random_img,heart_img)\n",
        "print(show_image(x, 'x'))\n",
        "\n",
        "solved_heart_img = np.matmul(random_img,x)\n",
        "print(show_image(solved_heart_img, 'Solved Heart Image'))"
      ],
      "metadata": {
        "colab": {
          "base_uri": "https://localhost:8080/",
          "height": 1000
        },
        "id": "mvrua3p_kXC0",
        "outputId": "cce3a98a-a764-42ed-a62d-1b26b294b4c3"
      },
      "execution_count": 34,
      "outputs": [
        {
          "output_type": "display_data",
          "data": {
            "text/plain": [
              "<Figure size 432x288 with 1 Axes>"
            ],
            "image/png": "[encoded data removed]"
          },
          "metadata": {
            "needs_background": "light"
          }
        },
        {
          "output_type": "stream",
          "name": "stdout",
          "text": [
            "None\n"
          ]
        },
        {
          "output_type": "display_data",
          "data": {
            "text/plain": [
              "<Figure size 432x288 with 1 Axes>"
            ],
            "image/png": "[encoded data removed]"
          },
          "metadata": {
            "needs_background": "light"
          }
        },
        {
          "output_type": "stream",
          "name": "stdout",
          "text": [
            "None\n"
          ]
        },
        {
          "output_type": "display_data",
          "data": {
            "text/plain": [
              "<Figure size 432x288 with 1 Axes>"
            ],
            "image/png": "[encoded data removed]"
          },
          "metadata": {
            "needs_background": "light"
          }
        },
        {
          "output_type": "stream",
          "name": "stdout",
          "text": [
            "None\n"
          ]
        },
        {
          "output_type": "display_data",
          "data": {
            "text/plain": [
              "<Figure size 432x288 with 1 Axes>"
            ],
            "image/png": "[encoded data removed]"
          },
          "metadata": {
            "needs_background": "light"
          }
        },
        {
          "output_type": "stream",
          "name": "stdout",
          "text": [
            "None\n"
          ]
        },
        {
          "output_type": "display_data",
          "data": {
            "text/plain": [
              "<Figure size 432x288 with 1 Axes>"
            ],
            "image/png": "[encoded data removed]"
          },
          "metadata": {
            "needs_background": "light"
          }
        },
        {
          "output_type": "stream",
          "name": "stdout",
          "text": [
            "None\n"
          ]
        },
        {
          "output_type": "display_data",
          "data": {
            "text/plain": [
              "<Figure size 432x288 with 1 Axes>"
            ],
            "image/png": "[encoded data removed]"
          },
          "metadata": {
            "needs_background": "light"
          }
        },
        {
          "output_type": "stream",
          "name": "stdout",
          "text": [
            "None\n"
          ]
        }
      ]
    }
  ]
}