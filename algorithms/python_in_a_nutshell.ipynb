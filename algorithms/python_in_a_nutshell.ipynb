{
  "nbformat": 4,
  "nbformat_minor": 0,
  "metadata": {
    "colab": {
      "provenance": [],
      "collapsed_sections": [
        "fabqBSo4M4YD",
        "0CdrVJTs-wgU",
        "SHE98MOvGNtV",
        "Iyrn3r3l2K22"
      ],
      "toc_visible": true,
      "authorship_tag": "ABX9TyOjf4Y5W73Xtxj1Ooeff4zv",
      "include_colab_link": true
    },
    "kernelspec": {
      "name": "python3",
      "display_name": "Python 3"
    },
    "language_info": {
      "name": "python"
    }
  },
  "cells": [
    {
      "cell_type": "markdown",
      "metadata": {
        "id": "view-in-github",
        "colab_type": "text"
      },
      "source": [
        "<a href=\"https://colab.research.google.com/github/gapself/machine-learning-projects/blob/main/algorithms/python_in_a_nutshell.ipynb\" target=\"_parent\"><img src=\"https://colab.research.google.com/assets/colab-badge.svg\" alt=\"Open In Colab\"/></a>"
      ]
    },
    {
      "cell_type": "code",
      "source": [
        "import numpy as np"
      ],
      "metadata": {
        "id": "bNZ1B4O2zxNv"
      },
      "execution_count": null,
      "outputs": []
    },
    {
      "cell_type": "code",
      "source": [
        "np.arange(2,8)"
      ],
      "metadata": {
        "colab": {
          "base_uri": "https://localhost:8080/"
        },
        "id": "I_C3VlNNzr1R",
        "outputId": "fec08924-5253-4ba3-bbf5-6fab903a531e"
      },
      "execution_count": null,
      "outputs": [
        {
          "output_type": "execute_result",
          "data": {
            "text/plain": [
              "array([2, 3, 4, 5, 6, 7])"
            ]
          },
          "metadata": {},
          "execution_count": 3
        }
      ]
    },
    {
      "cell_type": "markdown",
      "source": [
        "# Typy danych w Python"
      ],
      "metadata": {
        "id": "q-5F9T3dxfke"
      }
    },
    {
      "cell_type": "markdown",
      "source": [
        "* str – string, tekstowy typ danych,\n",
        "* int – liczba,\n",
        "* float – liczba zmiennoprzecinkowa,\n",
        "* complex – liczba zespolona,\n",
        "* list – lista\n",
        "* tuple – kortka\n",
        "* range – zakres, liczby naturalne stanowiące szereg arytmetyczny,\n",
        "* dict – słownik,\n",
        "* set – zbiór,\n",
        "* frozenset – zbiór niemutowalny,\n",
        "* bool – logika boolowska,\n",
        "* bytes – konwersja ciągu na bajty,\n",
        "* bytearray – mutowalny wariant bytes,\n",
        "* memoryview – dostęp do wewnętrznych danych obiektów obsługujących bufory protokołów"
      ],
      "metadata": {
        "id": "zskHWxXTxjOD"
      }
    },
    {
      "cell_type": "markdown",
      "source": [
        "## Krotki - tuple\n",
        "\n",
        "*   niezmienny typ danych (niemutowalne)❗❗❗⛔ można z niej pobierać dane, ale nie można ich modyfikować ani usuwać\n",
        "*   odwoływanie po indeksach ✅\n",
        "*   wycinanie fragmentów ✅\n",
        "* 2 metody: count(), index()\n",
        "* funkcje: len(), max(), min(), sum(), any(), all(), sorted()\n",
        "\n"
      ],
      "metadata": {
        "id": "fabqBSo4M4YD"
      }
    },
    {
      "cell_type": "code",
      "source": [
        "names = ('ddeby', 'listy', 'tuple', 'tuple', 1, 2,2)\n",
        "print(names[0])\n",
        "print(all(names))\n",
        "print(names)"
      ],
      "metadata": {
        "colab": {
          "base_uri": "https://localhost:8080/"
        },
        "id": "j-H5z8UmNAnN",
        "outputId": "ffa3bc0e-4fee-4cbd-ed81-877ca144ac1b"
      },
      "execution_count": null,
      "outputs": [
        {
          "output_type": "stream",
          "name": "stdout",
          "text": [
            "ddeby\n",
            "True\n",
            "('ddeby', 'listy', 'tuple', 'tuple', 1, 2, 2)\n"
          ]
        }
      ]
    },
    {
      "cell_type": "markdown",
      "source": [
        "#### slicing\n",
        "tuple[Start : Stop : Stride]\n"
      ],
      "metadata": {
        "id": "0quBGm8LqbWu"
      }
    },
    {
      "cell_type": "code",
      "source": [
        "tuple[Start : Stop : Stride]"
      ],
      "metadata": {
        "id": "f2djIOkJqabv"
      },
      "execution_count": null,
      "outputs": []
    },
    {
      "cell_type": "code",
      "source": [
        "tuple= ('a','b','c','d')\n",
        "print(tuple[0:3])\n",
        "tuple= ('a','b','c','d','e','f','g','h','i','j')\n",
        "print(tuple[1:9:2])\n",
        "print(tuple[1:9:3])\n",
        "print(tuple[-1:-5:-2])"
      ],
      "metadata": {
        "colab": {
          "base_uri": "https://localhost:8080/"
        },
        "id": "PqEaDQC7qpJB",
        "outputId": "b5248892-5b5a-458d-f355-34c1b7e9ffbf"
      },
      "execution_count": null,
      "outputs": [
        {
          "output_type": "stream",
          "name": "stdout",
          "text": [
            "('a', 'b', 'c')\n",
            "('b', 'd', 'f', 'h')\n",
            "('b', 'e', 'h')\n",
            "('j', 'h')\n"
          ]
        }
      ]
    },
    {
      "cell_type": "code",
      "source": [
        "tpl = (10, 20, 30, 40)\n",
        "print(tpl[1::2]) #[1:do_końca:co_2_kroki]\n",
        "print(tpl[1:]) #od 20->\n",
        "print(tpl[1::]) #1:do_końca\n",
        "print(tpl[1:2])\n",
        "print(tpl[::2]) #[od_pocz:do_końc:co_2_kroki]\n",
        "print(tpl[:2])"
      ],
      "metadata": {
        "colab": {
          "base_uri": "https://localhost:8080/"
        },
        "id": "006ozUnMrS75",
        "outputId": "9b1a90ee-d083-4669-e08c-8b5664a37d49"
      },
      "execution_count": null,
      "outputs": [
        {
          "output_type": "stream",
          "name": "stdout",
          "text": [
            "(20, 40)\n",
            "(20, 30, 40)\n",
            "(20, 30, 40)\n",
            "(20,)\n",
            "(10, 30)\n",
            "(10, 20)\n"
          ]
        }
      ]
    },
    {
      "cell_type": "markdown",
      "source": [
        "## Set - zbiór\n",
        "- parameter: (string, tuple) or collection(set, dictionary), or an iterator object\n",
        "- mutable object but the elements of the set in non-mutable\n",
        "- cannot use indexing -> so no slicing operation\n",
        "- not contain duplicate values\n",
        "- unordered collection of items\n",
        "- can modify"
      ],
      "metadata": {
        "id": "0CdrVJTs-wgU"
      }
    },
    {
      "cell_type": "code",
      "source": [
        "my_set_1 = {1,2,3}\n",
        "my_set_2 = set([1,2,3,3,4])\n",
        "my_set_3 = set('lolloi')\n",
        "my_set_4 = set((1,2,3,3,5))\n",
        "print(my_set_2)\n",
        "print(my_set_3)\n",
        "print(my_set_4)"
      ],
      "metadata": {
        "colab": {
          "base_uri": "https://localhost:8080/"
        },
        "id": "2fTyBC4M-vFZ",
        "outputId": "695557c0-066a-4c1b-85ec-3f8650cb25f4"
      },
      "execution_count": null,
      "outputs": [
        {
          "output_type": "stream",
          "name": "stdout",
          "text": [
            "{1, 2, 3, 4}\n",
            "{'i', 'o', 'l'}\n",
            "{1, 2, 3, 5}\n"
          ]
        }
      ]
    },
    {
      "cell_type": "markdown",
      "source": [
        "#### |= is union = unique vals for 2 lists"
      ],
      "metadata": {
        "id": "cERUAcsPsSP5"
      }
    },
    {
      "cell_type": "code",
      "source": [
        "list1 = [1, 3, 5]\n",
        "set1 = {5, 1, 6, 8}\n",
        "set1 |= set(list1)\n",
        "print(set1)"
      ],
      "metadata": {
        "colab": {
          "base_uri": "https://localhost:8080/"
        },
        "id": "1CMc-lxLsO2O",
        "outputId": "2de1f636-3f38-4476-c270-39c88205d958"
      },
      "execution_count": null,
      "outputs": [
        {
          "output_type": "stream",
          "name": "stdout",
          "text": [
            "{1, 3, 5, 6, 8}\n"
          ]
        }
      ]
    },
    {
      "cell_type": "markdown",
      "source": [
        "## Listy\n",
        "\n",
        "*   mutowalne ✅   add, edit, delete\n",
        "*   odwoływanie po indeksach ✅\n",
        "*   wycinanie fragmentów ✅\n",
        "* metody: append(), clear(), copy(), extend(), index(), insert(), pop(), remove(), reverse(), sort()\n",
        "* funkcje: len(), max(), min(), sum(), any(), all(), sorted()\n"
      ],
      "metadata": {
        "id": "avU9PAWoxccS"
      }
    },
    {
      "cell_type": "code",
      "execution_count": null,
      "metadata": {
        "colab": {
          "base_uri": "https://localhost:8080/"
        },
        "id": "DvM_ukjDfFw3",
        "outputId": "b8bdd219-bf9a-4fcb-9217-1125b4373d68"
      },
      "outputs": [
        {
          "output_type": "stream",
          "name": "stdout",
          "text": [
            "[4, 3, 2, 1]\n"
          ]
        }
      ],
      "source": [
        "li = [1,2,3,4]\n",
        "reversed_li = li[::-1]\n",
        "print(reversed_li)"
      ]
    },
    {
      "cell_type": "code",
      "source": [
        "li = ['a']\n",
        "li.extend(\"code\")\n",
        "print(li)"
      ],
      "metadata": {
        "colab": {
          "base_uri": "https://localhost:8080/"
        },
        "id": "PI_DIAdmsXdA",
        "outputId": "b79fb898-3dc7-48c2-f8e5-9695ac06d406"
      },
      "execution_count": null,
      "outputs": [
        {
          "output_type": "stream",
          "name": "stdout",
          "text": [
            "['a', 'c', 'o', 'd', 'e']\n"
          ]
        }
      ]
    },
    {
      "cell_type": "code",
      "source": [
        "li = [1,2,3,4,'hi']\n",
        "reversed_li = li[::-1]\n",
        "print(reversed_li)\n",
        "print(reversed(range(1,11)))"
      ],
      "metadata": {
        "colab": {
          "base_uri": "https://localhost:8080/"
        },
        "id": "VnSAYBocsbeC",
        "outputId": "9e7f8777-b9d0-46f3-e956-ccfda9786d21"
      },
      "execution_count": null,
      "outputs": [
        {
          "output_type": "stream",
          "name": "stdout",
          "text": [
            "['hi', 4, 3, 2, 1]\n",
            "<range_iterator object at 0x7f9e25800b10>\n"
          ]
        }
      ]
    },
    {
      "cell_type": "code",
      "source": [
        "li[1] = 'lis'\n",
        "print(li)"
      ],
      "metadata": {
        "colab": {
          "base_uri": "https://localhost:8080/"
        },
        "id": "331E2OrsseJA",
        "outputId": "c35d5d64-1357-4926-bec1-852bf56027f9"
      },
      "execution_count": null,
      "outputs": [
        {
          "output_type": "stream",
          "name": "stdout",
          "text": [
            "[1, 'lis', 3, 4, 'hi']\n"
          ]
        }
      ]
    },
    {
      "cell_type": "code",
      "source": [
        "lis = 's;d'\n",
        "print(lis.split(';'))"
      ],
      "metadata": {
        "colab": {
          "base_uri": "https://localhost:8080/"
        },
        "id": "XFVqrnyVshg4",
        "outputId": "288e5019-e21c-4b8d-d82c-a0c898a64636"
      },
      "execution_count": null,
      "outputs": [
        {
          "output_type": "stream",
          "name": "stdout",
          "text": [
            "['s', 'd']\n"
          ]
        }
      ]
    },
    {
      "cell_type": "code",
      "source": [
        "lst = [1, 2, 3, 4, 5]\n",
        "print(lst[len(lst)//2:])\n",
        "print(len(lst)//2) # ile 2 w 5\n",
        "print(len(lst)/2) # 5/2=2.5\n",
        "print(lst[2:])"
      ],
      "metadata": {
        "colab": {
          "base_uri": "https://localhost:8080/"
        },
        "id": "vmkdCmBDskbf",
        "outputId": "a3735ac7-61e3-450d-b204-9bb3f1d7bdb9"
      },
      "execution_count": null,
      "outputs": [
        {
          "output_type": "stream",
          "name": "stdout",
          "text": [
            "[3, 4, 5]\n",
            "2\n",
            "2.5\n",
            "[3, 4, 5]\n"
          ]
        }
      ]
    },
    {
      "cell_type": "markdown",
      "source": [
        "## Explore atttributes of objects: data types / class object / functions"
      ],
      "metadata": {
        "id": "_JZdzC1JRjiD"
      }
    },
    {
      "cell_type": "code",
      "source": [
        "fun_list = [10, \"string\", {'abc': True}]\n",
        "\n",
        "type(fun_list) # Prints <class 'list'>\n",
        "\n",
        "print(dir(fun_list))"
      ],
      "metadata": {
        "colab": {
          "base_uri": "https://localhost:8080/"
        },
        "id": "XE_PHkLgRijB",
        "outputId": "ec68157f-1d85-4044-f7ee-621d3d607228"
      },
      "execution_count": null,
      "outputs": [
        {
          "output_type": "stream",
          "name": "stdout",
          "text": [
            "['__add__', '__class__', '__class_getitem__', '__contains__', '__delattr__', '__delitem__', '__dir__', '__doc__', '__eq__', '__format__', '__ge__', '__getattribute__', '__getitem__', '__gt__', '__hash__', '__iadd__', '__imul__', '__init__', '__init_subclass__', '__iter__', '__le__', '__len__', '__lt__', '__mul__', '__ne__', '__new__', '__reduce__', '__reduce_ex__', '__repr__', '__reversed__', '__rmul__', '__setattr__', '__setitem__', '__sizeof__', '__str__', '__subclasshook__', 'append', 'clear', 'copy', 'count', 'extend', 'index', 'insert', 'pop', 'remove', 'reverse', 'sort']\n"
          ]
        }
      ]
    },
    {
      "cell_type": "markdown",
      "source": [
        "## Słowniki\n",
        "\n",
        "*   mutowalne ✅   add, edit, delete\n",
        "*   odwoływanie po indeksach ✅\n",
        "*   wycinanie fragmentów ✅"
      ],
      "metadata": {
        "id": "DzR5NsptN6DH"
      }
    },
    {
      "cell_type": "markdown",
      "source": [
        "#For what is printing out informations?\n",
        "\n",
        "-> for debugging"
      ],
      "metadata": {
        "id": "NgDCPrFQSbu_"
      }
    },
    {
      "cell_type": "code",
      "source": [
        "class Employee():\n",
        "  def __init__(self, name):\n",
        "    self.name = name\n",
        "\n",
        "argus = Employee(\"Argus Filch\")\n",
        "print(argus)\n",
        "# prints \"<__main__.Employee object at 0x104e88390>\"\n",
        "# it doesnt say anything, it tells us only where the class is defined and our computers memory address of storing the class"
      ],
      "metadata": {
        "id": "EO7G9IjdSuGG"
      },
      "execution_count": null,
      "outputs": []
    },
    {
      "cell_type": "markdown",
      "source": [
        "# Biblioteki must know\n",
        "\n",
        "* random – biblioteka służąca do pseudolosowego generowania liczb,\n",
        "* datatime – moduł pozwalający na pracę z datą i godziną,\n",
        "* json  – zapisuje listy, logikę, liczby, krotki i słowniki do pliku JSON,\n",
        "* os – moduł pozwalający na integrację z systemem plików OS-a,\n",
        "* logging – biblioteka z API pozwalającym na zapisywanie logów"
      ],
      "metadata": {
        "id": "lUrcDyxh_nKs"
      }
    },
    {
      "cell_type": "markdown",
      "source": [],
      "metadata": {
        "id": "jdI10_1Ws4PH"
      }
    },
    {
      "cell_type": "code",
      "source": [
        "import calendar\n",
        "print(calendar.month(2023,4))"
      ],
      "metadata": {
        "colab": {
          "base_uri": "https://localhost:8080/"
        },
        "id": "pN9uM-Jfs8Sp",
        "outputId": "671424b6-a93b-4577-e07d-9b64458fc9a3"
      },
      "execution_count": null,
      "outputs": [
        {
          "output_type": "stream",
          "name": "stdout",
          "text": [
            "     April 2023\n",
            "Mo Tu We Th Fr Sa Su\n",
            "                1  2\n",
            " 3  4  5  6  7  8  9\n",
            "10 11 12 13 14 15 16\n",
            "17 18 19 20 21 22 23\n",
            "24 25 26 27 28 29 30\n",
            "\n"
          ]
        }
      ]
    },
    {
      "cell_type": "markdown",
      "source": [
        "# Parametry \\*args i \\**kwargs"
      ],
      "metadata": {
        "id": "RKx8eDsepcWE"
      }
    },
    {
      "cell_type": "markdown",
      "source": [
        "Za pomocą *args przekazujemy do funkcji dowolną liczbę argumentów pozycyjnych (tuple). Oddzielone są one od siebie przecinkami, mogą być różnego rodzaju , ale co najważniejsze nie odwołujemy się do nich poprzez ich nazwy, ale poprzez indeksy."
      ],
      "metadata": {
        "id": "1T1Xoh7bptYR"
      }
    },
    {
      "cell_type": "code",
      "source": [
        "def funkcja(*args):\n",
        "    print(\"Ilosc zmiennych: \", len(args))\n",
        "    for arg in args:\n",
        "        print(arg)\n",
        "\n",
        "funkcja(1, 2, \"abc\", [1, 2, 3])"
      ],
      "metadata": {
        "colab": {
          "base_uri": "https://localhost:8080/"
        },
        "id": "WjKx1nPbpnXm",
        "outputId": "18b81ffb-bd68-4af7-8450-43b3e193c33e"
      },
      "execution_count": null,
      "outputs": [
        {
          "output_type": "stream",
          "name": "stdout",
          "text": [
            "Ilosc zmiennych:  4\n",
            "1\n",
            "2\n",
            "abc\n",
            "[1, 2, 3]\n"
          ]
        }
      ]
    },
    {
      "cell_type": "code",
      "source": [
        "def f(*args):\n",
        "    return sum(args)\n",
        "print(f(1, 2, 3, 4, 5))"
      ],
      "metadata": {
        "colab": {
          "base_uri": "https://localhost:8080/"
        },
        "id": "0lUT1ASWsrS9",
        "outputId": "bef3d641-d141-4a78-e331-780805aa9f5f"
      },
      "execution_count": null,
      "outputs": [
        {
          "output_type": "stream",
          "name": "stdout",
          "text": [
            "15\n"
          ]
        }
      ]
    },
    {
      "cell_type": "markdown",
      "source": [
        "z **kwargs, w którym umieszczamy pary klucz-wartość, czyli zmienną słownikową (dictionary). Przetwarzając zapisane w niej dane odwołujemy się do kluczy nie zaś do indeksów."
      ],
      "metadata": {
        "id": "SK4s194xtDZM"
      }
    },
    {
      "cell_type": "code",
      "source": [
        "def funkcja(**kwargs):\n",
        "    print(\"Ilosc zmiennych: \", len(kwargs))\n",
        "    for key, value in kwargs.items():\n",
        "        print(\"{0} = {1}\".format(key, value))\n",
        "\n",
        "\n",
        "funkcja(jeden=1, dwa=2, trzy=\"abc\", cztery=[1, 2, 3])"
      ],
      "metadata": {
        "colab": {
          "base_uri": "https://localhost:8080/"
        },
        "id": "wLoHF2t5s3oc",
        "outputId": "a32f7260-d661-4220-dd14-5432bdd6d4d1"
      },
      "execution_count": null,
      "outputs": [
        {
          "output_type": "stream",
          "name": "stdout",
          "text": [
            "Ilosc zmiennych:  4\n",
            "jeden = 1\n",
            "dwa = 2\n",
            "trzy = abc\n",
            "cztery = [1, 2, 3]\n"
          ]
        }
      ]
    },
    {
      "cell_type": "markdown",
      "source": [
        "# Metody"
      ],
      "metadata": {
        "id": "IufRwpiK0zGV"
      }
    },
    {
      "cell_type": "markdown",
      "source": [
        "### abs() any() all() dir()"
      ],
      "metadata": {
        "id": "Qef1ScRn5e7i"
      }
    },
    {
      "cell_type": "code",
      "source": [
        "number = -20\n",
        "absolute_number = abs(number)\n",
        "print(absolute_number)\n",
        "\n",
        "boolean_list = ['True', 'False', 'True']\n",
        "# check if any element is true\n",
        "result = any(boolean_list)\n",
        "print(result)\n",
        "\n",
        "boolean_list = ['True', 'True', 'True']\n",
        "# check if all elements are true\n",
        "result = all(boolean_list)\n",
        "print(result)\n",
        "\n",
        "number = [12]\n",
        "# returns valid attributes of the number list\n",
        "print(dir(number))"
      ],
      "metadata": {
        "colab": {
          "base_uri": "https://localhost:8080/"
        },
        "id": "C0r2vrSM07dx",
        "outputId": "eba8ce71-3816-41d0-d07e-850193334ed4"
      },
      "execution_count": null,
      "outputs": [
        {
          "output_type": "stream",
          "name": "stdout",
          "text": [
            "20\n",
            "True\n",
            "True\n",
            "['__add__', '__class__', '__class_getitem__', '__contains__', '__delattr__', '__delitem__', '__dir__', '__doc__', '__eq__', '__format__', '__ge__', '__getattribute__', '__getitem__', '__gt__', '__hash__', '__iadd__', '__imul__', '__init__', '__init_subclass__', '__iter__', '__le__', '__len__', '__lt__', '__mul__', '__ne__', '__new__', '__reduce__', '__reduce_ex__', '__repr__', '__reversed__', '__rmul__', '__setattr__', '__setitem__', '__sizeof__', '__str__', '__subclasshook__', 'append', 'clear', 'copy', 'count', 'extend', 'index', 'insert', 'pop', 'remove', 'reverse', 'sort']\n"
          ]
        }
      ]
    },
    {
      "cell_type": "markdown",
      "source": [
        "### zip()\n",
        "\n",
        "The zip() function takes iterables (can be zero or more), aggregates them in a tuple, and returns it"
      ],
      "metadata": {
        "id": "skNZo7Tb3ShM"
      }
    },
    {
      "cell_type": "code",
      "source": [
        "languages = ['Java', 'Python', 'JavaScript']\n",
        "versions = [14, 3, 6]\n",
        "result = zip(languages, versions)\n",
        "print(list(result))"
      ],
      "metadata": {
        "colab": {
          "base_uri": "https://localhost:8080/"
        },
        "id": "RK0X41hL3Uyo",
        "outputId": "8d561c03-d867-4291-c1db-8c389152753a"
      },
      "execution_count": null,
      "outputs": [
        {
          "output_type": "stream",
          "name": "stdout",
          "text": [
            "[('Java', 14), ('Python', 3), ('JavaScript', 6)]\n"
          ]
        }
      ]
    },
    {
      "cell_type": "markdown",
      "source": [
        "### eval ()"
      ],
      "metadata": {
        "id": "GOxDyfGx2lY9"
      }
    },
    {
      "cell_type": "code",
      "source": [
        "number = 9\n",
        "# eval performs the multiplication passed as argument\n",
        "square_number = eval('number * number')\n",
        "square_number = eval('number * number * (number/number)')\n",
        "print(square_number)"
      ],
      "metadata": {
        "colab": {
          "base_uri": "https://localhost:8080/"
        },
        "id": "c2Wm0raV2kjk",
        "outputId": "4f72ecd5-9227-482f-8c51-8578378736d7"
      },
      "execution_count": null,
      "outputs": [
        {
          "output_type": "stream",
          "name": "stdout",
          "text": [
            "81.0\n"
          ]
        }
      ]
    },
    {
      "cell_type": "markdown",
      "source": [
        "### pow()"
      ],
      "metadata": {
        "id": "VmYJnU633BZO"
      }
    },
    {
      "cell_type": "code",
      "source": [
        "# compute 2^3\n",
        "print(pow(2, 3));"
      ],
      "metadata": {
        "colab": {
          "base_uri": "https://localhost:8080/"
        },
        "id": "Afn8n_NY3EM2",
        "outputId": "d5796ee6-af81-4cd4-f2dd-b0a66462a17b"
      },
      "execution_count": null,
      "outputs": [
        {
          "output_type": "stream",
          "name": "stdout",
          "text": [
            "8\n"
          ]
        }
      ]
    },
    {
      "cell_type": "markdown",
      "source": [
        "### enumerate()\n",
        "The enumerate() function converts a data collection object into an enumerate object (object with key-value pair)\n"
      ],
      "metadata": {
        "id": "Ul7QCSNU025s"
      }
    },
    {
      "cell_type": "code",
      "source": [
        "my_list = ['joe', 'harambe', 'kakashu', 'ligma', 'deez']\n",
        "print(\"The list is\", my_list)\n",
        "# Element to be searched in the list\n",
        "element = 'deez'\n",
        "\n",
        "for x, y in enumerate(my_list):\n",
        "    if y == element:\n",
        "        print(f\"Index of the element '{y}' in the list: {x-1}\")\n",
        "        break # break if element is found in the list\n",
        "else: # If element is not found in the list\n",
        "    print(element, \"is not found in the list.\")"
      ],
      "metadata": {
        "colab": {
          "base_uri": "https://localhost:8080/"
        },
        "id": "TSebk7Yw01kE",
        "outputId": "b1995c5f-938f-4538-b23d-9a6b024758d0"
      },
      "execution_count": null,
      "outputs": [
        {
          "output_type": "stream",
          "name": "stdout",
          "text": [
            "The list is ['joe', 'harambe', 'kakashu', 'ligma', 'deez']\n",
            "Index of the element 'deez' in the list: 3\n"
          ]
        }
      ]
    },
    {
      "cell_type": "markdown",
      "source": [
        "### frozenset()\n",
        "- returns an immutable frozenset object initialized with elements from the given iterable.\n",
        "- Due to this, frozen sets can be used as keys in Dictionary or as elements of another set. But like sets, it is not ordered (the elements can be set at any index).\n",
        "\n",
        "source: https://www.programiz.com/python-programming/methods/built-in/frozenset"
      ],
      "metadata": {
        "id": "riiJ0fl48q8S"
      }
    },
    {
      "cell_type": "code",
      "source": [
        "vowels = ('a', 'e', 'i', 'o', 'u')\n",
        "fSet = frozenset(vowels)\n",
        "print('The frozen set is:', fSet)\n",
        "print('The empty frozen set is:', frozenset())\n",
        "\n",
        "person = {\"name\": \"John\", \"age\": 23, \"sex\": \"male\"}\n",
        "fSet = frozenset(person)\n",
        "print('The frozen set is:', fSet)\n",
        "# frozensets are immutable so cant do that: \"AttributeError: 'frozenset' object has no attribute 'add'\"\n",
        "# fSet.add('v')"
      ],
      "metadata": {
        "colab": {
          "base_uri": "https://localhost:8080/"
        },
        "id": "mlMvb-n98vDY",
        "outputId": "713a58c1-1683-48bb-a9f8-233bb4cb3582"
      },
      "execution_count": null,
      "outputs": [
        {
          "output_type": "stream",
          "name": "stdout",
          "text": [
            "The frozen set is: frozenset({'u', 'i', 'a', 'o', 'e'})\n",
            "The empty frozen set is: frozenset()\n",
            "The frozen set is: frozenset({'age', 'sex', 'name'})\n"
          ]
        }
      ]
    },
    {
      "cell_type": "code",
      "source": [
        "A = frozenset([1, 2, 3, 4])\n",
        "B = frozenset([3, 4, 5, 6])\n",
        "\n",
        "C = A.copy()\n",
        "print(C)\n",
        "print(A.union(B))\n",
        "print(A.intersection(B))\n",
        "print(A.difference(B))\n",
        "print(A.symmetric_difference(B))"
      ],
      "metadata": {
        "colab": {
          "base_uri": "https://localhost:8080/"
        },
        "id": "lTI6UIB59DCz",
        "outputId": "9cb17a4b-b20f-4b6d-81b5-9d582d306038"
      },
      "execution_count": null,
      "outputs": [
        {
          "output_type": "stream",
          "name": "stdout",
          "text": [
            "frozenset({1, 2, 3, 4})\n",
            "frozenset({1, 2, 3, 4, 5, 6})\n",
            "frozenset({3, 4})\n",
            "frozenset({1, 2})\n",
            "frozenset({1, 2, 5, 6})\n"
          ]
        }
      ]
    },
    {
      "cell_type": "markdown",
      "source": [
        "#Funkcje\n"
      ],
      "metadata": {
        "id": "Czj7ASQtkUA3"
      }
    },
    {
      "cell_type": "markdown",
      "source": [
        "### Funkcja jako parametr"
      ],
      "metadata": {
        "id": "ML8FU3AfkQpP"
      }
    },
    {
      "cell_type": "code",
      "source": [
        "def wykonaj(funkcja, a, b):\n",
        "    x = funkcja (a, b)\n",
        "    return x\n",
        "def dodaj(a,b):\n",
        "    return a+b\n",
        "def odejmij(a,b):\n",
        "    return a-b\n",
        "wykonaj(dodaj, 2, 3)\n",
        "wykonaj(odejmij, 2, 3)"
      ],
      "metadata": {
        "colab": {
          "base_uri": "https://localhost:8080/"
        },
        "id": "5KE6OItEkipI",
        "outputId": "1ce0c6a0-822c-49e2-a8e5-64e1f43ea667"
      },
      "execution_count": null,
      "outputs": [
        {
          "output_type": "execute_result",
          "data": {
            "text/plain": [
              "-1"
            ]
          },
          "metadata": {},
          "execution_count": 2
        }
      ]
    },
    {
      "cell_type": "markdown",
      "source": [
        "### Funkcja w funkcji"
      ],
      "metadata": {
        "id": "d03Kbvswkolo"
      }
    },
    {
      "cell_type": "code",
      "source": [
        "def funk():\n",
        "\n",
        "    def funkWew(a,b):\n",
        "        return a * b\n",
        "\n",
        "    return funkWew\n",
        "x = funk()\n",
        "x(3,3)"
      ],
      "metadata": {
        "colab": {
          "base_uri": "https://localhost:8080/"
        },
        "id": "cjzudCaRkoZk",
        "outputId": "4814b412-afc7-43ad-f3b5-8d60e7ce3275"
      },
      "execution_count": null,
      "outputs": [
        {
          "output_type": "execute_result",
          "data": {
            "text/plain": [
              "9"
            ]
          },
          "metadata": {},
          "execution_count": 3
        }
      ]
    },
    {
      "cell_type": "markdown",
      "source": [
        "## Dekoratory funkcji"
      ],
      "metadata": {
        "id": "GJq06XeCmtjo"
      }
    },
    {
      "cell_type": "markdown",
      "source": [
        "Wprowadzamy druga funkcje, którą nazwaliśmy 'dekor’. Rolą tej funkcji, jest 'udekowowanie’ przekazanej jej w parametrze funkcji."
      ],
      "metadata": {
        "id": "uiX52dtNkuZY"
      }
    },
    {
      "cell_type": "code",
      "source": [
        "def zwykłaFunkcja():\n",
        "    print (\"To jest zwykła funkcja\")\n",
        "\n",
        "def dekor(funkcja):\n",
        "    def wew():\n",
        "        print(\"Dekorujemy funkcję\")\n",
        "        return funkcja()\n",
        "\n",
        "    return wew\n",
        "\n",
        "nowaFunkcja = dekor(zwykłaFunkcja)\n",
        "nowaFunkcja()"
      ],
      "metadata": {
        "colab": {
          "base_uri": "https://localhost:8080/"
        },
        "id": "sB22w6dqlDl2",
        "outputId": "0d162c29-fe46-4bb4-ca26-dec539fedcd8"
      },
      "execution_count": null,
      "outputs": [
        {
          "output_type": "stream",
          "name": "stdout",
          "text": [
            "Dekorujemy funkcję\n",
            "To jest zwykła funkcja\n"
          ]
        }
      ]
    },
    {
      "cell_type": "markdown",
      "source": [
        "Jest to znaczące ułatwienie, które oferuje Python. Jednocześnie nasz kod staje się czytelniejszy. Nasz dekorator '@dekor’, możemy umieścić przed każdą funkcją, którą chcemy udekorować.\n",
        "\n"
      ],
      "metadata": {
        "id": "c2uNZS6DlCgF"
      }
    },
    {
      "cell_type": "code",
      "source": [
        "def dekor(funkcja):\n",
        "    def wew():\n",
        "        print(\"Dekorujemy funkcję\")\n",
        "        return funkcja()\n",
        "    return wew\n",
        "\n",
        "@dekor\n",
        "def zwykłaFunkcja():\n",
        "    print (\"To jest zwykła funkcja\")\n",
        "nowaFunkcja()"
      ],
      "metadata": {
        "colab": {
          "base_uri": "https://localhost:8080/"
        },
        "id": "PQFYqT5fmLH5",
        "outputId": "6a039eec-8584-4d18-d210-16e16116c0e3"
      },
      "execution_count": null,
      "outputs": [
        {
          "output_type": "stream",
          "name": "stdout",
          "text": [
            "Dekorujemy funkcję\n",
            "To jest zwykła funkcja\n"
          ]
        }
      ]
    },
    {
      "cell_type": "markdown",
      "source": [
        "Dekorowanie funkcji z parametrami"
      ],
      "metadata": {
        "id": "eULuRCzenA70"
      }
    },
    {
      "cell_type": "code",
      "source": [
        "def dekor(funkcja):\n",
        "\n",
        "    def wew(*args, **kwargs):\n",
        "        print(\"Dekorujemy funkcję\")\n",
        "        return funkcja(*args, **kwargs)\n",
        "\n",
        "    return wew\n",
        "\n",
        "@dekor\n",
        "def zwykłaFunkcja(a, b, c):\n",
        "    print(\"To jest zwykła funkcja, która dodaje liczby:\")\n",
        "    print(a+b+c)\n",
        "\n",
        "zwykłaFunkcja(1,2,3)\n",
        "\n",
        "zwykłaFunkcja.__name__"
      ],
      "metadata": {
        "colab": {
          "base_uri": "https://localhost:8080/",
          "height": 87
        },
        "id": "U-2A5AKlnEup",
        "outputId": "da70664f-dbd3-4fdc-f37c-7362497be56d"
      },
      "execution_count": null,
      "outputs": [
        {
          "output_type": "stream",
          "name": "stdout",
          "text": [
            "Dekorujemy funkcję\n",
            "To jest zwykła funkcja, która dodaje liczby:\n",
            "6\n"
          ]
        },
        {
          "output_type": "execute_result",
          "data": {
            "text/plain": [
              "'wew'"
            ],
            "application/vnd.google.colaboratory.intrinsic+json": {
              "type": "string"
            }
          },
          "metadata": {},
          "execution_count": 17
        }
      ]
    },
    {
      "cell_type": "markdown",
      "source": [
        "print(funkcja.__name__) to uzyskamy informację, która z udekorowanych funkcji została wykonana.\n",
        "\n"
      ],
      "metadata": {
        "id": "DqSfQH_ltO7B"
      }
    },
    {
      "cell_type": "markdown",
      "source": [
        "## Funkcje rekurencyjne"
      ],
      "metadata": {
        "id": "SHE98MOvGNtV"
      }
    },
    {
      "cell_type": "markdown",
      "source": [
        "https://analityk.edu.pl/funkcje-rekurencyjne-w-python/"
      ],
      "metadata": {
        "id": "el3GqKToGMLJ"
      }
    },
    {
      "cell_type": "markdown",
      "source": [
        "## Generatory\n",
        "\n",
        "~ funkcja, którą można wstrzymać i wznowić w miejscu, w którym została zatrzymana\n",
        "\n",
        "Funkcja ta jest funkcją generującą, jej wywołanie spowoduje utworzenie generatora.\n",
        "\n",
        "\n",
        "- cecha: *leniwa ewaluacja* - czyli tworzenie kolejnych el. po odwołaniu do generatora\n",
        "- po co? - redukcja obliczeń, oszczędność pamięci, tworzenie nieskończonej ilości el.\n",
        "- yield - przerywa funkcję, zapisuje jej stan - zwraca wartość i*2, następnie wznawia działanie funkcji  w miejscu wstrzymania"
      ],
      "metadata": {
        "id": "8OJPzJCWGxu2"
      }
    },
    {
      "cell_type": "code",
      "source": [
        "def generowanie_liczb():\n",
        "    for i in range(4):\n",
        "        print(\"wstrzymuje dzialanie\")\n",
        "        yield i * 2 #wstrzymuje tu dzialanie generatora, zwraca wart.\n",
        "        print(\"wznawiam dzialanie\")\n",
        "\n",
        "for parzysta in generowanie_liczb():\n",
        "    print(parzysta)"
      ],
      "metadata": {
        "colab": {
          "base_uri": "https://localhost:8080/"
        },
        "id": "_oRdZb-i-uIH",
        "outputId": "7aa68b36-03a3-4a46-e863-a9d4af21bda5"
      },
      "execution_count": null,
      "outputs": [
        {
          "output_type": "stream",
          "name": "stdout",
          "text": [
            "wstrzymuje dzialanie\n",
            "0\n",
            "wznawiam dzialanie\n",
            "wstrzymuje dzialanie\n",
            "2\n",
            "wznawiam dzialanie\n",
            "wstrzymuje dzialanie\n",
            "4\n",
            "wznawiam dzialanie\n",
            "wstrzymuje dzialanie\n",
            "6\n",
            "wznawiam dzialanie\n"
          ]
        }
      ]
    },
    {
      "cell_type": "code",
      "source": [
        "def generowanie_liczb():\n",
        "    for i in range(5):\n",
        "        if i == 3:\n",
        "            print('i=3, więc zakończ funkcję')\n",
        "            return #kończy tu funkcję\n",
        "        else:\n",
        "            print('i!=3 więc yield wstrzymuje funkcje & generuje liczbę i wznawia funkcję:')\n",
        "            yield i #generator\n",
        "\n",
        "for el in generowanie_liczb():\n",
        "    print(el)"
      ],
      "metadata": {
        "colab": {
          "base_uri": "https://localhost:8080/"
        },
        "id": "de-Nh_1WFeNV",
        "outputId": "edcd88cf-0da0-490d-873a-70f3885bf683"
      },
      "execution_count": null,
      "outputs": [
        {
          "output_type": "stream",
          "name": "stdout",
          "text": [
            "i!=3 więc yield wstrzymuje funkcje & generuje liczbę i wznawia funkcję:\n",
            "0\n",
            "i!=3 więc yield wstrzymuje funkcje & generuje liczbę i wznawia funkcję:\n",
            "1\n",
            "i!=3 więc yield wstrzymuje funkcje & generuje liczbę i wznawia funkcję:\n",
            "2\n",
            "i=3, więc zakończ funkcję\n"
          ]
        }
      ]
    },
    {
      "cell_type": "code",
      "source": [
        "def parzyste():\n",
        "    i = 0\n",
        "    while True:\n",
        "        yield i\n",
        "        i = i + 2\n",
        "\n",
        "gen = parzyste()\n",
        "print(type(gen))\n",
        "print(gen)\n",
        "gen.__next__()"
      ],
      "metadata": {
        "colab": {
          "base_uri": "https://localhost:8080/"
        },
        "id": "6CbejFeLH8l9",
        "outputId": "aaabd971-396b-4945-8adf-4c324021895c"
      },
      "execution_count": null,
      "outputs": [
        {
          "output_type": "stream",
          "name": "stdout",
          "text": [
            "<class 'generator'>\n",
            "<generator object parzyste at 0x7f9076ddfe40>\n"
          ]
        },
        {
          "output_type": "execute_result",
          "data": {
            "text/plain": [
              "2"
            ]
          },
          "metadata": {},
          "execution_count": 22
        }
      ]
    },
    {
      "cell_type": "markdown",
      "source": [
        "**\"Na powyższym wydruku widać, że wywołanie funkcji generującej spowodowało zwrócenie obiektu generatora, a nie jakby się mogło wydawać liczby 2. Dopiero operacje na obiekcie generatora pozwolą uzyskać kolejne liczby parzyste. Obiekt generatora, generator przechowuje stan oraz zawiera odpowiednią metodę zwracającą kolejne wartości\"*\n",
        "<br>\n",
        "source: https://chyla.org/artykuly/python/python-generatory.html\n",
        "\n"
      ],
      "metadata": {
        "id": "dIvls1Q1Iyxp"
      }
    },
    {
      "cell_type": "code",
      "source": [
        "gen.__next__()"
      ],
      "metadata": {
        "colab": {
          "base_uri": "https://localhost:8080/"
        },
        "id": "BEwhjRjzIaX7",
        "outputId": "ce255c4f-d11a-4879-9f03-67cb3eac13e0"
      },
      "execution_count": null,
      "outputs": [
        {
          "output_type": "execute_result",
          "data": {
            "text/plain": [
              "4"
            ]
          },
          "metadata": {},
          "execution_count": 23
        }
      ]
    },
    {
      "cell_type": "code",
      "source": [
        "gen.__next__()"
      ],
      "metadata": {
        "colab": {
          "base_uri": "https://localhost:8080/"
        },
        "id": "WSBN8eZTIb0x",
        "outputId": "e9647b64-8379-4f95-ad25-5716cd1e375a"
      },
      "execution_count": null,
      "outputs": [
        {
          "output_type": "execute_result",
          "data": {
            "text/plain": [
              "6"
            ]
          },
          "metadata": {},
          "execution_count": 24
        }
      ]
    },
    {
      "cell_type": "code",
      "source": [
        "gen.__next__()"
      ],
      "metadata": {
        "colab": {
          "base_uri": "https://localhost:8080/"
        },
        "id": "Qlv6DtpzIg-N",
        "outputId": "3ba3f1c1-6bdb-4ac9-98f8-09a902a99374"
      },
      "execution_count": null,
      "outputs": [
        {
          "output_type": "execute_result",
          "data": {
            "text/plain": [
              "8"
            ]
          },
          "metadata": {},
          "execution_count": 25
        }
      ]
    },
    {
      "cell_type": "code",
      "source": [
        "gen.__next__()"
      ],
      "metadata": {
        "colab": {
          "base_uri": "https://localhost:8080/"
        },
        "id": "ju_tpxKOIiyh",
        "outputId": "5f977a3c-5fa8-4b42-df0b-c6be0e9a1293"
      },
      "execution_count": null,
      "outputs": [
        {
          "output_type": "execute_result",
          "data": {
            "text/plain": [
              "10"
            ]
          },
          "metadata": {},
          "execution_count": 26
        }
      ]
    },
    {
      "cell_type": "code",
      "source": [],
      "metadata": {
        "id": "jGU-Q9Iye9ZN"
      },
      "execution_count": null,
      "outputs": []
    },
    {
      "cell_type": "markdown",
      "source": [
        "# Functional programming"
      ],
      "metadata": {
        "id": "RZEW_Stse-ga"
      }
    },
    {
      "cell_type": "markdown",
      "source": [
        "### Imperative code - filtering"
      ],
      "metadata": {
        "id": "29Yl3c9eOqEb"
      }
    },
    {
      "cell_type": "code",
      "source": [
        "nums = (1, 2, 3, 4, 5, 6, 7, 8, 9, 10)\n",
        "\n",
        "def filter_values(predicate, lst):\n",
        "  ret = []\n",
        "  for i in lst:\n",
        "    if predicate(i):\n",
        "      ret.append(i)\n",
        "  return ret\n",
        "\n",
        "filtered_numbers = filter_values(lambda x: x % 2 == 0, nums)\n",
        "\n",
        "print(filtered_numbers)"
      ],
      "metadata": {
        "colab": {
          "base_uri": "https://localhost:8080/"
        },
        "id": "jP30AY1ZOtIu",
        "outputId": "703a05d5-e8a9-4cd9-ca19-65f5c8c7d0fb"
      },
      "execution_count": null,
      "outputs": [
        {
          "output_type": "stream",
          "name": "stdout",
          "text": [
            "[2, 4, 6, 8, 10]\n"
          ]
        }
      ]
    },
    {
      "cell_type": "markdown",
      "source": [
        "### Declarative code - using higher-order function FILTER()"
      ],
      "metadata": {
        "id": "QXG5Oy1yO2db"
      }
    },
    {
      "cell_type": "code",
      "source": [
        "filtered_numbers = filter(lambda x: x % 2 == 0 , nums)\n",
        "print(filtered_numbers)\n",
        "print(tuple(filtered_numbers))"
      ],
      "metadata": {
        "colab": {
          "base_uri": "https://localhost:8080/"
        },
        "id": "8XKQUfqkO51v",
        "outputId": "c97cac7f-56e9-4eeb-d0e0-b8fbc0025911"
      },
      "execution_count": null,
      "outputs": [
        {
          "output_type": "stream",
          "name": "stdout",
          "text": [
            "<filter object at 0x7e37b0301270>\n",
            "(2, 4, 6, 8, 10)\n"
          ]
        }
      ]
    },
    {
      "cell_type": "markdown",
      "source": [
        "### MAP () - some operation on every element of a list"
      ],
      "metadata": {
        "id": "htjz-fj3PQ51"
      }
    },
    {
      "cell_type": "code",
      "source": [
        "print(tuple(map(lambda x: x*3, nums)))"
      ],
      "metadata": {
        "colab": {
          "base_uri": "https://localhost:8080/"
        },
        "id": "ddWatJMVPNA8",
        "outputId": "8ea253e7-be9f-4280-a896-f36ffe908bc6"
      },
      "execution_count": null,
      "outputs": [
        {
          "output_type": "stream",
          "name": "stdout",
          "text": [
            "(3, 6, 9, 12, 15, 18, 21, 24, 27, 30)\n"
          ]
        }
      ]
    },
    {
      "cell_type": "markdown",
      "source": [
        "### REDUCE() - calculation\n",
        "- import lib!\n",
        "- reduce() function **is expecting more than two input parameters!**\n",
        "\n",
        "```\n",
        "from functools import reduce\n",
        "```\n",
        "\n"
      ],
      "metadata": {
        "id": "HME-a3y9PeSk"
      }
    },
    {
      "cell_type": "code",
      "source": [
        "from functools import reduce\n",
        "\n",
        "print(reduce(lambda x,y: x+y, nums))"
      ],
      "metadata": {
        "colab": {
          "base_uri": "https://localhost:8080/"
        },
        "id": "OsDBqtLaPa6K",
        "outputId": "87821a65-dc09-4047-9370-926aa65041ec"
      },
      "execution_count": null,
      "outputs": [
        {
          "output_type": "stream",
          "name": "stdout",
          "text": [
            "55\n"
          ]
        }
      ]
    },
    {
      "cell_type": "markdown",
      "source": [
        "### Mapping a Filtered Collection\n",
        "- multiply all even nums by 2"
      ],
      "metadata": {
        "id": "ilxI68KdPynl"
      }
    },
    {
      "cell_type": "code",
      "source": [
        "print(tuple(map(lambda x: x*2, filter(lambda x: x % 2 == 0 , nums))))"
      ],
      "metadata": {
        "colab": {
          "base_uri": "https://localhost:8080/"
        },
        "id": "TFoLJJxuP74b",
        "outputId": "105e1af4-e993-4b80-f331-85cfcf5123e6"
      },
      "execution_count": null,
      "outputs": [
        {
          "output_type": "stream",
          "name": "stdout",
          "text": [
            "(4, 8, 12, 16, 20)\n"
          ]
        }
      ]
    },
    {
      "cell_type": "code",
      "source": [
        "t_filtered_numbers = tuple(filtered_numbers)\n",
        "print(tuple(map(lambda x: x*2, filter(lambda x: x % 2 == 0 , nums))))"
      ],
      "metadata": {
        "colab": {
          "base_uri": "https://localhost:8080/"
        },
        "id": "13bb68e1QtMw",
        "outputId": "5b9ee5f3-bcb8-4bb4-a740-2482bd11a768"
      },
      "execution_count": null,
      "outputs": [
        {
          "output_type": "stream",
          "name": "stdout",
          "text": [
            "(48, 12, 32, 16, 4, 40, 44, 24, 8)\n"
          ]
        }
      ]
    },
    {
      "cell_type": "markdown",
      "source": [
        "### Reducing a Filtered Collection"
      ],
      "metadata": {
        "id": "sYNa6exVQ4Vp"
      }
    },
    {
      "cell_type": "code",
      "source": [
        "from collections import namedtuple\n",
        "from functools import reduce\n",
        "\n",
        "# Prices are in USD\n",
        "menu_item = namedtuple(\"menu_item\", [\"name\", \"dish_type\", \"price\"])\n",
        "\n",
        "jsp = menu_item(\"Jumbo Shrimp Platter\", \"Appetizer\", 29.95)\n",
        "lc = menu_item(\"Lobster Cake\", \"Appetizer\", 30.95)\n",
        "scb = menu_item(\"Sizzling Canadian Bacon\", \"Appetizer\", 9.95)\n",
        "ccc = menu_item(\"Codecademy Crab Cake\", \"Appetizer\", 32.95)\n",
        "cs = menu_item(\"Caeser Salad\", \"Salad\", 14.95)\n",
        "mgs = menu_item(\"Mixed Green Salad\", \"Salad\", 10.95)\n",
        "cp = menu_item(\"Codecademy Potatoes\", \"Side\", 34.95)\n",
        "mp = menu_item(\"Mashed Potatoes\", \"Side\", 14.95)\n",
        "a = menu_item(\"Asparagus\", \"Side\", 15.95)\n",
        "rs = menu_item(\"Ribeye Steak\", \"Entree\", 75.95)\n",
        "phs = menu_item(\"Porter House Steak\", \"Entree\", 131.95)\n",
        "grs = menu_item(\"Grilled Salmon\", \"Entree\", 36.95)\n",
        "\n",
        "menu = (jsp, lc, scb, ccc, cs, mgs, cp, mp, a, rs, phs, grs)\n",
        "entree = 0\n",
        "least_expensive = 0\n",
        "\n",
        "#find the most expensive dish that is an entree\n",
        "entree = reduce(lambda x, y: x if x.price > y.price else y,\n",
        "                filter(lambda x: x.dish_type == \"Entree\", menu))\n",
        "print(entree)\n",
        "\n",
        "#find the least expensive dish that is either a side or a salad\n",
        "least_expensive = reduce(lambda x, y: x if x.price < y.price else y,\n",
        "                         filter(lambda x: x.dish_type in [\"Salad\",\"Side\"], menu))\n",
        "print(least_expensive)"
      ],
      "metadata": {
        "colab": {
          "base_uri": "https://localhost:8080/"
        },
        "id": "oSwWkWQ8Q22t",
        "outputId": "f48d2f51-be57-4e44-ba71-77d0352cf7a1"
      },
      "execution_count": null,
      "outputs": [
        {
          "output_type": "stream",
          "name": "stdout",
          "text": [
            "menu_item(name='Porter House Steak', dish_type='Entree', price=131.95)\n",
            "menu_item(name='Mixed Green Salad', dish_type='Salad', price=10.95)\n"
          ]
        }
      ]
    },
    {
      "cell_type": "markdown",
      "source": [
        "###Reducing mapped collection"
      ],
      "metadata": {
        "id": "tFuyRDyGRTpQ"
      }
    },
    {
      "cell_type": "code",
      "source": [
        "from functools import reduce\n",
        "\n",
        "fruits = {\"Grape\":(4, 6, 2),\n",
        "          \"Lemon\":(7, 3, 1),\n",
        "          \"Orange\":(5, 8, 1),\n",
        "          \"Apple\":(2, 8, 10),\n",
        "          \"Watermelon\":(0, 9, 6)}\n",
        "\n",
        "\n",
        "# find the total number of fruits sold\n",
        "total_fruits = reduce(lambda x,y: x+y,\n",
        "                      map(lambda x: fruits[x][0]+fruits[x][1]+fruits[x][2],fruits))\n",
        "\n",
        "print(total_fruits)"
      ],
      "metadata": {
        "colab": {
          "base_uri": "https://localhost:8080/"
        },
        "id": "J9-N3BI_RV0O",
        "outputId": "b8dcfba2-a0e2-4425-92da-d4517151f3d8"
      },
      "execution_count": null,
      "outputs": [
        {
          "output_type": "stream",
          "name": "stdout",
          "text": [
            "72\n"
          ]
        }
      ]
    },
    {
      "cell_type": "markdown",
      "source": [
        "### Combining all Three Higher-Order Functions"
      ],
      "metadata": {
        "id": "7Dk44VlrRskB"
      }
    },
    {
      "cell_type": "code",
      "source": [
        "from functools import reduce\n",
        "\n",
        "costs = {\"shirt\": (4, 13.00), \"shoes\":(2, 80.00), \"pants\":(3, 100.00), \"socks\":(5, 5.00), \"ties\":(3, 14.00), \"watch\":(1, 145.00)}\n",
        "\n",
        "nums = (24, 6, 7, 16, 8, 2, 3, 11, 21, 20, 22, 23, 19, 12, 1, 4, 17, 9, 25, 15)\n",
        "\n",
        "# find the total cost of items that cost more than £150\n",
        "total = reduce(lambda x,y: x+y,\n",
        "               filter(lambda x: x > 150.00,\n",
        "                      map(lambda x: costs[x][0]*costs[x][1],costs)))\n",
        "\n",
        "print(total)\n",
        "\n",
        "# find all numbers less than 10, add five to them, and find their total product\n",
        "product = reduce(lambda x,y: x*y,\n",
        "                 map(lambda x: x+5,\n",
        "                     filter(lambda x: x<10, nums)))\n",
        "\n",
        "print(product)"
      ],
      "metadata": {
        "colab": {
          "base_uri": "https://localhost:8080/"
        },
        "id": "MHXYWTdVRrV9",
        "outputId": "f83e7fbf-7bbb-4968-91ec-d212c70bfd73"
      },
      "execution_count": null,
      "outputs": [
        {
          "output_type": "stream",
          "name": "stdout",
          "text": [
            "460.0\n",
            "72648576\n"
          ]
        }
      ]
    },
    {
      "cell_type": "markdown",
      "source": [
        "### Reading CSV File"
      ],
      "metadata": {
        "id": "o4_e9ew4SAcY"
      }
    },
    {
      "cell_type": "code",
      "source": [
        "import csv\n",
        "from collections import namedtuple\n",
        "from functools import reduce\n",
        "\n",
        "#store tuples from the records of the provided CSV file\n",
        "tree = namedtuple('tree',['index','width','height','volume'])\n",
        "\n",
        "with open('trees.csv', newline = '') as csvfile:\n",
        "  reader = csv.reader(csvfile, delimiter=',', quotechar='|')\n",
        "  next(reader) # Skip the first line in trees.csv that contains the data lablels.\n",
        "\n",
        "  # “map” the records to tuples of type tree\n",
        "  mapper = map(lambda x: tree(int(x[0]),float(x[1]),float(x[2]),float(x[3])), reader)\n",
        "\n",
        "  trees = tuple(mapper)\n",
        "  print(trees)"
      ],
      "metadata": {
        "id": "MEQxR2iBR-zY"
      },
      "execution_count": null,
      "outputs": []
    },
    {
      "cell_type": "markdown",
      "source": [
        "### Processing CSV File"
      ],
      "metadata": {
        "id": "wj-YwBEpSPcw"
      }
    },
    {
      "cell_type": "code",
      "source": [
        "import csv\n",
        "from collections import namedtuple\n",
        "from functools import reduce\n",
        "\n",
        "tree = namedtuple(\"tree\", [\"index\", \"width\", \"height\", \"volume\"])\n",
        "\n",
        "with open('trees.csv', newline = '') as csvfile:\n",
        "  reader = csv.reader(csvfile, delimiter=',', quotechar='|')\n",
        "  next(reader)\n",
        "  mapper = map(lambda x: tree(int(x[0]), float(x[1]), int(x[2]), float(x[3])), reader)\n",
        "\n",
        "  # data of trees that have a height greater than 75\n",
        "  t = filter(lambda x: x.height > 75, mapper)\n",
        "  trees = tuple(t)\n",
        "\n",
        "  # record of the widest tree in trees\n",
        "  widest = reduce(lambda x, y: x if x.width > y.width else y, trees)"
      ],
      "metadata": {
        "id": "DFjYGZz_SO7o"
      },
      "execution_count": null,
      "outputs": []
    },
    {
      "cell_type": "markdown",
      "source": [
        "### Processing JSON file\n",
        "- unlike a CSV file, we cannot use an iterator when we read data from a JSON file\n",
        "- we will have to work with the dict type\n",
        "1. use map() to store this data as a namedtuple"
      ],
      "metadata": {
        "id": "tlJotH-TTLOF"
      }
    },
    {
      "cell_type": "code",
      "source": [
        "import json\n",
        "from collections import namedtuple\n",
        "from functools import reduce\n",
        "\n",
        "city = namedtuple(\"city\", [\"name\", \"country\", \"coordinates\", \"continent\"])\n",
        "\n",
        "with open('cities.json') as json_file:\n",
        "  data = json.load(json_file)\n",
        "\n",
        "cities = map(lambda x: city(x[\"name\"], x[\"country\"], x[\"coordinates\"], x[\"continent\"]), data[\"city\"])\n",
        "\n",
        "# all cities that are on the continent of Asia\n",
        "asia = tuple(filter(lambda x: x.continent=='Asia', cities))\n",
        "print(asia)\n",
        "\n",
        "# the western-most city in the asia\n",
        "# the western-most country is the one where the longitude is the lowest number (minimum of city.coordinates[1])\n",
        "# coordinates=[25.2048, 55.2708]\n",
        "west = reduce(lambda x,y: x if x.coordinates[1] < y.coordinates[1] else y, asia)\n",
        "\n",
        "# Code for Checkpoint 2 goes here.\n",
        "\n",
        "print(west)"
      ],
      "metadata": {
        "id": "oBLZkt46TJ0p"
      },
      "execution_count": null,
      "outputs": []
    },
    {
      "cell_type": "markdown",
      "source": [
        "# Programowanie obiektowe\n",
        "\n",
        "- w skrócie przejrzysty kod bez powtarzalności opisujący jednym fragmentem kodu jakiś konkret problem<br><br>\n",
        "\n",
        "enkapsulacja - technika ukrywania danych przed światem zewnętrznym i udostępniania ich tylko za pomocą określonych metod, które są zdefiniowane w klasie.\n"
      ],
      "metadata": {
        "id": "OMhiBXf1Fv4z"
      }
    },
    {
      "cell_type": "markdown",
      "source": [
        "## Classes"
      ],
      "metadata": {
        "id": "-jN2ok93sDp0"
      }
    },
    {
      "cell_type": "code",
      "source": [
        "class Musician:\n",
        "  pass # prevents IndentationError"
      ],
      "metadata": {
        "id": "P7eyI4tKmp2r"
      },
      "execution_count": null,
      "outputs": []
    },
    {
      "cell_type": "markdown",
      "source": [
        "Instantiation - we must create an instance of the class\n",
        "* looks a lot like calling a function\n",
        "* we assigned that new instance to the variable cool_instance\n",
        "* *class instance* is also called an *object*.\n",
        "\n",
        "```\n",
        "musician_instance = Musician()\n",
        "\n",
        "```\n",
        "\n",
        "define a class variable:\n",
        "\n",
        "\n",
        "```\n",
        "class Musician:\n",
        "  title = 'Rockstar'\n",
        "\n",
        "drummer = Musician()  \n",
        "print(drummer.title)\n",
        "```\n",
        "\n",
        "*title* - is the attribute\n",
        "\n",
        "\n",
        "\n",
        "\n",
        "\n",
        "\n"
      ],
      "metadata": {
        "id": "4J50NKQLpBOT"
      }
    },
    {
      "cell_type": "code",
      "source": [
        "class Grade:\n",
        "  minimum_passing  = 65\n",
        "\n",
        "print(Grade().minimum_passing)"
      ],
      "metadata": {
        "colab": {
          "base_uri": "https://localhost:8080/"
        },
        "id": "L0cpYBClmrng",
        "outputId": "64e66852-d693-4306-d34d-b979712cec76"
      },
      "execution_count": null,
      "outputs": [
        {
          "output_type": "stream",
          "name": "stdout",
          "text": [
            "65\n"
          ]
        }
      ]
    },
    {
      "cell_type": "markdown",
      "source": [
        "create 2 objects from the class Store:"
      ],
      "metadata": {
        "id": "rdA7YY8ynVoZ"
      }
    },
    {
      "cell_type": "code",
      "source": [
        "class Store:\n",
        "  pass\n",
        "\n",
        "alternative_rocks = Store()\n",
        "isabelles_ices = Store()"
      ],
      "metadata": {
        "id": "u98BpxvvnY7E"
      },
      "execution_count": null,
      "outputs": []
    },
    {
      "cell_type": "markdown",
      "source": [
        "give them instance attributes called . store_name"
      ],
      "metadata": {
        "id": "7iJF2WwJnfzI"
      }
    },
    {
      "cell_type": "code",
      "source": [
        "alternative_rocks.store_name = \"Alternative Rocks\"\n",
        "isabelles_ices.store_name = \"Isabelle's Ices\""
      ],
      "metadata": {
        "id": "ibtwP6_snk51"
      },
      "execution_count": null,
      "outputs": []
    },
    {
      "cell_type": "code",
      "source": [],
      "metadata": {
        "id": "3l9PyzpX5pLJ"
      },
      "execution_count": null,
      "outputs": []
    },
    {
      "cell_type": "markdown",
      "source": [
        "## Attributes\n",
        "\n",
        "hasattr() returns a boolean that evaluates whether the given object has the attribute given by the second argument."
      ],
      "metadata": {
        "id": "Y3W_w5lGc64J"
      }
    },
    {
      "cell_type": "code",
      "source": [
        "class HoldsFive:\n",
        "  five  = 5\n",
        "\n",
        "five_holder = HoldsFive()\n",
        "\n",
        "print(hasattr(five_holder,'five'))"
      ],
      "metadata": {
        "colab": {
          "base_uri": "https://localhost:8080/"
        },
        "id": "eomltkCcdAmX",
        "outputId": "b882cf3b-c00e-4f8e-8d6f-963a497b2247"
      },
      "execution_count": null,
      "outputs": [
        {
          "output_type": "stream",
          "name": "stdout",
          "text": [
            "True\n"
          ]
        }
      ]
    },
    {
      "cell_type": "markdown",
      "source": [
        "## Methods\n",
        "\n",
        "methods =  functions in a class\n",
        "* first arg in method: always object that calls method - self (at least this one arg)"
      ],
      "metadata": {
        "id": "21mziF3Or931"
      }
    },
    {
      "cell_type": "code",
      "source": [
        "class Dog:\n"
      ],
      "metadata": {
        "id": "8KejF2iksI0L"
      },
      "execution_count": null,
      "outputs": []
    },
    {
      "cell_type": "markdown",
      "source": [
        "## Funkcja specjalna \\____init____"
      ],
      "metadata": {
        "id": "-yI3JoMuoI5k"
      }
    },
    {
      "cell_type": "markdown",
      "source": [
        "- magic function\n",
        "- metoda\n",
        "- konstruktor (constructor) / dunder methods\n",
        "- inicjowana za każdym razem gdy wywołujemy klasę\n",
        "\n",
        "why it differentiare from methods:\n",
        "- instance of a class can hold different kinds of data\n",
        "\n",
        "funkcja init przyjmuje tutaj 2 parametry\n",
        "1. Pierwszym parametrem musi być self, ponieważ funkcja jest definiowana w obrębie klasy.\n",
        "2. Drugim jest instancja - koty z podanymi w nawiasie latami ich urodzin.\n"
      ],
      "metadata": {
        "id": "WAKvpBpvook4"
      }
    },
    {
      "cell_type": "code",
      "source": [
        "class koty:\n",
        "    def __init__(self,rok):\n",
        "        self.rok_urodzenia = rok\n",
        "\n",
        "Kremówka = koty(2016)\n",
        "Helen = koty(2013)\n",
        "Nefretka = koty(2014)\n",
        "\n",
        "print(Kremówka.rok_urodzenia)\n",
        "print(Helen.rok_urodzenia)\n",
        "print(Nefretka.rok_urodzenia)"
      ],
      "metadata": {
        "colab": {
          "base_uri": "https://localhost:8080/"
        },
        "id": "AZF-zY_uoHlC",
        "outputId": "a3afc1bd-a2da-443a-af6f-e53cfd4d928b"
      },
      "execution_count": null,
      "outputs": [
        {
          "output_type": "stream",
          "name": "stdout",
          "text": [
            "2016\n",
            "2013\n",
            "2014\n"
          ]
        }
      ]
    },
    {
      "cell_type": "code",
      "source": [
        "class nazwa_Klasy:\n",
        "  def __init__(self, imie):\n",
        "    self.powitanie = 'Hej ' + imie\n",
        "\n",
        "instancja = nazwa_Klasy('Gabi')\n",
        "print(instancja.powitanie)"
      ],
      "metadata": {
        "colab": {
          "base_uri": "https://localhost:8080/"
        },
        "id": "YyH-NnsppSaV",
        "outputId": "9d98a13c-9a03-4592-d470-0d1e4d5bcc17"
      },
      "execution_count": null,
      "outputs": [
        {
          "output_type": "stream",
          "name": "stdout",
          "text": [
            "Hej Gabi\n"
          ]
        }
      ]
    },
    {
      "cell_type": "code",
      "source": [
        "class SearchEngineEntry:\n",
        "  secure_prefix = \"https://\"\n",
        "  def __init__(self, url):\n",
        "    self.url = url\n",
        "\n",
        "  def secure(self):\n",
        "    return \"{prefix}{site}\".format(prefix=self.secure_prefix, site=self.url)\n",
        "\n",
        "codecademy = SearchEngineEntry(\"www.codecademy.com\")\n",
        "wikipedia = SearchEngineEntry(\"www.wikipedia.org\")\n",
        "\n",
        "print(codecademy.secure())\n",
        "# prints \"https://www.codecademy.com\"\n",
        "\n",
        "print(wikipedia.secure())\n",
        "# prints \"https://www.wikipedia.org\""
      ],
      "metadata": {
        "id": "9B_11IBb_HJe"
      },
      "execution_count": null,
      "outputs": []
    },
    {
      "cell_type": "markdown",
      "source": [
        "Add a constructor for Student. Have the constructor take in two parameters: a name and a year. Save those two as attributes .name and .year."
      ],
      "metadata": {
        "id": "FF6468yzVbYC"
      }
    },
    {
      "cell_type": "code",
      "source": [
        "class Student: #\n",
        "  def __init__(self, name, year): #constructor\n",
        "    self.name = name\n",
        "    self.year = year #attributes\n"
      ],
      "metadata": {
        "id": "-a_w4pDzRTII"
      },
      "execution_count": null,
      "outputs": []
    },
    {
      "cell_type": "code",
      "source": [
        "class User:\n",
        "  def __init__(self, name):\n",
        "    self.name = name\n",
        "\n",
        "  def __repr__(self):\n",
        "    return \"Hiya {}!\".format(self.name)\n",
        "\n",
        "devorah = User(\"Devorah\")\n",
        "print(devorah)"
      ],
      "metadata": {
        "colab": {
          "base_uri": "https://localhost:8080/"
        },
        "id": "2Ka2undZXa3h",
        "outputId": "f0d83e2f-92c5-4737-a848-abf6c770bea7"
      },
      "execution_count": null,
      "outputs": [
        {
          "output_type": "stream",
          "name": "stdout",
          "text": [
            "Hiya Devorah!\n"
          ]
        }
      ]
    },
    {
      "cell_type": "markdown",
      "source": [
        "## Basta Fazoolin' ITalian Restauran chain"
      ],
      "metadata": {
        "id": "HAqpHqeSyDug"
      }
    },
    {
      "cell_type": "code",
      "source": [
        "class Menu:\n",
        "  def __init__(self, name, items, start_time, end_time):\n",
        "    self.name = name\n",
        "    self.items = items\n",
        "    self.start_time = start_time\n",
        "    self.end_time = end_time\n",
        "\n",
        "  def __repr__(self):\n",
        "    return \"{menu} menu is available from {start_hour} to {end_hour}\".format(menu=self.name, start_hour = self.start_time, end_hour=self.end_time)\n",
        "\n",
        "  def calculate_bill(self, purchased_items):\n",
        "    bill = 0\n",
        "    for item in purchased_items:\n",
        "      for key, value in self.items.items():\n",
        "        if item == key:\n",
        "          bill += value\n",
        "    return bill\n",
        "\n",
        "\n",
        "\n",
        "brunch = Menu(\n",
        "  'brunch',\n",
        "  {'pancakes': 7.50, 'waffles': 9.00, 'burger': 11.00,\n",
        "  'home fries': 4.50, 'coffee': 1.50, 'espresso': 3.00,\n",
        "  'tea': 1.00, 'mimosa': 10.50, 'orange juice': 3.5 },\n",
        "  11,\n",
        "  16\n",
        ")\n",
        "\n",
        "early_bird = Menu(\n",
        "  'early_bird',\n",
        "  {'salumeria plate': 8.00, 'salad and breadsticks (serves 2, no refills)': 14.00, 'pizza with quattro formaggi': 9.00, 'duck ragu': 17.50, 'mushroom ravioli (vegan)': 13.50, 'coffee': 1.50, 'espresso': 3.00},\n",
        "  15,\n",
        "  18\n",
        ")\n",
        "\n",
        "dinner = Menu(\n",
        "  'dinner',\n",
        "  {'crostini with eggplant caponata': 13.00, 'caesar salad': 16.00, 'pizza with quattro formaggi': 11.00, 'duck ragu': 19.50, 'mushroom ravioli (vegan)': 13.50, 'coffee': 2.00, 'espresso': 3.00},\n",
        "  17,\n",
        "  23\n",
        ")\n",
        "\n",
        "kids = Menu(\n",
        "  'kids',\n",
        "  {'chicken nuggets': 6.50, 'fusilli with wild mushrooms': 12.00, 'apple juice': 3.00},\n",
        "  11,\n",
        "  21\n",
        ")\n",
        "\n",
        "arepas_menu = Menu(\n",
        "  \"Take a' Arepa\",\n",
        "  {'arepa pabellon': 7.00, 'pernil arepa': 8.50, 'guayanes arepa': 8.00, 'jamon arepa': 7.50},\n",
        "  10,\n",
        "  20\n",
        ")\n",
        "\n",
        "print(kids.calculate_bill(['chicken nuggets','apple juice']))\n",
        "\n",
        "\n",
        "class Franchise:\n",
        "  def __init__(self, address, menus):\n",
        "    self.address = address\n",
        "    self.menus = menus\n",
        "\n",
        "  def __repr__(self):\n",
        "    return self.address\n",
        "\n",
        "  def available_menus(self, time):\n",
        "    available_menus = []\n",
        "    for menu in self.menus:\n",
        "      if time >= menu.start_time and time < menu.end_time:\n",
        "        available_menus.append(menu.name)\n",
        "    return available_menus\n",
        "\n",
        "flagship_store = Franchise(\"1232 West End Road\",\n",
        "[kids,brunch,early_bird,dinner])\n",
        "new_installment = Franchise(\"12 East Mulberry Street\",[kids,brunch,early_bird,dinner])\n",
        "arepas_place = Franchise(\n",
        "  \"189 Fitzgerald Avenue\",\n",
        "  [arepas_menu]\n",
        ")\n",
        "\n",
        "print(flagship_store.available_menus(17))\n",
        "\n",
        "class Business:\n",
        "  def __init__(self, name, franchises):\n",
        "    self.name = name\n",
        "    self.franchises = franchises\n",
        "\n",
        "flagship_store = Business(\"Basta Fazoolin' with my Heart\", [flagship_store, new_installment])\n",
        "\n",
        "flagship_store = Business(\"Take a' Arepa\", [arepas_place])\n"
      ],
      "metadata": {
        "colab": {
          "base_uri": "https://localhost:8080/"
        },
        "id": "KzMoymn5yMq9",
        "outputId": "476b9a12-2c01-439b-f940-df99b0bd4d52"
      },
      "execution_count": null,
      "outputs": [
        {
          "output_type": "stream",
          "name": "stdout",
          "text": [
            "9.5\n",
            "['kids', 'early_bird', 'dinner']\n"
          ]
        }
      ]
    },
    {
      "cell_type": "markdown",
      "source": [
        "## Dziedziczenie"
      ],
      "metadata": {
        "id": "DRHrpdLoF7sN"
      }
    },
    {
      "cell_type": "markdown",
      "source": [
        "1. Powiedzmy, chcemy zaimplementować obiekty odpowiadające zwierzętom: pies, kot.\n",
        "<br><br>\n",
        "Każdy jest inny, ale wszystkie mają wiele cech i metod wspólnych.\n",
        "\n",
        "* Wspólne cechy: zwierze, odglos, kolor.\n",
        "\n",
        "* Wspólne operacje: wydawanie odgłosów, zabawa itd\n",
        "\n",
        "Mogli byśmy zaimplementować 3 klasy, odpowiadające ptakom – sowa, orzeł, pingwin, i od początku do końca w nich zdefiniować nasze konstruktory oraz metody.\n",
        "Programowanie jednak nie lubi powtarzalności.<br>\n",
        "------------------------------\\\n",
        "Skoro, wszystkie te 2 obiekty, posiadają cechy i metody wspólne, czy można to zapisać, tak aby aby to co wspólne, napisać raz, a potem wykorzystać?\n",
        "* wtedy zwierzęta są potomkami klasy, bo łączy ich ta jedna klasa wspólna <br><br>\n",
        "\n",
        "klasa kot, ma kolor, wielkość, wydaje odgłosy\n",
        "\n",
        "klasa pies, potomek klasy kot, dodatkowo bawi się"
      ],
      "metadata": {
        "id": "5pcj3-PsqiaC"
      }
    },
    {
      "cell_type": "code",
      "source": [
        "class Zwierzeta:\n",
        "  def __init__(self,zwierze,odglos, kolor):\n",
        "    self.zwierze = zwierze\n",
        "    self.odglos = odglos\n",
        "    self.kolor = kolor\n",
        "\n",
        "  def dajGlos(self):\n",
        "    print(f'{self.zwierze} koloru {self.kolor} robi: {self.odglos}')\n",
        "\n",
        "class Pies(Zwierzeta):\n",
        "  def sikanie(self, dojrzalosc):\n",
        "    self.dojrzalosc = dojrzalosc\n",
        "    if dojrzalosc == 'szczeniaczek':\n",
        "      print(f'{self.dojrzalosc} sika na matę')\n",
        "    elif dojrzalosc == 'stary':\n",
        "      print(f'{self.dojrzalosc} {self.zwierze} sika na trawę')\n",
        "\n",
        "class Kot(Zwierzeta):\n",
        "  def sikanie(self):\n",
        "    print(f'{self.zwierze} sika do kuwety')\n",
        "\n",
        "\n",
        "class Krowa(Zwierzeta):\n",
        "  def dojenie(self):\n",
        "    print(f'{self.zwierze} jest dojona z samego rana')\n",
        "\n",
        "\n",
        "instancja1 = Pies('pies','hau hau','biały')\n",
        "instancja2 = Kot('kot','miau miau','czarny w łatki')\n",
        "instancja3 = Krowa('krowa','muuuuu','brązowa')\n",
        "\n",
        "\n",
        "instancja1.sikanie('szczeniaczek')\n",
        "instancja1.sikanie('stary')\n",
        "instancja3.dojenie()"
      ],
      "metadata": {
        "colab": {
          "base_uri": "https://localhost:8080/"
        },
        "id": "jqCCC8Kyqhq0",
        "outputId": "2b55a697-9538-460b-c581-ad116943d26b"
      },
      "execution_count": null,
      "outputs": [
        {
          "output_type": "stream",
          "name": "stdout",
          "text": [
            "szczeniaczek sika na matę\n",
            "stary pies sika na trawę\n",
            "krowa jest dojona z samego rana\n"
          ]
        }
      ]
    },
    {
      "cell_type": "markdown",
      "source": [
        "## super().__init__"
      ],
      "metadata": {
        "id": "Ic2-SdD65qBg"
      }
    },
    {
      "cell_type": "markdown",
      "source": [
        "super().__init__ metoda.\n",
        "W momencie tworzenia klas 'pies/kot/krowa', jako pierwszy parametr, podajemy nazwę zwierzęcia. Jest to bez sensu. Skoro tworzymy klasę o jego nazwie, to powinna widzieć, że jest psem/kotem/krową, prawda?<br><br> Dzieje się tak, ponieważ korzystamy z konstruktora klasy, którą dziedziczymy, a ta nie wie kto ją będzie dziedziczyć. Za chwilę to naprawimy."
      ],
      "metadata": {
        "id": "zULF9onz1D6s"
      }
    },
    {
      "cell_type": "code",
      "source": [
        "class Zwierzeta:\n",
        "  def __init__(self,zwierze,odglos,kolor):\n",
        "    self.zwierze = zwierze\n",
        "    self.odglos = odglos\n",
        "    self.kolor = kolor\n",
        "\n",
        "  def dajGlos(self):\n",
        "    print(f'{self.zwierze} koloru {self.kolor} robi: {self.odglos}')\n",
        "\n",
        "class Pies(Zwierzeta):\n",
        "  def __init__(self, odglos,kolor):\n",
        "    super().__init__('pies', odglos, kolor)\n",
        "\n",
        "  def sikanie(self, dojrzalosc):\n",
        "    self.dojrzalosc = dojrzalosc\n",
        "    if dojrzalosc == 'szczeniaczek':\n",
        "      print(f'{self.dojrzalosc} sika na matę')\n",
        "    elif dojrzalosc == 'stary':\n",
        "      print(f'{self.dojrzalosc} {self.zwierze} sika na trawę')\n",
        "\n",
        "class Kot(Zwierzeta):\n",
        "  def __init__(self, odglos, kolor):\n",
        "    super().__init__('kot',odglos,kolor)\n",
        "\n",
        "  def sikanie(self):\n",
        "    print(f'{self.zwierze} sika do kuwety')\n",
        "\n",
        "\n",
        "class Krowa(Zwierzeta):\n",
        "  def __init__(self, odglos, kolor):\n",
        "    super().__init__('krowa',odglos,kolor)\n",
        "  def dojenie(self):\n",
        "    print(f'{self.zwierze} jest dojona z samego rana')\n",
        "\n",
        "\n",
        "instancja1 = Pies('hau hau', 'biały')\n",
        "# instancja2 = Kot('czarny w łatki')\n",
        "# instancja3 = Krowa('brązowa')\n",
        "\n",
        "instancja1.dajGlos()\n",
        "# instancja1.sikanie('stary')\n",
        "# instancja3.dojenie()"
      ],
      "metadata": {
        "colab": {
          "base_uri": "https://localhost:8080/"
        },
        "id": "qyvRLaiq1Xq7",
        "outputId": "567b77d2-230b-44f5-8cb9-830f7f5ed9e5"
      },
      "execution_count": null,
      "outputs": [
        {
          "output_type": "stream",
          "name": "stdout",
          "text": [
            "szczeniaczek sika na matę\n",
            "pies koloru biały robi: hau hau\n"
          ]
        }
      ]
    },
    {
      "cell_type": "markdown",
      "source": [
        "## def main()"
      ],
      "metadata": {
        "id": "T-EnwOj36VT4"
      }
    },
    {
      "cell_type": "code",
      "source": [
        "class Zwierzeta:\n",
        "  def __init__(self,zwierze,odglos,kolor):\n",
        "    self.zwierze = zwierze\n",
        "    self.odglos = odglos\n",
        "    self.kolor = kolor\n",
        "\n",
        "  def dajGlos(self):\n",
        "    print(f'{self.zwierze} koloru {self.kolor} robi: {self.odglos}')\n",
        "\n",
        "class Pies(Zwierzeta):\n",
        "  def __init__(self, odglos,kolor):\n",
        "    super().__init__('pies', odglos, kolor)\n",
        "\n",
        "  def sikanie(self, dojrzalosc):\n",
        "    self.dojrzalosc = dojrzalosc\n",
        "    if dojrzalosc == 'szczeniak':\n",
        "      print(f'{self.dojrzalosc} sika na matę')\n",
        "    elif dojrzalosc == 'stary':\n",
        "      print(f'{self.dojrzalosc} {self.zwierze} sika na trawę')\n",
        "\n",
        "class Kot(Zwierzeta):\n",
        "  def __init__(self, odglos, kolor):\n",
        "    super().__init__('kot',odglos,kolor)\n",
        "\n",
        "  def sikanie(self):\n",
        "    print(f'{self.zwierze} sika do kuwety')\n",
        "\n",
        "\n",
        "class Krowa(Zwierzeta):\n",
        "  def __init__(self, odglos, kolor):\n",
        "    super().__init__('krowa',odglos,kolor)\n",
        "  def dojenie(self):\n",
        "    print(f'{self.zwierze} jest dojona z samego rana')\n",
        "\n",
        "def main():\n",
        "    # tworzymy 3 obiekty klasy Zwierzeta\n",
        "    instancja1 = Pies('hau hau', 'biały')\n",
        "    instancja2 = Kot('miau', 'czarny w łatki')\n",
        "    instancja3 = Krowa('muuu','brązowa')\n",
        "\n",
        "    instancja1.dajGlos()\n",
        "    instancja1.sikanie('stary')\n",
        "    instancja1.sikanie('szczeniak')\n",
        "    instancja3.dojenie()\n",
        "    instancja2.sikanie()\n",
        "\n",
        "if __name__ == \"__main__\":\n",
        "    main()"
      ],
      "metadata": {
        "colab": {
          "base_uri": "https://localhost:8080/"
        },
        "id": "Dz05wJsR6aJF",
        "outputId": "9218f94d-ce3a-4367-8b49-612666e620c0"
      },
      "execution_count": null,
      "outputs": [
        {
          "output_type": "stream",
          "name": "stdout",
          "text": [
            "pies koloru biały robi: hau hau\n",
            "stary pies sika na trawę\n",
            "szczeniak sika na matę\n",
            "krowa jest dojona z samego rana\n",
            "kot sika do kuwety\n"
          ]
        }
      ]
    },
    {
      "cell_type": "markdown",
      "source": [
        "## Abstrakcja\n",
        "\n",
        "trochę przypomina zastosowanie super().init.\n",
        "- spr roznice later\n",
        "<br>\n",
        "Zauważyłam, że wszędzie w instancjach wypisuję odgłos zwierzęcia, a warto byłoby tego uniknąć, dlatego:\n",
        "- definiuję nową metodę w klasie bazowej: rodzaj_odglosu(). Będzie ona zwracać odglos, np. \"hau hau\". moze zwracać cokolwiek: bedzie pusta (pass)\n",
        "- oznaczenie tej metody jako abstrakcyjnej = Oznacza to, że definiujemy w klasie bazowej taką metodę, której nie implementujemy, ale spodziewamy się, że klasy dziedziczące się tym zajmą\n",
        "\n",
        "- mozna bylo zastosowac to np. do nazwy gatunku tez\n",
        "\n",
        "- class Zwierzeta ==> class Zwierzeta(ABC) +  from abc import ABC, abstractmethod\n"
      ],
      "metadata": {
        "id": "sGBM4GpNAdoy"
      }
    },
    {
      "cell_type": "code",
      "source": [
        "from abc import ABC, abstractmethod\n",
        "\n",
        "class Zwierzeta(ABC):\n",
        "  def __init__(self,zwierze,kolor):\n",
        "    self.zwierze = zwierze\n",
        "    self.kolor = kolor\n",
        "\n",
        "  @abstractmethod # tutaj wymuszamy implementację tej metody w klasach pochodnych\n",
        "  def rodzajOdglosu(self):\n",
        "    pass\n",
        "\n",
        "  def dajGlos(self):\n",
        "    print(f'{self.zwierze} koloru {self.kolor} robi: {self.rodzajOdglosu()}')\n",
        "\n",
        "class Pies(Zwierzeta):\n",
        "  def __init__(self,kolor):\n",
        "    super().__init__('pies', kolor)\n",
        "\n",
        "  def rodzajOdglosu(self):\n",
        "    return 'hau hau'\n",
        "\n",
        "  def sikanie(self, dojrzalosc):\n",
        "    self.dojrzalosc = dojrzalosc\n",
        "    if dojrzalosc == 'szczeniak':\n",
        "      print(f'{self.dojrzalosc} sika na matę')\n",
        "    elif dojrzalosc == 'stary':\n",
        "      print(f'{self.dojrzalosc} {self.zwierze} sika na trawę')\n",
        "\n",
        "class Kot(Zwierzeta):\n",
        "  def __init__(self, kolor):\n",
        "    super().__init__('kot',kolor)\n",
        "\n",
        "  def rodzajOdglosu(self):\n",
        "    return 'miau miau'\n",
        "\n",
        "  def sikanie(self):\n",
        "    print(f'{self.zwierze} sika do kuwety')\n",
        "\n",
        "\n",
        "class Krowa(Zwierzeta):\n",
        "  def __init__(self, kolor):\n",
        "    super().__init__('krowa',kolor)\n",
        "\n",
        "  def rodzajOdglosu(self):\n",
        "    return 'muuu'\n",
        "\n",
        "  def dojenie(self):\n",
        "    print(f'{self.zwierze} jest dojona z samego rana')\n",
        "\n",
        "def main():\n",
        "    # tworzymy 3 obiekty klasy Zwierzeta\n",
        "    instancja1 = Pies('biały')\n",
        "    instancja2 = Kot('czarny w łatki')\n",
        "    instancja3 = Krowa('brązowa')\n",
        "\n",
        "    instancja1.dajGlos()\n",
        "    instancja2.dajGlos()\n",
        "    instancja1.sikanie('stary')\n",
        "    instancja1.sikanie('szczeniak')\n",
        "    instancja3.dojenie()\n",
        "    instancja2.sikanie()\n",
        "\n",
        "if __name__ == \"__main__\":\n",
        "    main()"
      ],
      "metadata": {
        "colab": {
          "base_uri": "https://localhost:8080/"
        },
        "id": "EKsBTvyWAfsi",
        "outputId": "c7a85478-4a7b-4d00-ea09-cc4389bddc7f"
      },
      "execution_count": null,
      "outputs": [
        {
          "output_type": "stream",
          "name": "stdout",
          "text": [
            "pies koloru biały robi: hau hau\n",
            "kot koloru czarny w łatki robi: miau miau\n",
            "stary pies sika na trawę\n",
            "szczeniak sika na matę\n",
            "krowa jest dojona z samego rana\n",
            "kot sika do kuwety\n"
          ]
        }
      ]
    },
    {
      "cell_type": "markdown",
      "source": [
        "## Polimorfizm\n",
        "\n",
        "Oznacza to, że klasa dziedzicząca może być użyta wszędzie tam, gdzie może być użyta klasa bazowa.\n",
        "\n",
        "\n",
        "\n",
        "```\n",
        "Dumboo = Slon(\"Dumboo\", 77, 6000)\n",
        "\n",
        "możemy też:\n",
        "\n",
        "jakis_zwierz = Zwierze(\"Katarzyna\", 31, 80)\n",
        "```\n",
        "\n",
        "\n",
        "\n",
        "Oznacza to, że instancja klasy dziedziczącej jest uznawana za instancję klasy bazowej. W języku Python sprawdzenie przynależności danego obiektu do klasy wykonuje się metodą isinstance():"
      ],
      "metadata": {
        "id": "3bH0AZsN_4JU"
      }
    },
    {
      "cell_type": "code",
      "source": [
        "jakas_instancja_klasy_bazowej = Zwierzeta('Słóń','szary')"
      ],
      "metadata": {
        "id": "cilFi9SAFyOJ"
      },
      "execution_count": null,
      "outputs": []
    },
    {
      "cell_type": "markdown",
      "source": [
        "## Hermetyzacja"
      ],
      "metadata": {
        "id": "4K_cW1bbF3_6"
      }
    },
    {
      "cell_type": "markdown",
      "source": [
        "Pisząc programy obiektowo, staramy się, aby wnętrze klasy, w szczególności sposób przechowywania poszczególnych danych w polach, pozostawał dla użytkownika nieznany. Dlatego raczej chcemy udostępniać interfejs klasy (możliwość użycia danej klasy do rozwiązania swoich problemów) poprzez metody, niż pola.\n",
        "\n",
        "- Po pierwsze możemy chcieć wykonać pewne dodatkowe czynności podczas zmiany pola.\n",
        "\n",
        "- bardzo ważne pole, którego zmiana pociąga za sobą w konsekwencji przeliczenie i modyfikację także innych pól\n",
        "\n",
        "- implementacja klasy może się zmienić. Być może pojawią się nowe pola, a stare zostaną usunięte\n",
        "\n",
        "- Jeśli jest to kod, który operuje na metodach, to prawdopodobnie uda nam się zachować taką samą metodę zwracającą daną informację, choć wyliczającą ją w inny sposób w swym wnętrzu.\n",
        "<br>\n",
        "source: https://www.kodolamacz.pl/blog/wyzwanie-python-5-zaawansowane-aspekty-programowania-obiektowego/"
      ],
      "metadata": {
        "id": "IdXlvUtvGhrC"
      }
    },
    {
      "cell_type": "markdown",
      "source": [
        "# Debugging"
      ],
      "metadata": {
        "id": "B3xp37iqfoe_"
      }
    },
    {
      "cell_type": "markdown",
      "source": [
        "- clean code\n",
        "- helps with debugging - Logs can show us where bugs occur, but they won’t debug our software for us.\n"
      ],
      "metadata": {
        "id": "3ChLZlNKl1FO"
      }
    },
    {
      "cell_type": "markdown",
      "source": [
        "Import logging into my app\n",
        "\n",
        "\n",
        "```\n",
        "import logging\n",
        "```\n",
        "set my logger object using the getLogger(name) method (otherwise root logger is returned)\n",
        "\n",
        "```\n",
        "logger = logging.getLogger(__name__)\n",
        "```\n",
        "inform the logger where we want our logged messages to go. use StreamHandler with stream input (otherwise logs will direct to sys.stderr = not to console)\n",
        "\n",
        "```\n",
        "import sys\n",
        "stream_handler = logging.StreamHandler(sys.stdout)\n",
        "```\n",
        "\n",
        "add our stream handler object to the logger\n",
        "\n",
        "```\n",
        "logger.addHandler(stream_handler)\n",
        "```\n",
        "\n",
        "we can use to log messages\n",
        "\n",
        "\n",
        "```\n",
        "logger.debug(\"This is a debug message!\")\n",
        "```\n",
        "\n",
        "with log level too:\n",
        "\n",
        "\n",
        "```\n",
        "logger.log(logging.INFO, \"This is an info message!\")\n",
        "```\n",
        "\n",
        "- If we are still in a development phase of our application and have to debug often, setting the log level to DEBUG is useful for obtaining helpful debugging log messages. Once our application is ready for deployment, we can easily set the log level to WARNING to filter out developer-friendly information like DEBUG and INFO messages.\n",
        "- If we are trying to troubleshoot a problem within our application that is causing it to crash, it would be optimal to see only the CRITICAL level log messages and filter out all other messages.\n",
        "\n",
        "\n",
        "\n",
        "```\n",
        "logger.setLevel(logging.DEBUG)\n",
        "```\n",
        "\n",
        "Logging to a File\n",
        "\n",
        "\n",
        "\n",
        "```\n",
        "file_handler = logging.FileHandler(\"my_program.log\")\n",
        "logger.addHandler(file_handler)\n",
        "```\n",
        "\n",
        "\n",
        "\n",
        "\n",
        "\n",
        "\n",
        "\n",
        "\n",
        "\n",
        "\n",
        "\n",
        "\n",
        "\n",
        "\n",
        "\n",
        "\n"
      ],
      "metadata": {
        "id": "khjSz6548Ot7"
      }
    },
    {
      "cell_type": "code",
      "execution_count": null,
      "metadata": {
        "colab": {
          "base_uri": "https://localhost:8080/"
        },
        "id": "SqPx6gpK8Md-",
        "outputId": "67c0cf58-f2ca-4600-9185-11f587e5f3b3"
      },
      "outputs": [
        {
          "output_type": "stream",
          "name": "stdout",
          "text": [
            "0\n",
            "10\n",
            "20\n",
            "30\n",
            "40\n",
            "50\n"
          ]
        }
      ],
      "source": [
        "import logging\n",
        "print(logging.NOTSET)\n",
        "print(logging.DEBUG)\n",
        "print(logging.INFO)\n",
        "print(logging.WARNING)\n",
        "print(logging.ERROR)\n",
        "print(logging.CRITICAL)"
      ]
    },
    {
      "cell_type": "code",
      "source": [
        "import logging\n",
        "import sys\n",
        "\n",
        "logger = logging.getLogger(__name__)\n",
        "stream_handler = logging.StreamHandler(sys.stdout)\n",
        "logger.addHandler(stream_handler)\n",
        "\n",
        "def division():\n",
        "  logger.debug(\"Starting Division! \")\n",
        "  try:\n",
        "    dividend = float(input(\"Enter the dividend: \"))\n",
        "    logger.info(dividend)\n",
        "    divisor = float(input(\"Enter the divisor: \"))\n",
        "    logger.info(divisor)\n",
        "  except ValueError:\n",
        "    logger.log(logging.CRITICAL, \"No dividend or divisor value entered!\")\n",
        "    return\n",
        "  if divisor == 0:\n",
        "    logger.error(\"Attempting to divide by 0!\")\n",
        "    return\n",
        "  else:\n",
        "    return dividend/divisor\n",
        "result = division()\n",
        "if result == None:\n",
        "  logger.warning(\"The result value is None!\")"
      ],
      "metadata": {
        "id": "lk4lvJpwGnPL"
      },
      "execution_count": null,
      "outputs": []
    },
    {
      "cell_type": "markdown",
      "source": [
        "### setLevel"
      ],
      "metadata": {
        "id": "47WprmEeVZKX"
      }
    },
    {
      "cell_type": "code",
      "source": [
        "import logging\n",
        "import sys\n",
        "\n",
        "logger = logging.getLogger(__name__)\n",
        "stream_handler = logging.StreamHandler(sys.stdout)\n",
        "logger.addHandler(stream_handler)\n",
        "logger.setLevel(logging.DEBUG)\n",
        "\n",
        "def division():\n",
        "  logger.debug(\"Starting Division!\")\n",
        "  try:\n",
        "    dividend = float(input(\"Enter the dividend: \" ))\n",
        "    logger.info(dividend)\n",
        "    divisor = float(input(\"Enter the divisor: \"))\n",
        "    logger.info(divisor)\n",
        "  except SyntaxError:\n",
        "    logger.log(logging.CRITICAL, \"No dividend or divisor value entered!\")\n",
        "    return None\n",
        "  if divisor == 0:\n",
        "    logger.error(\"Attempting to divide by 0!\")\n",
        "    return None\n",
        "  else:\n",
        "    return dividend/divisor\n",
        "result = division()\n",
        "if result == None:\n",
        " logger.warning(\"The result value is None!\")"
      ],
      "metadata": {
        "id": "mZ8RuYKhKA5K"
      },
      "execution_count": null,
      "outputs": []
    },
    {
      "cell_type": "markdown",
      "source": [
        "### Logging to a File"
      ],
      "metadata": {
        "id": "aV3XyDZSVWhW"
      }
    },
    {
      "cell_type": "code",
      "source": [
        "import logging\n",
        "import sys\n",
        "\n",
        "logger = logging.getLogger(__name__)\n",
        "logger.setLevel(logging.DEBUG)\n",
        "\n",
        "file_handler = logging.FileHandler('output.log')\n",
        "logger.addHandler(file_handler)\n",
        "\n",
        "def division():\n",
        "  logger.debug(\"Starting Division!\")\n",
        "  try:\n",
        "    dividend = float(input(\"Enter the dividend: \"))\n",
        "    logger.info(dividend)\n",
        "    divisor = float(input(\"Enter the divisor: \"))\n",
        "    logger.info(divisor)\n",
        "  except SyntaxError:\n",
        "    logger.log(logging.CRITICAL, \"No dividend or divisor value entered!\")\n",
        "    return\n",
        "  if divisor == 0:\n",
        "    logger.error(\"Attempting to divide by 0!\")\n",
        "    return\n",
        "  else:\n",
        "      return dividend/divisor\n",
        "result = division()\n",
        "if result == None:\n",
        "  logger.warning(\"The result value is None!\")"
      ],
      "metadata": {
        "id": "PzwCslXnVMNd"
      },
      "execution_count": null,
      "outputs": []
    },
    {
      "cell_type": "markdown",
      "source": [
        "### We can easily direct our log messages to multiple streams, such as both a console and a file.\n",
        "\n",
        "\n",
        "\n",
        "```\n",
        "logger.addHandler(file_handler)\n",
        "logger.addHandler(stream_handler)\n",
        "```\n",
        "\n",
        "\n",
        "\n"
      ],
      "metadata": {
        "id": "FTjR7wAjV1Wl"
      }
    },
    {
      "cell_type": "markdown",
      "source": [
        "### Formatting for all log messages\n",
        "\n",
        "\n",
        "\n",
        "```\n",
        "%(levelname)s:%(name)s:%(message)s\n",
        "\n",
        "formatter = logging.Formatter(\"[%(asctime)s] %(levelname)s:%(name)s:%(lineno)d:%(message)s\")\n",
        "\n",
        "[2021-11-04 02:58:51,847] WARNING:script:This is a warning!\n",
        "\n",
        "```\n",
        "\n"
      ],
      "metadata": {
        "id": "7MSKJpEmW2kd"
      }
    },
    {
      "cell_type": "markdown",
      "source": [
        "### Do all with basicConfig()\n",
        "\n",
        "\n",
        "```\n",
        "logging.basicConfig(filename='calculator.log', level=logging.DEBUG, format='[%(asctime)s] %(levelname)s - %(message)s')\n",
        "```\n",
        "\n"
      ],
      "metadata": {
        "id": "UfZRapXph6Sb"
      }
    },
    {
      "cell_type": "markdown",
      "source": [
        "# Testy"
      ],
      "metadata": {
        "id": "axCO3TGpG244"
      }
    },
    {
      "cell_type": "markdown",
      "source": [
        "# Praca z HTTP i JSON-em"
      ],
      "metadata": {
        "id": "HcG7RSXSHAjL"
      }
    },
    {
      "cell_type": "markdown",
      "source": [
        "# Zadania"
      ],
      "metadata": {
        "id": "ZZEqhGxctoHT"
      }
    },
    {
      "cell_type": "markdown",
      "source": [
        "## Ćw 1 - @dekorator"
      ],
      "metadata": {
        "id": "yVWeofCfx7_a"
      }
    },
    {
      "cell_type": "markdown",
      "source": [
        "Napisać dekorator, mający za zadanie, drukować informację o czasie wykonywania funkcji. Dekorator, powinien być gotowy dekorować funkcje przyjmujące różną ilość parametrów.\n",
        "\n"
      ],
      "metadata": {
        "id": "mZ-nU5Swtq0s"
      }
    },
    {
      "cell_type": "code",
      "source": [
        "import time\n",
        "start = time.time()\n",
        "time.sleep(1)\n",
        "koniec = time.time()\n",
        "print(koniec - start)"
      ],
      "metadata": {
        "colab": {
          "base_uri": "https://localhost:8080/"
        },
        "id": "_e5ToiZjtqKd",
        "outputId": "ec7bda14-5863-4ab2-8332-fb443127a7b0"
      },
      "execution_count": null,
      "outputs": [
        {
          "output_type": "stream",
          "name": "stdout",
          "text": [
            "1.001448631286621\n"
          ]
        }
      ]
    },
    {
      "cell_type": "code",
      "source": [
        "def dekor(funkcja):\n",
        "  def wew(*args,**kwargs):\n",
        "    start = time.time()\n",
        "    x = funkcja(*args,**kwargs)\n",
        "    koniec = time.time()\n",
        "    diff = koniec - start\n",
        "    print(f'Funkcja {zwyklaFunkcja.__name__} wykonywała się {diff}')\n",
        "  return wew\n",
        "\n",
        "@dekor\n",
        "def zwyklaFunkcja(a,b,c):\n",
        "  dzialanie = a+b+c-a-b-c\n",
        "  time.sleep(1)\n",
        "  print('zzz')\n",
        "  return dzialanie\n",
        "\n",
        "zwyklaFunkcja(1,2,3)"
      ],
      "metadata": {
        "colab": {
          "base_uri": "https://localhost:8080/"
        },
        "id": "ze9fES3ity5r",
        "outputId": "4a19426c-95d1-44ab-afa6-b2b2c43862dc"
      },
      "execution_count": null,
      "outputs": [
        {
          "output_type": "stream",
          "name": "stdout",
          "text": [
            "zzz\n",
            "Funkcja wew wykonywała się 1.002204179763794\n"
          ]
        }
      ]
    },
    {
      "cell_type": "code",
      "source": [
        "import time\n",
        "\n",
        "def dekor(funkcja):\n",
        "\n",
        "    def wew(*args, **kwargs):\n",
        "        start = time.time()\n",
        "        x = funkcja(*args, **kwargs)\n",
        "        koniec = time.time()\n",
        "        print(funkcja.__name__, \"wykonywała się\", koniec - start, \"sekund.\")\n",
        "        return x\n",
        "    return wew\n",
        "\n",
        "@dekor\n",
        "def dodaj(a,b):\n",
        "    time.sleep(1)\n",
        "    return a+b\n",
        "\n",
        "@dekor\n",
        "def odejmij(a,b,c):\n",
        "    time.sleep(0.5)\n",
        "    return a-b-c\n",
        "\n",
        "print(dodaj(2,2))\n",
        "print(odejmij(1,2,3))"
      ],
      "metadata": {
        "colab": {
          "base_uri": "https://localhost:8080/"
        },
        "id": "zM7lQV1Oww8n",
        "outputId": "e14be93d-0cad-483b-87dd-d05ebfc6b923"
      },
      "execution_count": null,
      "outputs": [
        {
          "output_type": "stream",
          "name": "stdout",
          "text": [
            "dodaj wykonywała się 1.001136064529419 sekund.\n",
            "4\n",
            "odejmij wykonywała się 0.5006606578826904 sekund.\n",
            "-4\n"
          ]
        }
      ]
    },
    {
      "cell_type": "markdown",
      "source": [
        "## Ćw 2 - algorytm bąbelkowy"
      ],
      "metadata": {
        "id": "gJ-Sjyy9x_3G"
      }
    },
    {
      "cell_type": "markdown",
      "source": [
        "Problem: mamy podaną listę liczb. Np. A = [2,1,5,3,6]. Należy posortować ją rosnąco, za pomocą algorytmu bąbelkowego.\n",
        "\n"
      ],
      "metadata": {
        "id": "HkzhjBlfyECR"
      }
    },
    {
      "cell_type": "markdown",
      "source": [
        "1. ’przejściu’ przez poszczególne elementy list, np za pomocą pętli 'for’,\n",
        "2. sprawdzeniu czy element następny na liście, jest mniejszy. Jeżeli tak, zastąpieniu ich miejscami.\n",
        "3. Powtarzamy czynność, dla kolejnego elementu i sprawdzamy czy kolejny jest mniejszy. Jeżeli tak, to zamieniamy miejscami, itd\n",
        "4. W momencie, kiedy dojdziemy do końca listy, na jej końcu powinna znajdować się największa liczba z listy,\n",
        "5. Następnie powtarzamy naszą pętlę 'for’, zaczynając od początku.\n",
        "kończymy wtedy, gdy wykonamy interakcję bez zmiany kolejności żadnego elementu"
      ],
      "metadata": {
        "id": "YIn292hlyONo"
      }
    },
    {
      "cell_type": "code",
      "source": [
        "A = [2,1,5,3,6] #5 el #do 4 iteracja\n",
        "\n",
        "def babelkowe(lista):\n",
        "  for id in range(0, len(lista)-1):\n",
        "    scnd_num = id+1\n",
        "    if lista[scnd_num] < lista[id]:\n",
        "\n",
        "      return lista\n",
        "\n",
        "# # for el in A:\n",
        "#   id = A.index(el)\n",
        "#   print(A[id])\n",
        "#   if A[id+1] < A[id]:\n",
        "#     A.remove(A[id])\n",
        "#     A.insert(A[id],id+1)\n",
        "babelkowe(A)"
      ],
      "metadata": {
        "colab": {
          "base_uri": "https://localhost:8080/"
        },
        "id": "WlCwAG9IyUeq",
        "outputId": "9d4da258-8499-4178-c748-480ad182e04f"
      },
      "execution_count": null,
      "outputs": [
        {
          "output_type": "execute_result",
          "data": {
            "text/plain": [
              "[2, 1, 5, 3, 6]"
            ]
          },
          "metadata": {},
          "execution_count": 92
        }
      ]
    },
    {
      "cell_type": "code",
      "source": [
        "def sortowanie_babelkowe(lista):\n",
        "    n = len(lista)\n",
        "\n",
        "    while n > 1:\n",
        "        zamien = False\n",
        "        for l in range(0, n-1):\n",
        "            if lista[l] > lista[l+1]:\n",
        "                lista[l], lista[l+1] = lista[l+1], lista[l]\n",
        "                zamien = True\n",
        "\n",
        "        n -= 1\n",
        "        print(lista)\n",
        "        if zamien == False: break\n",
        "\n",
        "    return lista\n",
        "\n",
        "sortowanie_babelkowe([5,6,-1,0])"
      ],
      "metadata": {
        "colab": {
          "base_uri": "https://localhost:8080/"
        },
        "id": "G7zSa5PI7LrL",
        "outputId": "cea31066-eab0-4518-bc80-ff9ee9f07ac5"
      },
      "execution_count": null,
      "outputs": [
        {
          "output_type": "stream",
          "name": "stdout",
          "text": [
            "[5, -1, 0, 6]\n",
            "[-1, 0, 5, 6]\n",
            "[-1, 0, 5, 6]\n"
          ]
        },
        {
          "output_type": "execute_result",
          "data": {
            "text/plain": [
              "[-1, 0, 5, 6]"
            ]
          },
          "metadata": {},
          "execution_count": 80
        }
      ]
    },
    {
      "cell_type": "markdown",
      "source": [
        "## Ćw 3 - wyszukiwanie binarne"
      ],
      "metadata": {
        "id": "N4fek7vk-9S5"
      }
    },
    {
      "cell_type": "markdown",
      "source": [
        "*   Wyszukiwanie binarne, to algorytm mający na celu sprawdzenie czy podany element znajduje się na posortowanej liście liczb oraz wskazanie jego miejsca.\n",
        "\n",
        "*   Działa w czasie logarytmicznym co nabiera znaczenia w przypadku dużych zbiorów danych.\n"
      ],
      "metadata": {
        "id": "rdqnEp8l_I5I"
      }
    },
    {
      "cell_type": "code",
      "source": [
        "http://analityk.edu.pl/wyszukiwanie-binarne/"
      ],
      "metadata": {
        "id": "Bn0zJR65_Wva"
      },
      "execution_count": null,
      "outputs": []
    },
    {
      "cell_type": "markdown",
      "source": [
        "# Importowanie danych z innych plików Colab"
      ],
      "metadata": {
        "id": "Iyrn3r3l2K22"
      }
    },
    {
      "cell_type": "code",
      "source": [
        "from google.colab import drive\n",
        "drive.mount('/content/gdrive/')"
      ],
      "metadata": {
        "colab": {
          "base_uri": "https://localhost:8080/"
        },
        "id": "9vVhkO2l2OEu",
        "outputId": "d5c1e0e6-33a0-4115-d920-54d5346a8bc7"
      },
      "execution_count": null,
      "outputs": [
        {
          "output_type": "stream",
          "name": "stdout",
          "text": [
            "Drive already mounted at /content/gdrive/; to attempt to forcibly remount, call drive.mount(\"/content/gdrive/\", force_remount=True).\n"
          ]
        }
      ]
    },
    {
      "cell_type": "code",
      "source": [
        "import sys\n",
        "sys.path.append('/content/gdrive/MyDrive/Colab Notebooks/python_modules.ipynb')"
      ],
      "metadata": {
        "id": "7GmhL0ZWEsdE"
      },
      "execution_count": null,
      "outputs": []
    },
    {
      "cell_type": "code",
      "source": [
        "%cd /content/gdrive/MyDrive/Colab Notebooks/\n",
        "!ls"
      ],
      "metadata": {
        "id": "GOMBYcFf8tRJ"
      },
      "execution_count": null,
      "outputs": []
    },
    {
      "cell_type": "code",
      "source": [
        "!python python_methods.ipynb"
      ],
      "metadata": {
        "id": "M7o7bNvJAuL5"
      },
      "execution_count": null,
      "outputs": []
    },
    {
      "cell_type": "code",
      "source": [
        "!cp \"/content/gdrive/MyDrive/Colab Notebooks/python_modules.ipynb\" ."
      ],
      "metadata": {
        "colab": {
          "base_uri": "https://localhost:8080/"
        },
        "id": "4I_seh7sDPWi",
        "outputId": "f6ba8e19-fc5d-4474-8c79-0c3f87b05d87"
      },
      "execution_count": null,
      "outputs": [
        {
          "output_type": "stream",
          "name": "stdout",
          "text": [
            "cp: '/content/gdrive/MyDrive/Colab Notebooks/python_modules.ipynb' and './python_modules.ipynb' are the same file\n"
          ]
        }
      ]
    },
    {
      "cell_type": "code",
      "source": [
        "import python_modules\n",
        "print(python_modules.zlicz(\"Ala ma kota\"))"
      ],
      "metadata": {
        "colab": {
          "base_uri": "https://localhost:8080/",
          "height": 322
        },
        "id": "DTy3vIBS40C_",
        "outputId": "3142c61f-72df-4874-870b-ce43ba07f0e4"
      },
      "execution_count": null,
      "outputs": [
        {
          "output_type": "error",
          "ename": "ModuleNotFoundError",
          "evalue": "ignored",
          "traceback": [
            "\u001b[0;31m---------------------------------------------------------------------------\u001b[0m",
            "\u001b[0;31mModuleNotFoundError\u001b[0m                       Traceback (most recent call last)",
            "\u001b[0;32m<ipython-input-181-c39ebd129c66>\u001b[0m in \u001b[0;36m<cell line: 1>\u001b[0;34m()\u001b[0m\n\u001b[0;32m----> 1\u001b[0;31m \u001b[0;32mimport\u001b[0m \u001b[0mpython_modules\u001b[0m\u001b[0;34m\u001b[0m\u001b[0;34m\u001b[0m\u001b[0m\n\u001b[0m\u001b[1;32m      2\u001b[0m \u001b[0mprint\u001b[0m\u001b[0;34m(\u001b[0m\u001b[0mpython_modules\u001b[0m\u001b[0;34m.\u001b[0m\u001b[0mzlicz\u001b[0m\u001b[0;34m(\u001b[0m\u001b[0;34m\"Ala ma kota\"\u001b[0m\u001b[0;34m)\u001b[0m\u001b[0;34m)\u001b[0m\u001b[0;34m\u001b[0m\u001b[0;34m\u001b[0m\u001b[0m\n",
            "\u001b[0;31mModuleNotFoundError\u001b[0m: No module named 'python_modules'",
            "",
            "\u001b[0;31m---------------------------------------------------------------------------\u001b[0;32m\nNOTE: If your import is failing due to a missing package, you can\nmanually install dependencies using either !pip or !apt.\n\nTo view examples of installing some common dependencies, click the\n\"Open Examples\" button below.\n\u001b[0;31m---------------------------------------------------------------------------\u001b[0m\n"
          ],
          "errorDetails": {
            "actions": [
              {
                "action": "open_url",
                "actionText": "Open Examples",
                "url": "/notebooks/snippets/importing_libraries.ipynb"
              }
            ]
          }
        }
      ]
    },
    {
      "cell_type": "code",
      "source": [
        "print(python_modules.niezlicz(\"Ala ma kota\"))"
      ],
      "metadata": {
        "colab": {
          "base_uri": "https://localhost:8080/",
          "height": 166
        },
        "id": "Z0ZrQAHG-cCv",
        "outputId": "db1e15da-6c41-4235-b489-53a81df04e69"
      },
      "execution_count": null,
      "outputs": [
        {
          "output_type": "error",
          "ename": "NameError",
          "evalue": "ignored",
          "traceback": [
            "\u001b[0;31m---------------------------------------------------------------------------\u001b[0m",
            "\u001b[0;31mNameError\u001b[0m                                 Traceback (most recent call last)",
            "\u001b[0;32m<ipython-input-182-b928b09ed025>\u001b[0m in \u001b[0;36m<cell line: 1>\u001b[0;34m()\u001b[0m\n\u001b[0;32m----> 1\u001b[0;31m \u001b[0mprint\u001b[0m\u001b[0;34m(\u001b[0m\u001b[0mpython_modules\u001b[0m\u001b[0;34m.\u001b[0m\u001b[0mniezlicz\u001b[0m\u001b[0;34m(\u001b[0m\u001b[0;34m\"Ala ma kota\"\u001b[0m\u001b[0;34m)\u001b[0m\u001b[0;34m)\u001b[0m\u001b[0;34m\u001b[0m\u001b[0;34m\u001b[0m\u001b[0m\n\u001b[0m",
            "\u001b[0;31mNameError\u001b[0m: name 'python_modules' is not defined"
          ]
        }
      ]
    }
  ]
}