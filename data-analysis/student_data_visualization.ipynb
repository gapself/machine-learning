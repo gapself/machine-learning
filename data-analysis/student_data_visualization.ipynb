{
  "nbformat": 4,
  "nbformat_minor": 0,
  "metadata": {
    "colab": {
      "provenance": [],
      "authorship_tag": "ABX9TyPMvZcJjY61c+B9RY7yTgyT",
      "include_colab_link": true
    },
    "kernelspec": {
      "name": "python3",
      "display_name": "Python 3"
    },
    "language_info": {
      "name": "python"
    }
  },
  "cells": [
    {
      "cell_type": "markdown",
      "metadata": {
        "id": "view-in-github",
        "colab_type": "text"
      },
      "source": [
        "<a href=\"https://colab.research.google.com/github/gapself/machine-learning-projects/blob/main/data-analysis/student_data_visualization.ipynb\" target=\"_parent\"><img src=\"https://colab.research.google.com/assets/colab-badge.svg\" alt=\"Open In Colab\"/></a>"
      ]
    },
    {
      "cell_type": "code",
      "execution_count": 10,
      "metadata": {
        "id": "VlOxJOL0dZm9"
      },
      "outputs": [],
      "source": [
        "import pandas as pd\n",
        "import numpy as np\n",
        "import seaborn as sns\n",
        "import matplotlib.pyplot as plt"
      ]
    },
    {
      "cell_type": "markdown",
      "source": [
        "data: https://archive.ics.uci.edu/ml/datasets/Student+Performance"
      ],
      "metadata": {
        "id": "4DqxbWvbfjFy"
      }
    },
    {
      "cell_type": "code",
      "source": [
        "students = pd.read_csv('./student-mat.csv', delimiter=';')\n",
        "print(students.head())"
      ],
      "metadata": {
        "colab": {
          "base_uri": "https://localhost:8080/"
        },
        "id": "8R6C0FO6d3Vr",
        "outputId": "16d019e9-b4b9-4e52-a05d-b3b3124771ce"
      },
      "execution_count": 7,
      "outputs": [
        {
          "output_type": "stream",
          "name": "stdout",
          "text": [
            "  school sex  age address famsize Pstatus  Medu  Fedu     Mjob      Fjob  ...  \\\n",
            "0     GP   F   18       U     GT3       A     4     4  at_home   teacher  ...   \n",
            "1     GP   F   17       U     GT3       T     1     1  at_home     other  ...   \n",
            "2     GP   F   15       U     LE3       T     1     1  at_home     other  ...   \n",
            "3     GP   F   15       U     GT3       T     4     2   health  services  ...   \n",
            "4     GP   F   16       U     GT3       T     3     3    other     other  ...   \n",
            "\n",
            "  famrel freetime  goout  Dalc  Walc health absences  G1  G2  G3  \n",
            "0      4        3      4     1     1      3        6   5   6   6  \n",
            "1      5        3      3     1     1      3        4   5   5   6  \n",
            "2      4        3      2     2     3      3       10   7   8  10  \n",
            "3      3        2      2     1     1      5        2  15  14  15  \n",
            "4      4        3      2     1     2      5        4   6  10  10  \n",
            "\n",
            "[5 rows x 33 columns]\n"
          ]
        }
      ]
    },
    {
      "cell_type": "markdown",
      "source": [
        "* school: the school each student attends, Gabriel Periera ('GP') or Mousinho da Silveria ('MS')\n",
        "* address: the location of the student’s home ('U' for urban and 'R' for rural)\n",
        "* absences: the number of times the student was absent during the \n",
        "* school year\n",
        "* Mjob: the student’s mother’s job industry\n",
        "* Fjob: the student’s father’s job industry\n",
        "* G3: the student’s score on a math assessment, ranging from 0 to 20"
      ],
      "metadata": {
        "id": "dgUV9XXZepll"
      }
    },
    {
      "cell_type": "code",
      "source": [
        "# #separate out scores for students who live in urban and rural locations:\n",
        "scores_urban = students.G3[students.address== 'U']\n",
        "scores_rural = students.G3[students.address== 'R']\n",
        "\n",
        "print(scores_urban)\n",
        "print(scores_rural)"
      ],
      "metadata": {
        "colab": {
          "base_uri": "https://localhost:8080/"
        },
        "id": "6WN86_zfeWCP",
        "outputId": "cae580b2-2525-44ce-84a1-f90f3e60f7ae"
      },
      "execution_count": 8,
      "outputs": [
        {
          "output_type": "stream",
          "name": "stdout",
          "text": [
            "0       6\n",
            "1       6\n",
            "2      10\n",
            "3      15\n",
            "4      10\n",
            "       ..\n",
            "388     8\n",
            "389     0\n",
            "390     9\n",
            "391    16\n",
            "394     9\n",
            "Name: G3, Length: 307, dtype: int64\n",
            "24      8\n",
            "32     16\n",
            "37     15\n",
            "38     11\n",
            "39     13\n",
            "       ..\n",
            "385    10\n",
            "386     6\n",
            "387     0\n",
            "392     7\n",
            "393    10\n",
            "Name: G3, Length: 88, dtype: int64\n"
          ]
        }
      ]
    },
    {
      "cell_type": "markdown",
      "source": [
        "# Mean and Median Differences\n"
      ],
      "metadata": {
        "id": "ORtzVP_ae4x6"
      }
    },
    {
      "cell_type": "code",
      "source": [
        "#calculate means for each group:\n",
        "scores_urban_mean = np.mean(scores_urban)\n",
        "scores_rural_mean = np.mean(scores_rural)\n",
        "\n",
        "#print mean scores:\n",
        "print('Mean score - students w/ urban address:')\n",
        "print(scores_urban_mean)\n",
        "print('Mean score - students w/ rural address:')\n",
        "print(scores_rural_mean)\n",
        "\n",
        "#calculate mean difference:\n",
        "mean_diff = scores_urban_mean - scores_rural_mean\n",
        "\n",
        "#print mean difference\n",
        "print('Mean difference:')\n",
        "print(mean_diff)\n",
        "\n",
        "#calculate medians for each group:\n",
        "scores_urban_median = np.median(scores_urban)\n",
        "scores_rural_median = np.median(scores_rural)\n",
        "\n",
        "#print median scores\n",
        "print('Median score - students w/ urban address:')\n",
        "print(scores_urban_median)\n",
        "print('Median score - students w/ rural address:')\n",
        "print(scores_rural_median)\n",
        "\n",
        "#calculate median difference\n",
        "median_diff = scores_urban_median-scores_rural_median\n",
        "\n",
        "#print median difference\n",
        "print('Median difference:')\n",
        "print(median_diff)"
      ],
      "metadata": {
        "colab": {
          "base_uri": "https://localhost:8080/"
        },
        "id": "gDL3DfC8eiNx",
        "outputId": "51c019e8-369e-4769-d245-1d4caaae40f4"
      },
      "execution_count": 11,
      "outputs": [
        {
          "output_type": "stream",
          "name": "stdout",
          "text": [
            "Mean score - students w/ urban address:\n",
            "10.674267100977199\n",
            "Mean score - students w/ rural address:\n",
            "9.511363636363637\n",
            "Mean difference:\n",
            "1.1629034646135619\n",
            "Median score - students w/ urban address:\n",
            "11.0\n",
            "Median score - students w/ rural address:\n",
            "10.0\n",
            "Median difference:\n",
            "1.0\n"
          ]
        }
      ]
    },
    {
      "cell_type": "markdown",
      "source": [
        "# Side-by-Side Box Plots\n"
      ],
      "metadata": {
        "id": "e5lba4jSfIQ1"
      }
    },
    {
      "cell_type": "code",
      "source": [
        "sns.boxplot(data=students, x='address', y='G3')\n",
        "plt.show()"
      ],
      "metadata": {
        "colab": {
          "base_uri": "https://localhost:8080/",
          "height": 279
        },
        "id": "XFPFiFq5fKge",
        "outputId": "230fd8a1-5989-4220-c224-efd8af7ef3c5"
      },
      "execution_count": 12,
      "outputs": [
        {
          "output_type": "display_data",
          "data": {
            "text/plain": [
              "<Figure size 432x288 with 1 Axes>"
            ],
            "image/png": "[encoded data removed]"
          },
          "metadata": {
            "needs_background": "light"
          }
        }
      ]
    },
    {
      "cell_type": "markdown",
      "source": [
        "# Inspecting Overlapping Histograms\n"
      ],
      "metadata": {
        "id": "nj_2s7mHfO-A"
      }
    },
    {
      "cell_type": "code",
      "source": [
        "#create the overlapping histograms here:\n",
        "plt.hist(scores_urban, color='blue', label='Urban', density=True,alpha=0.5)\n",
        "plt.hist(scores_rural, color='pink', label='Rural', density=True,alpha=0.5)\n",
        "plt.legend()\n",
        "plt.show()"
      ],
      "metadata": {
        "colab": {
          "base_uri": "https://localhost:8080/",
          "height": 265
        },
        "id": "pf-BpNRUfPHY",
        "outputId": "638e759f-633b-4754-d853-441155c4170e"
      },
      "execution_count": 14,
      "outputs": [
        {
          "output_type": "display_data",
          "data": {
            "text/plain": [
              "<Figure size 432x288 with 1 Axes>"
            ],
            "image/png": "[encoded data removed]"
          },
          "metadata": {
            "needs_background": "light"
          }
        }
      ]
    },
    {
      "cell_type": "markdown",
      "source": [
        "#Exploring Non-Binary Categorical Variables\n"
      ],
      "metadata": {
        "id": "dMls89UDfrBm"
      }
    },
    {
      "cell_type": "code",
      "source": [
        "sns.boxplot(data=students, x='Fjob', y='G3')\n",
        "plt.show()"
      ],
      "metadata": {
        "colab": {
          "base_uri": "https://localhost:8080/",
          "height": 280
        },
        "id": "CzFbc4J9frMK",
        "outputId": "bef4de70-b68f-4c7b-b4a2-3c84bb0591c0"
      },
      "execution_count": 15,
      "outputs": [
        {
          "output_type": "display_data",
          "data": {
            "text/plain": [
              "<Figure size 432x288 with 1 Axes>"
            ],
            "image/png": "[encoded data removed]"
          },
          "metadata": {
            "needs_background": "light"
          }
        }
      ]
    },
    {
      "cell_type": "markdown",
      "source": [
        "# Zadanie 1"
      ],
      "metadata": {
        "id": "NXIJljGNiIFy"
      }
    },
    {
      "cell_type": "markdown",
      "source": [
        "Przedstaw na wykresie rozrzutu, relację między spożyciem alkoholu w tygodniu (G1) a wiekiem (Age). Dodatkowo, osobnymi kolorami zaznacz w wykresie osoby których rodzice mają ten sam poziom wykształcenia (medu – wykształcenie matki, fedu – wykształcenie ojca).\n",
        "Dodaj linię trendu do wykresu."
      ],
      "metadata": {
        "id": "ZLccLtDuiKvf"
      }
    },
    {
      "cell_type": "code",
      "source": [
        "from sklearn.linear_model import LinearRegression\n",
        "df = pd.read_csv('./student-mat.csv', delimiter=';')\n",
        "df.head()"
      ],
      "metadata": {
        "colab": {
          "base_uri": "https://localhost:8080/",
          "height": 279
        },
        "id": "jq5qHm1ziHA6",
        "outputId": "fa0379c6-b5e1-4b92-8cfe-2d082a776894"
      },
      "execution_count": 16,
      "outputs": [
        {
          "output_type": "execute_result",
          "data": {
            "text/plain": [
              "  school sex  age address famsize Pstatus  Medu  Fedu     Mjob      Fjob  ...  \\\n",
              "0     GP   F   18       U     GT3       A     4     4  at_home   teacher  ...   \n",
              "1     GP   F   17       U     GT3       T     1     1  at_home     other  ...   \n",
              "2     GP   F   15       U     LE3       T     1     1  at_home     other  ...   \n",
              "3     GP   F   15       U     GT3       T     4     2   health  services  ...   \n",
              "4     GP   F   16       U     GT3       T     3     3    other     other  ...   \n",
              "\n",
              "  famrel freetime  goout  Dalc  Walc health absences  G1  G2  G3  \n",
              "0      4        3      4     1     1      3        6   5   6   6  \n",
              "1      5        3      3     1     1      3        4   5   5   6  \n",
              "2      4        3      2     2     3      3       10   7   8  10  \n",
              "3      3        2      2     1     1      5        2  15  14  15  \n",
              "4      4        3      2     1     2      5        4   6  10  10  \n",
              "\n",
              "[5 rows x 33 columns]"
            ],
            "text/html": [
              "\n",
              "  <div id=\"df-6f817f8b-a3bd-416b-bbb5-c19e77dd7b53\">\n",
              "    <div class=\"colab-df-container\">\n",
              "      <div>\n",
              "<style scoped>\n",
              "    .dataframe tbody tr th:only-of-type {\n",
              "        vertical-align: middle;\n",
              "    }\n",
              "\n",
              "    .dataframe tbody tr th {\n",
              "        vertical-align: top;\n",
              "    }\n",
              "\n",
              "    .dataframe thead th {\n",
              "        text-align: right;\n",
              "    }\n",
              "</style>\n",
              "<table border=\"1\" class=\"dataframe\">\n",
              "  <thead>\n",
              "    <tr style=\"text-align: right;\">\n",
              "      <th></th>\n",
              "      <th>school</th>\n",
              "      <th>sex</th>\n",
              "      <th>age</th>\n",
              "      <th>address</th>\n",
              "      <th>famsize</th>\n",
              "      <th>Pstatus</th>\n",
              "      <th>Medu</th>\n",
              "      <th>Fedu</th>\n",
              "      <th>Mjob</th>\n",
              "      <th>Fjob</th>\n",
              "      <th>...</th>\n",
              "      <th>famrel</th>\n",
              "      <th>freetime</th>\n",
              "      <th>goout</th>\n",
              "      <th>Dalc</th>\n",
              "      <th>Walc</th>\n",
              "      <th>health</th>\n",
              "      <th>absences</th>\n",
              "      <th>G1</th>\n",
              "      <th>G2</th>\n",
              "      <th>G3</th>\n",
              "    </tr>\n",
              "  </thead>\n",
              "  <tbody>\n",
              "    <tr>\n",
              "      <th>0</th>\n",
              "      <td>GP</td>\n",
              "      <td>F</td>\n",
              "      <td>18</td>\n",
              "      <td>U</td>\n",
              "      <td>GT3</td>\n",
              "      <td>A</td>\n",
              "      <td>4</td>\n",
              "      <td>4</td>\n",
              "      <td>at_home</td>\n",
              "      <td>teacher</td>\n",
              "      <td>...</td>\n",
              "      <td>4</td>\n",
              "      <td>3</td>\n",
              "      <td>4</td>\n",
              "      <td>1</td>\n",
              "      <td>1</td>\n",
              "      <td>3</td>\n",
              "      <td>6</td>\n",
              "      <td>5</td>\n",
              "      <td>6</td>\n",
              "      <td>6</td>\n",
              "    </tr>\n",
              "    <tr>\n",
              "      <th>1</th>\n",
              "      <td>GP</td>\n",
              "      <td>F</td>\n",
              "      <td>17</td>\n",
              "      <td>U</td>\n",
              "      <td>GT3</td>\n",
              "      <td>T</td>\n",
              "      <td>1</td>\n",
              "      <td>1</td>\n",
              "      <td>at_home</td>\n",
              "      <td>other</td>\n",
              "      <td>...</td>\n",
              "      <td>5</td>\n",
              "      <td>3</td>\n",
              "      <td>3</td>\n",
              "      <td>1</td>\n",
              "      <td>1</td>\n",
              "      <td>3</td>\n",
              "      <td>4</td>\n",
              "      <td>5</td>\n",
              "      <td>5</td>\n",
              "      <td>6</td>\n",
              "    </tr>\n",
              "    <tr>\n",
              "      <th>2</th>\n",
              "      <td>GP</td>\n",
              "      <td>F</td>\n",
              "      <td>15</td>\n",
              "      <td>U</td>\n",
              "      <td>LE3</td>\n",
              "      <td>T</td>\n",
              "      <td>1</td>\n",
              "      <td>1</td>\n",
              "      <td>at_home</td>\n",
              "      <td>other</td>\n",
              "      <td>...</td>\n",
              "      <td>4</td>\n",
              "      <td>3</td>\n",
              "      <td>2</td>\n",
              "      <td>2</td>\n",
              "      <td>3</td>\n",
              "      <td>3</td>\n",
              "      <td>10</td>\n",
              "      <td>7</td>\n",
              "      <td>8</td>\n",
              "      <td>10</td>\n",
              "    </tr>\n",
              "    <tr>\n",
              "      <th>3</th>\n",
              "      <td>GP</td>\n",
              "      <td>F</td>\n",
              "      <td>15</td>\n",
              "      <td>U</td>\n",
              "      <td>GT3</td>\n",
              "      <td>T</td>\n",
              "      <td>4</td>\n",
              "      <td>2</td>\n",
              "      <td>health</td>\n",
              "      <td>services</td>\n",
              "      <td>...</td>\n",
              "      <td>3</td>\n",
              "      <td>2</td>\n",
              "      <td>2</td>\n",
              "      <td>1</td>\n",
              "      <td>1</td>\n",
              "      <td>5</td>\n",
              "      <td>2</td>\n",
              "      <td>15</td>\n",
              "      <td>14</td>\n",
              "      <td>15</td>\n",
              "    </tr>\n",
              "    <tr>\n",
              "      <th>4</th>\n",
              "      <td>GP</td>\n",
              "      <td>F</td>\n",
              "      <td>16</td>\n",
              "      <td>U</td>\n",
              "      <td>GT3</td>\n",
              "      <td>T</td>\n",
              "      <td>3</td>\n",
              "      <td>3</td>\n",
              "      <td>other</td>\n",
              "      <td>other</td>\n",
              "      <td>...</td>\n",
              "      <td>4</td>\n",
              "      <td>3</td>\n",
              "      <td>2</td>\n",
              "      <td>1</td>\n",
              "      <td>2</td>\n",
              "      <td>5</td>\n",
              "      <td>4</td>\n",
              "      <td>6</td>\n",
              "      <td>10</td>\n",
              "      <td>10</td>\n",
              "    </tr>\n",
              "  </tbody>\n",
              "</table>\n",
              "<p>5 rows × 33 columns</p>\n",
              "</div>\n",
              "      <button class=\"colab-df-convert\" onclick=\"convertToInteractive('df-6f817f8b-a3bd-416b-bbb5-c19e77dd7b53')\"\n",
              "              title=\"Convert this dataframe to an interactive table.\"\n",
              "              style=\"display:none;\">\n",
              "        \n",
              "  <svg xmlns=\"http://www.w3.org/2000/svg\" height=\"24px\"viewBox=\"0 0 24 24\"\n",
              "       width=\"24px\">\n",
              "    <path d=\"M0 0h24v24H0V0z\" fill=\"none\"/>\n",
              "    <path d=\"M18.56 5.44l.94 2.06.94-2.06 2.06-.94-2.06-.94-.94-2.06-.94 2.06-2.06.94zm-11 1L8.5 8.5l.94-2.06 2.06-.94-2.06-.94L8.5 2.5l-.94 2.06-2.06.94zm10 10l.94 2.06.94-2.06 2.06-.94-2.06-.94-.94-2.06-.94 2.06-2.06.94z\"/><path d=\"M17.41 7.96l-1.37-1.37c-.4-.4-.92-.59-1.43-.59-.52 0-1.04.2-1.43.59L10.3 9.45l-7.72 7.72c-.78.78-.78 2.05 0 2.83L4 21.41c.39.39.9.59 1.41.59.51 0 1.02-.2 1.41-.59l7.78-7.78 2.81-2.81c.8-.78.8-2.07 0-2.86zM5.41 20L4 18.59l7.72-7.72 1.47 1.35L5.41 20z\"/>\n",
              "  </svg>\n",
              "      </button>\n",
              "      \n",
              "  <style>\n",
              "    .colab-df-container {\n",
              "      display:flex;\n",
              "      flex-wrap:wrap;\n",
              "      gap: 12px;\n",
              "    }\n",
              "\n",
              "    .colab-df-convert {\n",
              "      background-color: #E8F0FE;\n",
              "      border: none;\n",
              "      border-radius: 50%;\n",
              "      cursor: pointer;\n",
              "      display: none;\n",
              "      fill: #1967D2;\n",
              "      height: 32px;\n",
              "      padding: 0 0 0 0;\n",
              "      width: 32px;\n",
              "    }\n",
              "\n",
              "    .colab-df-convert:hover {\n",
              "      background-color: #E2EBFA;\n",
              "      box-shadow: 0px 1px 2px rgba(60, 64, 67, 0.3), 0px 1px 3px 1px rgba(60, 64, 67, 0.15);\n",
              "      fill: #174EA6;\n",
              "    }\n",
              "\n",
              "    [theme=dark] .colab-df-convert {\n",
              "      background-color: #3B4455;\n",
              "      fill: #D2E3FC;\n",
              "    }\n",
              "\n",
              "    [theme=dark] .colab-df-convert:hover {\n",
              "      background-color: #434B5C;\n",
              "      box-shadow: 0px 1px 3px 1px rgba(0, 0, 0, 0.15);\n",
              "      filter: drop-shadow(0px 1px 2px rgba(0, 0, 0, 0.3));\n",
              "      fill: #FFFFFF;\n",
              "    }\n",
              "  </style>\n",
              "\n",
              "      <script>\n",
              "        const buttonEl =\n",
              "          document.querySelector('#df-6f817f8b-a3bd-416b-bbb5-c19e77dd7b53 button.colab-df-convert');\n",
              "        buttonEl.style.display =\n",
              "          google.colab.kernel.accessAllowed ? 'block' : 'none';\n",
              "\n",
              "        async function convertToInteractive(key) {\n",
              "          const element = document.querySelector('#df-6f817f8b-a3bd-416b-bbb5-c19e77dd7b53');\n",
              "          const dataTable =\n",
              "            await google.colab.kernel.invokeFunction('convertToInteractive',\n",
              "                                                     [key], {});\n",
              "          if (!dataTable) return;\n",
              "\n",
              "          const docLinkHtml = 'Like what you see? Visit the ' +\n",
              "            '<a target=\"_blank\" href=https://colab.research.google.com/notebooks/data_table.ipynb>data table notebook</a>'\n",
              "            + ' to learn more about interactive tables.';\n",
              "          element.innerHTML = '';\n",
              "          dataTable['output_type'] = 'display_data';\n",
              "          await google.colab.output.renderOutput(dataTable, element);\n",
              "          const docLink = document.createElement('div');\n",
              "          docLink.innerHTML = docLinkHtml;\n",
              "          element.appendChild(docLink);\n",
              "        }\n",
              "      </script>\n",
              "    </div>\n",
              "  </div>\n",
              "  "
            ]
          },
          "metadata": {},
          "execution_count": 16
        }
      ]
    },
    {
      "cell_type": "code",
      "source": [
        "x = df['G1']\n",
        "y = df['age']\n",
        "\n",
        "plt.xlabel('G1')\n",
        "plt.ylabel('age')\n",
        "plt.title('Relacja między spożyciem alkoholu w tygodniu (G1) a wiekiem (Age):')\n",
        "\n",
        "model = LinearRegression()\n",
        "x_ = np.array(x).reshape(-1,1)\n",
        "y_ = np.array(y).reshape(-1,1)\n",
        "y.shape\n",
        "model.fit(x_,y_)\n",
        "pred = model.predict(x_)\n",
        "pred = pred.reshape(395)\n",
        "plt.plot(pred,x, color=\"red\")\n",
        "\n",
        "plt.scatter(x,y, s=100, c=[df['Medu']==df['Fedu']])\n",
        "\n",
        "plt.show()"
      ],
      "metadata": {
        "colab": {
          "base_uri": "https://localhost:8080/",
          "height": 295
        },
        "id": "OBsRb66Uiagr",
        "outputId": "38d2732e-1ce7-41d2-ac00-21df9cc82e1b"
      },
      "execution_count": 17,
      "outputs": [
        {
          "output_type": "display_data",
          "data": {
            "text/plain": [
              "<Figure size 432x288 with 1 Axes>"
            ],
            "image/png": "[encoded data removed]"
          },
          "metadata": {
            "needs_background": "light"
          }
        }
      ]
    },
    {
      "cell_type": "code",
      "source": [
        "x = df['G1']\n",
        "y = df['age']\n",
        "plt.scatter(x,y)\n",
        "\n",
        "# trendline\n",
        "x_ = np.array(x).reshape(-1,1)\n",
        "z = np.polyfit(x, y, 1)\n",
        "p = np.poly1d(z)\n",
        "plt.plot(x,p(x),\"r--\")"
      ],
      "metadata": {
        "colab": {
          "base_uri": "https://localhost:8080/",
          "height": 282
        },
        "id": "aYwa-FqNie8-",
        "outputId": "e108c037-687d-46cd-826f-3e9ff8cf1919"
      },
      "execution_count": 18,
      "outputs": [
        {
          "output_type": "execute_result",
          "data": {
            "text/plain": [
              "[<matplotlib.lines.Line2D at 0x7fd6351a00a0>]"
            ]
          },
          "metadata": {},
          "execution_count": 18
        },
        {
          "output_type": "display_data",
          "data": {
            "text/plain": [
              "<Figure size 432x288 with 1 Axes>"
            ],
            "image/png": "[encoded data removed]"
          },
          "metadata": {
            "needs_background": "light"
          }
        }
      ]
    },
    {
      "cell_type": "markdown",
      "source": [
        "# Zadanie 2\n"
      ],
      "metadata": {
        "id": "mJqGQUYNijVb"
      }
    },
    {
      "cell_type": "markdown",
      "source": [
        "Przedstaw histogram wieku osobno dla kobiet i mężczyzn.\n",
        "\n"
      ],
      "metadata": {
        "id": "MZ0lXhRzilD_"
      }
    },
    {
      "cell_type": "code",
      "source": [
        "female = df[df[\"sex\"]==\"F\"]\n",
        "plt.hist(female['age'], bins=10, cumulative=True, density=True, orientation=\"vertical\", histtype=\"bar\", color=\"pink\")\n",
        "plt.xlabel(\"Wartość\")\n",
        "plt.ylabel(\"Natężenie\")\n",
        "plt.title(\"Histogram wieku dla kobiet\")\n",
        "plt.show()"
      ],
      "metadata": {
        "colab": {
          "base_uri": "https://localhost:8080/",
          "height": 295
        },
        "id": "ke-SJ_4VihvR",
        "outputId": "ef743451-38c5-4688-90b5-fa7d9a4d92cd"
      },
      "execution_count": 19,
      "outputs": [
        {
          "output_type": "display_data",
          "data": {
            "text/plain": [
              "<Figure size 432x288 with 1 Axes>"
            ],
            "image/png": "[encoded data removed]"
          },
          "metadata": {
            "needs_background": "light"
          }
        }
      ]
    },
    {
      "cell_type": "code",
      "source": [
        "male = df[df[\"sex\"]==\"M\"]\n",
        "plt.hist(male['age'], bins=10, cumulative=True, density=True, orientation=\"vertical\", histtype=\"bar\", color=\"blue\")\n",
        "plt.xlabel(\"Wartość\")\n",
        "plt.ylabel(\"Natężenie\")\n",
        "plt.title(\"Histogram wieku dla mężczyzn\")\n",
        "plt.show()"
      ],
      "metadata": {
        "colab": {
          "base_uri": "https://localhost:8080/",
          "height": 295
        },
        "id": "hJ458aisitCD",
        "outputId": "1eaf5ffa-4669-4dee-eab2-59dcaa7cc329"
      },
      "execution_count": 20,
      "outputs": [
        {
          "output_type": "display_data",
          "data": {
            "text/plain": [
              "<Figure size 432x288 with 1 Axes>"
            ],
            "image/png": "[encoded data removed]"
          },
          "metadata": {
            "needs_background": "light"
          }
        }
      ]
    },
    {
      "cell_type": "markdown",
      "source": [
        "# Zadanie 3\n"
      ],
      "metadata": {
        "id": "utpyFVw0iraH"
      }
    },
    {
      "cell_type": "markdown",
      "source": [
        "Kolumna FamSize ma dwie wartości LE3 – 3 lub mniej, GT3 3 – więcej niż 3. Przedstaw za pomocą wykresu słupkowego jak wygląda średnia konsumpcja alkoholu (G1), w podziale na płeć, w obdwu grupach wydzielonych ze względu na FamSize.\n",
        "\n"
      ],
      "metadata": {
        "id": "eSjHvE46ixW9"
      }
    },
    {
      "cell_type": "code",
      "source": [
        "female_le3 = female[female['famsize']=='LE3']['G1']\n",
        "female_gt3 = female[female['famsize']=='GT3']['G1']\n",
        "\n",
        "male_le3 = male[male['famsize']=='LE3']['G1']\n",
        "male_gt3 = male[male['famsize']=='GT3']['G1']\n",
        "\n",
        "plt.figure(figsize=(17,6))\n",
        "\n",
        "plt.bar([\"female LE3\",\"female GT3\"], [female_le3.mean(), female_gt3.mean()], color=[\"pink\",\"purple\"])\n",
        "plt.bar([\"male LE3\",\"male GT3\"], [male_le3.mean(), male_gt3.mean()], color=[\"blue\",\"red\"])\n",
        "\n",
        "plt.title('Średnia konsumpcja alkoholu (G1) w zależności od płci w podziale na FamSize', fontsize=15, color='#323232')\n",
        "# plt.xlabel('G1', fontsize=12)\n",
        "plt.ylabel('Średnia konsumpcja alkoholu (G1)',fontsize=13)\n",
        "plt.xlabel('Płeć w podziale na FamSize',fontsize=13)\n",
        "plt.show()"
      ],
      "metadata": {
        "colab": {
          "base_uri": "https://localhost:8080/",
          "height": 412
        },
        "id": "5gRd-Nx9irko",
        "outputId": "620c4156-7632-44fa-f25b-79f323aeb48f"
      },
      "execution_count": 21,
      "outputs": [
        {
          "output_type": "display_data",
          "data": {
            "text/plain": [
              "<Figure size 1224x432 with 1 Axes>"
            ],
            "image/png": "[encoded data removed]"
          },
          "metadata": {
            "needs_background": "light"
          }
        }
      ]
    }
  ]
}