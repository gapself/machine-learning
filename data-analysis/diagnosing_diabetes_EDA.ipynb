{
  "cells": [
    {
      "cell_type": "markdown",
      "metadata": {
        "id": "view-in-github",
        "colab_type": "text"
      },
      "source": [
        "<a href=\"https://colab.research.google.com/github/gapself/machine-learning-projects/blob/main/data-analysis/diagnosing_diabetes_EDA.ipynb\" target=\"_parent\"><img src=\"https://colab.research.google.com/assets/colab-badge.svg\" alt=\"Open In Colab\"/></a>"
      ]
    },
    {
      "cell_type": "markdown",
      "id": "f4c71b09",
      "metadata": {
        "id": "f4c71b09"
      },
      "source": [
        "# EDA: Diagnosing Diabetes"
      ]
    },
    {
      "cell_type": "markdown",
      "id": "7cf00067",
      "metadata": {
        "id": "7cf00067"
      },
      "source": [
        "https://www.kaggle.com/datasets/uciml/pima-indians-diabetes-database"
      ]
    },
    {
      "cell_type": "markdown",
      "id": "6e1cc217",
      "metadata": {
        "id": "6e1cc217"
      },
      "source": [
        "## Initial Inspection"
      ]
    },
    {
      "cell_type": "markdown",
      "id": "76684c5b",
      "metadata": {
        "id": "76684c5b"
      },
      "source": [
        "1. First, familiarize yourself with the dataset.\n",
        "   Look at each of the nine columns in the documentation.\n",
        "   \n",
        "   What do you expect each data type to be?"
      ]
    },
    {
      "cell_type": "markdown",
      "id": "f7bdb023",
      "metadata": {
        "id": "f7bdb023"
      },
      "source": [
        "Expected data type for each column:\n",
        "\n",
        "- `Pregnancies`: \n",
        "- `Glucose`: \n",
        "- `BloodPressure`: \n",
        "- `SkinThickness`: \n",
        "- `Insulin`: \n",
        "- `BMI`: \n",
        "- `DiabetesPedigreeFunction`: \n",
        "- `Age`: \n",
        "- `Outcome`: "
      ]
    },
    {
      "cell_type": "markdown",
      "id": "fc54249b",
      "metadata": {
        "id": "fc54249b"
      },
      "source": [
        "2. Next, let's load in the diabetes data to start exploring.\n",
        "\n",
        "   Load the data in a variable called `diabetes_data` and print the first few rows.\n",
        "   \n",
        "   **Note**: The data is stored in a file called `diabetes.csv`."
      ]
    },
    {
      "cell_type": "code",
      "execution_count": 52,
      "id": "4839762f",
      "metadata": {
        "colab": {
          "base_uri": "https://localhost:8080/"
        },
        "id": "4839762f",
        "outputId": "e1ce5dc2-e945-46fa-c674-0bf46d1529b7"
      },
      "outputs": [
        {
          "output_type": "stream",
          "name": "stdout",
          "text": [
            "Index(['Pregnancies', 'Glucose', 'BloodPressure', 'SkinThickness', 'Insulin',\n",
            "       'BMI', 'DiabetesPedigreeFunction', 'Age', 'Outcome'],\n",
            "      dtype='object')\n"
          ]
        }
      ],
      "source": [
        "import pandas as pd\n",
        "import numpy as np\n",
        "\n",
        "# load in data\n",
        "diabetes_data = pd.read_csv('diabetes.csv')\n",
        "print(diabetes_data.columns)"
      ]
    },
    {
      "cell_type": "markdown",
      "id": "90d35b44",
      "metadata": {
        "id": "90d35b44"
      },
      "source": [
        "3. How many columns (features) does the data contain?"
      ]
    },
    {
      "cell_type": "code",
      "execution_count": 10,
      "id": "c7fc98c4",
      "metadata": {
        "colab": {
          "base_uri": "https://localhost:8080/"
        },
        "id": "c7fc98c4",
        "outputId": "0f481901-6857-4ede-e64d-09707fee0c95"
      },
      "outputs": [
        {
          "output_type": "stream",
          "name": "stdout",
          "text": [
            "9\n"
          ]
        }
      ],
      "source": [
        "# print number of columns\n",
        "print(len(diabetes_data.columns))"
      ]
    },
    {
      "cell_type": "markdown",
      "id": "35d2bf80",
      "metadata": {
        "id": "35d2bf80"
      },
      "source": [
        "4. How many rows (observations) does the data contain?"
      ]
    },
    {
      "cell_type": "code",
      "execution_count": 13,
      "id": "190b7a90",
      "metadata": {
        "colab": {
          "base_uri": "https://localhost:8080/"
        },
        "id": "190b7a90",
        "outputId": "9dbf6ee6-2f64-4019-a817-a57a41b1304a"
      },
      "outputs": [
        {
          "output_type": "stream",
          "name": "stdout",
          "text": [
            "768\n"
          ]
        }
      ],
      "source": [
        "# print number of rows\n",
        "print(diabetes_data.shape[0])"
      ]
    },
    {
      "cell_type": "markdown",
      "id": "65d8ddf0",
      "metadata": {
        "id": "65d8ddf0"
      },
      "source": [
        "## Further Inspection"
      ]
    },
    {
      "cell_type": "markdown",
      "id": "04e3c6ef",
      "metadata": {
        "id": "04e3c6ef"
      },
      "source": [
        "5. Let's inspect `diabetes_data` further.\n",
        "\n",
        "   Do any of the columns in the data contain null (missing) values?"
      ]
    },
    {
      "cell_type": "code",
      "execution_count": 16,
      "id": "d0fa3860",
      "metadata": {
        "colab": {
          "base_uri": "https://localhost:8080/"
        },
        "id": "d0fa3860",
        "outputId": "77176d9a-8a83-4a13-f02b-b655ecb20fcc"
      },
      "outputs": [
        {
          "output_type": "stream",
          "name": "stdout",
          "text": [
            "Pregnancies                 False\n",
            "Glucose                     False\n",
            "BloodPressure               False\n",
            "SkinThickness               False\n",
            "Insulin                     False\n",
            "BMI                         False\n",
            "DiabetesPedigreeFunction    False\n",
            "Age                         False\n",
            "Outcome                     False\n",
            "dtype: bool\n"
          ]
        }
      ],
      "source": [
        "# find whether columns contain null values\n",
        "print(diabetes_data.isnull().any())"
      ]
    },
    {
      "cell_type": "markdown",
      "id": "8ee62c01",
      "metadata": {
        "id": "8ee62c01"
      },
      "source": [
        "6. If you answered no to the question above, not so fast!\n",
        "\n",
        "   While it's technically true that none of the columns contain null values, that doesn't necessarily mean that the data isn't missing any values.\n",
        "   \n",
        "   When exploring data, you should always question your assumptions and try to dig deeper.\n",
        "   \n",
        "   To investigate further, calculate summary statistics on `diabetes_data` using the `.describe()` method."
      ]
    },
    {
      "cell_type": "code",
      "execution_count": 17,
      "id": "451efb00",
      "metadata": {
        "colab": {
          "base_uri": "https://localhost:8080/",
          "height": 300
        },
        "id": "451efb00",
        "outputId": "0b7a535e-9502-4037-c7e8-4354b4fd2cdc"
      },
      "outputs": [
        {
          "output_type": "execute_result",
          "data": {
            "text/plain": [
              "       Pregnancies     Glucose  BloodPressure  SkinThickness     Insulin  \\\n",
              "count   768.000000  768.000000     768.000000     768.000000  768.000000   \n",
              "mean      3.845052  120.894531      69.105469      20.536458   79.799479   \n",
              "std       3.369578   31.972618      19.355807      15.952218  115.244002   \n",
              "min       0.000000    0.000000       0.000000       0.000000    0.000000   \n",
              "25%       1.000000   99.000000      62.000000       0.000000    0.000000   \n",
              "50%       3.000000  117.000000      72.000000      23.000000   30.500000   \n",
              "75%       6.000000  140.250000      80.000000      32.000000  127.250000   \n",
              "max      17.000000  199.000000     122.000000      99.000000  846.000000   \n",
              "\n",
              "              BMI  DiabetesPedigreeFunction         Age  \n",
              "count  768.000000                768.000000  768.000000  \n",
              "mean    31.992578                  0.471876   33.240885  \n",
              "std      7.884160                  0.331329   11.760232  \n",
              "min      0.000000                  0.078000   21.000000  \n",
              "25%     27.300000                  0.243750   24.000000  \n",
              "50%     32.000000                  0.372500   29.000000  \n",
              "75%     36.600000                  0.626250   41.000000  \n",
              "max     67.100000                  2.420000   81.000000  "
            ],
            "text/html": [
              "\n",
              "  <div id=\"df-aef9e9d4-86cc-4d6b-9b90-d42af119c16e\">\n",
              "    <div class=\"colab-df-container\">\n",
              "      <div>\n",
              "<style scoped>\n",
              "    .dataframe tbody tr th:only-of-type {\n",
              "        vertical-align: middle;\n",
              "    }\n",
              "\n",
              "    .dataframe tbody tr th {\n",
              "        vertical-align: top;\n",
              "    }\n",
              "\n",
              "    .dataframe thead th {\n",
              "        text-align: right;\n",
              "    }\n",
              "</style>\n",
              "<table border=\"1\" class=\"dataframe\">\n",
              "  <thead>\n",
              "    <tr style=\"text-align: right;\">\n",
              "      <th></th>\n",
              "      <th>Pregnancies</th>\n",
              "      <th>Glucose</th>\n",
              "      <th>BloodPressure</th>\n",
              "      <th>SkinThickness</th>\n",
              "      <th>Insulin</th>\n",
              "      <th>BMI</th>\n",
              "      <th>DiabetesPedigreeFunction</th>\n",
              "      <th>Age</th>\n",
              "    </tr>\n",
              "  </thead>\n",
              "  <tbody>\n",
              "    <tr>\n",
              "      <th>count</th>\n",
              "      <td>768.000000</td>\n",
              "      <td>768.000000</td>\n",
              "      <td>768.000000</td>\n",
              "      <td>768.000000</td>\n",
              "      <td>768.000000</td>\n",
              "      <td>768.000000</td>\n",
              "      <td>768.000000</td>\n",
              "      <td>768.000000</td>\n",
              "    </tr>\n",
              "    <tr>\n",
              "      <th>mean</th>\n",
              "      <td>3.845052</td>\n",
              "      <td>120.894531</td>\n",
              "      <td>69.105469</td>\n",
              "      <td>20.536458</td>\n",
              "      <td>79.799479</td>\n",
              "      <td>31.992578</td>\n",
              "      <td>0.471876</td>\n",
              "      <td>33.240885</td>\n",
              "    </tr>\n",
              "    <tr>\n",
              "      <th>std</th>\n",
              "      <td>3.369578</td>\n",
              "      <td>31.972618</td>\n",
              "      <td>19.355807</td>\n",
              "      <td>15.952218</td>\n",
              "      <td>115.244002</td>\n",
              "      <td>7.884160</td>\n",
              "      <td>0.331329</td>\n",
              "      <td>11.760232</td>\n",
              "    </tr>\n",
              "    <tr>\n",
              "      <th>min</th>\n",
              "      <td>0.000000</td>\n",
              "      <td>0.000000</td>\n",
              "      <td>0.000000</td>\n",
              "      <td>0.000000</td>\n",
              "      <td>0.000000</td>\n",
              "      <td>0.000000</td>\n",
              "      <td>0.078000</td>\n",
              "      <td>21.000000</td>\n",
              "    </tr>\n",
              "    <tr>\n",
              "      <th>25%</th>\n",
              "      <td>1.000000</td>\n",
              "      <td>99.000000</td>\n",
              "      <td>62.000000</td>\n",
              "      <td>0.000000</td>\n",
              "      <td>0.000000</td>\n",
              "      <td>27.300000</td>\n",
              "      <td>0.243750</td>\n",
              "      <td>24.000000</td>\n",
              "    </tr>\n",
              "    <tr>\n",
              "      <th>50%</th>\n",
              "      <td>3.000000</td>\n",
              "      <td>117.000000</td>\n",
              "      <td>72.000000</td>\n",
              "      <td>23.000000</td>\n",
              "      <td>30.500000</td>\n",
              "      <td>32.000000</td>\n",
              "      <td>0.372500</td>\n",
              "      <td>29.000000</td>\n",
              "    </tr>\n",
              "    <tr>\n",
              "      <th>75%</th>\n",
              "      <td>6.000000</td>\n",
              "      <td>140.250000</td>\n",
              "      <td>80.000000</td>\n",
              "      <td>32.000000</td>\n",
              "      <td>127.250000</td>\n",
              "      <td>36.600000</td>\n",
              "      <td>0.626250</td>\n",
              "      <td>41.000000</td>\n",
              "    </tr>\n",
              "    <tr>\n",
              "      <th>max</th>\n",
              "      <td>17.000000</td>\n",
              "      <td>199.000000</td>\n",
              "      <td>122.000000</td>\n",
              "      <td>99.000000</td>\n",
              "      <td>846.000000</td>\n",
              "      <td>67.100000</td>\n",
              "      <td>2.420000</td>\n",
              "      <td>81.000000</td>\n",
              "    </tr>\n",
              "  </tbody>\n",
              "</table>\n",
              "</div>\n",
              "      <button class=\"colab-df-convert\" onclick=\"convertToInteractive('df-aef9e9d4-86cc-4d6b-9b90-d42af119c16e')\"\n",
              "              title=\"Convert this dataframe to an interactive table.\"\n",
              "              style=\"display:none;\">\n",
              "        \n",
              "  <svg xmlns=\"http://www.w3.org/2000/svg\" height=\"24px\"viewBox=\"0 0 24 24\"\n",
              "       width=\"24px\">\n",
              "    <path d=\"M0 0h24v24H0V0z\" fill=\"none\"/>\n",
              "    <path d=\"M18.56 5.44l.94 2.06.94-2.06 2.06-.94-2.06-.94-.94-2.06-.94 2.06-2.06.94zm-11 1L8.5 8.5l.94-2.06 2.06-.94-2.06-.94L8.5 2.5l-.94 2.06-2.06.94zm10 10l.94 2.06.94-2.06 2.06-.94-2.06-.94-.94-2.06-.94 2.06-2.06.94z\"/><path d=\"M17.41 7.96l-1.37-1.37c-.4-.4-.92-.59-1.43-.59-.52 0-1.04.2-1.43.59L10.3 9.45l-7.72 7.72c-.78.78-.78 2.05 0 2.83L4 21.41c.39.39.9.59 1.41.59.51 0 1.02-.2 1.41-.59l7.78-7.78 2.81-2.81c.8-.78.8-2.07 0-2.86zM5.41 20L4 18.59l7.72-7.72 1.47 1.35L5.41 20z\"/>\n",
              "  </svg>\n",
              "      </button>\n",
              "      \n",
              "  <style>\n",
              "    .colab-df-container {\n",
              "      display:flex;\n",
              "      flex-wrap:wrap;\n",
              "      gap: 12px;\n",
              "    }\n",
              "\n",
              "    .colab-df-convert {\n",
              "      background-color: #E8F0FE;\n",
              "      border: none;\n",
              "      border-radius: 50%;\n",
              "      cursor: pointer;\n",
              "      display: none;\n",
              "      fill: #1967D2;\n",
              "      height: 32px;\n",
              "      padding: 0 0 0 0;\n",
              "      width: 32px;\n",
              "    }\n",
              "\n",
              "    .colab-df-convert:hover {\n",
              "      background-color: #E2EBFA;\n",
              "      box-shadow: 0px 1px 2px rgba(60, 64, 67, 0.3), 0px 1px 3px 1px rgba(60, 64, 67, 0.15);\n",
              "      fill: #174EA6;\n",
              "    }\n",
              "\n",
              "    [theme=dark] .colab-df-convert {\n",
              "      background-color: #3B4455;\n",
              "      fill: #D2E3FC;\n",
              "    }\n",
              "\n",
              "    [theme=dark] .colab-df-convert:hover {\n",
              "      background-color: #434B5C;\n",
              "      box-shadow: 0px 1px 3px 1px rgba(0, 0, 0, 0.15);\n",
              "      filter: drop-shadow(0px 1px 2px rgba(0, 0, 0, 0.3));\n",
              "      fill: #FFFFFF;\n",
              "    }\n",
              "  </style>\n",
              "\n",
              "      <script>\n",
              "        const buttonEl =\n",
              "          document.querySelector('#df-aef9e9d4-86cc-4d6b-9b90-d42af119c16e button.colab-df-convert');\n",
              "        buttonEl.style.display =\n",
              "          google.colab.kernel.accessAllowed ? 'block' : 'none';\n",
              "\n",
              "        async function convertToInteractive(key) {\n",
              "          const element = document.querySelector('#df-aef9e9d4-86cc-4d6b-9b90-d42af119c16e');\n",
              "          const dataTable =\n",
              "            await google.colab.kernel.invokeFunction('convertToInteractive',\n",
              "                                                     [key], {});\n",
              "          if (!dataTable) return;\n",
              "\n",
              "          const docLinkHtml = 'Like what you see? Visit the ' +\n",
              "            '<a target=\"_blank\" href=https://colab.research.google.com/notebooks/data_table.ipynb>data table notebook</a>'\n",
              "            + ' to learn more about interactive tables.';\n",
              "          element.innerHTML = '';\n",
              "          dataTable['output_type'] = 'display_data';\n",
              "          await google.colab.output.renderOutput(dataTable, element);\n",
              "          const docLink = document.createElement('div');\n",
              "          docLink.innerHTML = docLinkHtml;\n",
              "          element.appendChild(docLink);\n",
              "        }\n",
              "      </script>\n",
              "    </div>\n",
              "  </div>\n",
              "  "
            ]
          },
          "metadata": {},
          "execution_count": 17
        }
      ],
      "source": [
        "# perform summary statistics\n",
        "diabetes_data.describe()"
      ]
    },
    {
      "cell_type": "markdown",
      "id": "ad900272",
      "metadata": {
        "id": "ad900272"
      },
      "source": [
        "7. Looking at the summary statistics, do you notice anything odd about the following columns?\n",
        "\n",
        "   - `Glucose`\n",
        "   - `BloodPressure`\n",
        "   - `SkinThickness`\n",
        "   - `Insulin`\n",
        "   - `BMI`"
      ]
    },
    {
      "cell_type": "markdown",
      "id": "7131eacb",
      "metadata": {
        "id": "7131eacb"
      },
      "source": [
        "**Your response to question 7**:\n",
        "\n",
        "\n",
        ">  If you take a look at the minimum values for these five columns, you'll notice that they are all 0. How can Blood Pressure or BMI be 0? That makes no sense! These values also seem to be way off from their respective medians and means, another indicator that something is off. One way to interpret this is that there are missing values in the data.\n",
        "\n"
      ]
    },
    {
      "cell_type": "markdown",
      "id": "3ed15b79",
      "metadata": {
        "id": "3ed15b79"
      },
      "source": [
        "8. Do you spot any other outliers in the data?"
      ]
    },
    {
      "cell_type": "markdown",
      "id": "8a708e88",
      "metadata": {
        "id": "8a708e88"
      },
      "source": [
        "**Your response to question 8**: \n",
        "\n",
        ">   eg. max pregnancies: 17 <br> max insulin: 846\n",
        "\n"
      ]
    },
    {
      "cell_type": "markdown",
      "id": "4b5bcf47",
      "metadata": {
        "id": "4b5bcf47"
      },
      "source": [
        "9. Let's see if we can get a more accurate view of the missing values in the data.\n",
        "\n",
        "   Replace the instances of `0` with `NaN` in the five columns mentioned:\n",
        "   \n",
        "   ```py\n",
        "   diabetes_data[['Glucose', 'BloodPressure', 'SkinThickness', 'Insulin', 'BMI']]\n",
        "   ```"
      ]
    },
    {
      "cell_type": "code",
      "execution_count": 51,
      "id": "623def40",
      "metadata": {
        "id": "623def40"
      },
      "outputs": [],
      "source": [
        "# replace instances of 0 with NaN\n",
        "diabetes_data[['Glucose', 'BloodPressure', 'SkinThickness', 'Insulin', 'BMI']] = diabetes_data[['Glucose', 'BloodPressure', 'SkinThickness', 'Insulin', 'BMI']].replace(0, np.NaN)"
      ]
    },
    {
      "cell_type": "markdown",
      "id": "ad9fc71d",
      "metadata": {
        "id": "ad9fc71d"
      },
      "source": [
        "10. Next, check for missing (null) values in all of the columns just like you did in Step 5.\n",
        "\n",
        "    Now how many missing values are there?"
      ]
    },
    {
      "cell_type": "code",
      "execution_count": 21,
      "id": "1e4d2845",
      "metadata": {
        "colab": {
          "base_uri": "https://localhost:8080/"
        },
        "id": "1e4d2845",
        "outputId": "d945cfe4-fbc7-4cb0-a47d-d5030d7dd77a"
      },
      "outputs": [
        {
          "output_type": "stream",
          "name": "stdout",
          "text": [
            "Pregnancies                 False\n",
            "Glucose                      True\n",
            "BloodPressure                True\n",
            "SkinThickness                True\n",
            "Insulin                      True\n",
            "BMI                          True\n",
            "DiabetesPedigreeFunction    False\n",
            "Age                         False\n",
            "Outcome                     False\n",
            "dtype: bool\n"
          ]
        }
      ],
      "source": [
        "# find whether columns contain null values after replacements are made\n",
        "print(diabetes_data.isnull().any())"
      ]
    },
    {
      "cell_type": "code",
      "source": [
        "print(diabetes_data.isnull().sum())"
      ],
      "metadata": {
        "colab": {
          "base_uri": "https://localhost:8080/"
        },
        "id": "TThBd3_PNs-O",
        "outputId": "bec0eb97-04e0-4428-b60d-fae6f3f626a9"
      },
      "id": "TThBd3_PNs-O",
      "execution_count": 25,
      "outputs": [
        {
          "output_type": "stream",
          "name": "stdout",
          "text": [
            "Pregnancies                   0\n",
            "Glucose                       5\n",
            "BloodPressure                35\n",
            "SkinThickness               227\n",
            "Insulin                     374\n",
            "BMI                          11\n",
            "DiabetesPedigreeFunction      0\n",
            "Age                           0\n",
            "Outcome                       0\n",
            "dtype: int64\n"
          ]
        }
      ]
    },
    {
      "cell_type": "markdown",
      "id": "4265329e",
      "metadata": {
        "id": "4265329e"
      },
      "source": [
        "11. Let's take a closer look at these rows to get a better idea of _why_ some data might be missing.\n",
        "\n",
        "    Print out all the rows that contain missing (null) values."
      ]
    },
    {
      "cell_type": "code",
      "execution_count": 27,
      "id": "91f5b1fe",
      "metadata": {
        "colab": {
          "base_uri": "https://localhost:8080/"
        },
        "id": "91f5b1fe",
        "outputId": "abb0c21f-a9a1-417a-cb6f-d43282179246"
      },
      "outputs": [
        {
          "output_type": "stream",
          "name": "stdout",
          "text": [
            "     Pregnancies  Glucose  BloodPressure  SkinThickness  Insulin   BMI  \\\n",
            "0              6    148.0           72.0           35.0      NaN  33.6   \n",
            "1              1     85.0           66.0           29.0      NaN  26.6   \n",
            "2              8    183.0           64.0            NaN      NaN  23.3   \n",
            "5              5    116.0           74.0            NaN      NaN  25.6   \n",
            "7             10    115.0            NaN            NaN      NaN  35.3   \n",
            "..           ...      ...            ...            ...      ...   ...   \n",
            "761            9    170.0           74.0           31.0      NaN  44.0   \n",
            "762            9     89.0           62.0            NaN      NaN  22.5   \n",
            "764            2    122.0           70.0           27.0      NaN  36.8   \n",
            "766            1    126.0           60.0            NaN      NaN  30.1   \n",
            "767            1     93.0           70.0           31.0      NaN  30.4   \n",
            "\n",
            "     DiabetesPedigreeFunction  Age Outcome  \n",
            "0                       0.627   50       1  \n",
            "1                       0.351   31       0  \n",
            "2                       0.672   32       1  \n",
            "5                       0.201   30       0  \n",
            "7                       0.134   29       0  \n",
            "..                        ...  ...     ...  \n",
            "761                     0.403   43       1  \n",
            "762                     0.142   33       0  \n",
            "764                     0.340   27       0  \n",
            "766                     0.349   47       1  \n",
            "767                     0.315   23       0  \n",
            "\n",
            "[376 rows x 9 columns]\n"
          ]
        }
      ],
      "source": [
        "# print rows with missing values\n",
        "print(diabetes_data[diabetes_data.isnull().any(axis=1)])"
      ]
    },
    {
      "cell_type": "markdown",
      "id": "e3f06a2e",
      "metadata": {
        "id": "e3f06a2e"
      },
      "source": [
        "12. Go through the rows with missing data. Do you notice any patterns or overlaps between the missing data?"
      ]
    },
    {
      "cell_type": "markdown",
      "id": "cb42cfe6",
      "metadata": {
        "id": "cb42cfe6"
      },
      "source": [
        "**Your response to question 12**:\n",
        "\n",
        "\n",
        "> One thing you might notice is that most rows with missing data have missing values in more than one column. In fact, every single row with at least one missing value also has a missing value in the Insulin column. This is a clue as to why the data is missing! If patients did not have their insulin measured, why might they also not have had these other measurements taken? Depending on how much data is missing, you might choose to remove specific rows or impute the missing values somehow.\n",
        "\n"
      ]
    },
    {
      "cell_type": "markdown",
      "id": "5b597d09",
      "metadata": {
        "id": "5b597d09"
      },
      "source": [
        "13. Next, take a closer look at the data types of each column in `diabetes_data`.\n",
        "\n",
        "    Does the result match what you would expect?"
      ]
    },
    {
      "cell_type": "code",
      "execution_count": 29,
      "id": "5855aa09",
      "metadata": {
        "colab": {
          "base_uri": "https://localhost:8080/"
        },
        "id": "5855aa09",
        "outputId": "da0df4ca-e127-497b-ee1c-4a560750084f"
      },
      "outputs": [
        {
          "output_type": "stream",
          "name": "stdout",
          "text": [
            "<class 'pandas.core.frame.DataFrame'>\n",
            "RangeIndex: 768 entries, 0 to 767\n",
            "Data columns (total 9 columns):\n",
            " #   Column                    Non-Null Count  Dtype  \n",
            "---  ------                    --------------  -----  \n",
            " 0   Pregnancies               768 non-null    int64  \n",
            " 1   Glucose                   763 non-null    float64\n",
            " 2   BloodPressure             733 non-null    float64\n",
            " 3   SkinThickness             541 non-null    float64\n",
            " 4   Insulin                   394 non-null    float64\n",
            " 5   BMI                       757 non-null    float64\n",
            " 6   DiabetesPedigreeFunction  768 non-null    float64\n",
            " 7   Age                       768 non-null    int64  \n",
            " 8   Outcome                   768 non-null    object \n",
            "dtypes: float64(6), int64(2), object(1)\n",
            "memory usage: 54.1+ KB\n",
            "None\n"
          ]
        }
      ],
      "source": [
        "# print data types using .info() method\n",
        "print(diabetes_data.info())"
      ]
    },
    {
      "cell_type": "markdown",
      "id": "c61b8b02",
      "metadata": {
        "id": "c61b8b02"
      },
      "source": [
        "14. To figure out why the `Outcome` column is of type `object` (string) instead of type `int64`, print out the unique values in the `Outcome` column."
      ]
    },
    {
      "cell_type": "code",
      "execution_count": 30,
      "id": "ffedd117",
      "metadata": {
        "colab": {
          "base_uri": "https://localhost:8080/"
        },
        "id": "ffedd117",
        "outputId": "5e32b111-4351-42a3-b8e1-a62e2169ea01"
      },
      "outputs": [
        {
          "output_type": "stream",
          "name": "stdout",
          "text": [
            "['1' '0' 'O']\n"
          ]
        }
      ],
      "source": [
        "# print unique values of Outcome column\n",
        "print(diabetes_data['Outcome'].unique())"
      ]
    },
    {
      "cell_type": "markdown",
      "id": "42b3bcbe",
      "metadata": {
        "id": "42b3bcbe"
      },
      "source": [
        "15. How might you resolve this issue?"
      ]
    },
    {
      "cell_type": "markdown",
      "id": "7495f5b6",
      "metadata": {
        "id": "7495f5b6"
      },
      "source": [
        "**Your response to question 15**:\n",
        "\n",
        "\n",
        "> replace letter with number 0, and then convert column to int\n",
        "\n",
        "\n"
      ]
    },
    {
      "cell_type": "markdown",
      "id": "9c5fbcbe",
      "metadata": {
        "id": "9c5fbcbe"
      },
      "source": [
        "## Next Steps:"
      ]
    },
    {
      "cell_type": "markdown",
      "id": "22a324d0",
      "metadata": {
        "id": "22a324d0"
      },
      "source": [
        "16. Congratulations! In this project, you saw how EDA can help with the initial data inspection and cleaning process. This is an important step as it helps to keep your datasets clean and reliable.\n",
        "\n",
        "    Here are some ways you might extend this project if you'd like:\n",
        "    - Use `.value_counts()` to more fully explore the values in each column.\n",
        "    - Investigate other outliers in the data that may be easily overlooked.\n",
        "    - Instead of changing the `0` values in the five columns to `NaN`, try replacing the values with the median or mean of each column."
      ]
    },
    {
      "cell_type": "code",
      "execution_count": 32,
      "id": "b7f440b6",
      "metadata": {
        "colab": {
          "base_uri": "https://localhost:8080/"
        },
        "id": "b7f440b6",
        "outputId": "e8ba00d0-e9fb-4bd9-c7af-1633b06e8b84"
      },
      "outputs": [
        {
          "output_type": "execute_result",
          "data": {
            "text/plain": [
              "Pregnancies  Glucose  BloodPressure  SkinThickness  Insulin  BMI   DiabetesPedigreeFunction  Age  Outcome\n",
              "0            74.0     52.0           10.0           36.0     27.8  0.269                     22   0          1\n",
              "4            117.0    64.0           27.0           120.0    33.2  0.230                     24   0          1\n",
              "             111.0    72.0           47.0           207.0    37.1  1.390                     56   1          1\n",
              "             110.0    76.0           20.0           100.0    28.4  0.118                     27   0          1\n",
              "             109.0    64.0           44.0           99.0     34.8  0.905                     26   1          1\n",
              "                                                                                                            ..\n",
              "1            131.0    64.0           14.0           415.0    23.7  0.389                     21   0          1\n",
              "             130.0    70.0           13.0           105.0    25.9  0.472                     22   0          1\n",
              "                      60.0           23.0           170.0    28.6  0.692                     21   0          1\n",
              "             128.0    98.0           41.0           58.0     32.0  1.321                     33   1          1\n",
              "17           163.0    72.0           41.0           114.0    40.9  0.817                     47   1          1\n",
              "Length: 392, dtype: int64"
            ]
          },
          "metadata": {},
          "execution_count": 32
        }
      ],
      "source": [
        "diabetes_data.value_counts()"
      ]
    },
    {
      "cell_type": "code",
      "source": [
        "diabetes_data = pd.read_csv('diabetes.csv')"
      ],
      "metadata": {
        "id": "sXvcvfIaScxL"
      },
      "id": "sXvcvfIaScxL",
      "execution_count": 97,
      "outputs": []
    },
    {
      "cell_type": "code",
      "source": [
        "diabetes_data.head(100)"
      ],
      "metadata": {
        "colab": {
          "base_uri": "https://localhost:8080/",
          "height": 424
        },
        "id": "ZAwUyYU8STI4",
        "outputId": "e16b8327-707e-4005-92d8-af9726ec1e2c"
      },
      "id": "ZAwUyYU8STI4",
      "execution_count": 98,
      "outputs": [
        {
          "output_type": "execute_result",
          "data": {
            "text/plain": [
              "    Pregnancies  Glucose  BloodPressure  SkinThickness  Insulin   BMI  \\\n",
              "0             6      148             72             35        0  33.6   \n",
              "1             1       85             66             29        0  26.6   \n",
              "2             8      183             64              0        0  23.3   \n",
              "3             1       89             66             23       94  28.1   \n",
              "4             0      137             40             35      168  43.1   \n",
              "..          ...      ...            ...            ...      ...   ...   \n",
              "95            6      144             72             27      228  33.9   \n",
              "96            2       92             62             28        0  31.6   \n",
              "97            1       71             48             18       76  20.4   \n",
              "98            6       93             50             30       64  28.7   \n",
              "99            1      122             90             51      220  49.7   \n",
              "\n",
              "    DiabetesPedigreeFunction  Age Outcome  \n",
              "0                      0.627   50       1  \n",
              "1                      0.351   31       0  \n",
              "2                      0.672   32       1  \n",
              "3                      0.167   21       0  \n",
              "4                      2.288   33       1  \n",
              "..                       ...  ...     ...  \n",
              "95                     0.255   40       0  \n",
              "96                     0.130   24       0  \n",
              "97                     0.323   22       0  \n",
              "98                     0.356   23       0  \n",
              "99                     0.325   31       1  \n",
              "\n",
              "[100 rows x 9 columns]"
            ],
            "text/html": [
              "\n",
              "  <div id=\"df-88db8f3d-da54-4fef-b645-ba8b63db399d\">\n",
              "    <div class=\"colab-df-container\">\n",
              "      <div>\n",
              "<style scoped>\n",
              "    .dataframe tbody tr th:only-of-type {\n",
              "        vertical-align: middle;\n",
              "    }\n",
              "\n",
              "    .dataframe tbody tr th {\n",
              "        vertical-align: top;\n",
              "    }\n",
              "\n",
              "    .dataframe thead th {\n",
              "        text-align: right;\n",
              "    }\n",
              "</style>\n",
              "<table border=\"1\" class=\"dataframe\">\n",
              "  <thead>\n",
              "    <tr style=\"text-align: right;\">\n",
              "      <th></th>\n",
              "      <th>Pregnancies</th>\n",
              "      <th>Glucose</th>\n",
              "      <th>BloodPressure</th>\n",
              "      <th>SkinThickness</th>\n",
              "      <th>Insulin</th>\n",
              "      <th>BMI</th>\n",
              "      <th>DiabetesPedigreeFunction</th>\n",
              "      <th>Age</th>\n",
              "      <th>Outcome</th>\n",
              "    </tr>\n",
              "  </thead>\n",
              "  <tbody>\n",
              "    <tr>\n",
              "      <th>0</th>\n",
              "      <td>6</td>\n",
              "      <td>148</td>\n",
              "      <td>72</td>\n",
              "      <td>35</td>\n",
              "      <td>0</td>\n",
              "      <td>33.6</td>\n",
              "      <td>0.627</td>\n",
              "      <td>50</td>\n",
              "      <td>1</td>\n",
              "    </tr>\n",
              "    <tr>\n",
              "      <th>1</th>\n",
              "      <td>1</td>\n",
              "      <td>85</td>\n",
              "      <td>66</td>\n",
              "      <td>29</td>\n",
              "      <td>0</td>\n",
              "      <td>26.6</td>\n",
              "      <td>0.351</td>\n",
              "      <td>31</td>\n",
              "      <td>0</td>\n",
              "    </tr>\n",
              "    <tr>\n",
              "      <th>2</th>\n",
              "      <td>8</td>\n",
              "      <td>183</td>\n",
              "      <td>64</td>\n",
              "      <td>0</td>\n",
              "      <td>0</td>\n",
              "      <td>23.3</td>\n",
              "      <td>0.672</td>\n",
              "      <td>32</td>\n",
              "      <td>1</td>\n",
              "    </tr>\n",
              "    <tr>\n",
              "      <th>3</th>\n",
              "      <td>1</td>\n",
              "      <td>89</td>\n",
              "      <td>66</td>\n",
              "      <td>23</td>\n",
              "      <td>94</td>\n",
              "      <td>28.1</td>\n",
              "      <td>0.167</td>\n",
              "      <td>21</td>\n",
              "      <td>0</td>\n",
              "    </tr>\n",
              "    <tr>\n",
              "      <th>4</th>\n",
              "      <td>0</td>\n",
              "      <td>137</td>\n",
              "      <td>40</td>\n",
              "      <td>35</td>\n",
              "      <td>168</td>\n",
              "      <td>43.1</td>\n",
              "      <td>2.288</td>\n",
              "      <td>33</td>\n",
              "      <td>1</td>\n",
              "    </tr>\n",
              "    <tr>\n",
              "      <th>...</th>\n",
              "      <td>...</td>\n",
              "      <td>...</td>\n",
              "      <td>...</td>\n",
              "      <td>...</td>\n",
              "      <td>...</td>\n",
              "      <td>...</td>\n",
              "      <td>...</td>\n",
              "      <td>...</td>\n",
              "      <td>...</td>\n",
              "    </tr>\n",
              "    <tr>\n",
              "      <th>95</th>\n",
              "      <td>6</td>\n",
              "      <td>144</td>\n",
              "      <td>72</td>\n",
              "      <td>27</td>\n",
              "      <td>228</td>\n",
              "      <td>33.9</td>\n",
              "      <td>0.255</td>\n",
              "      <td>40</td>\n",
              "      <td>0</td>\n",
              "    </tr>\n",
              "    <tr>\n",
              "      <th>96</th>\n",
              "      <td>2</td>\n",
              "      <td>92</td>\n",
              "      <td>62</td>\n",
              "      <td>28</td>\n",
              "      <td>0</td>\n",
              "      <td>31.6</td>\n",
              "      <td>0.130</td>\n",
              "      <td>24</td>\n",
              "      <td>0</td>\n",
              "    </tr>\n",
              "    <tr>\n",
              "      <th>97</th>\n",
              "      <td>1</td>\n",
              "      <td>71</td>\n",
              "      <td>48</td>\n",
              "      <td>18</td>\n",
              "      <td>76</td>\n",
              "      <td>20.4</td>\n",
              "      <td>0.323</td>\n",
              "      <td>22</td>\n",
              "      <td>0</td>\n",
              "    </tr>\n",
              "    <tr>\n",
              "      <th>98</th>\n",
              "      <td>6</td>\n",
              "      <td>93</td>\n",
              "      <td>50</td>\n",
              "      <td>30</td>\n",
              "      <td>64</td>\n",
              "      <td>28.7</td>\n",
              "      <td>0.356</td>\n",
              "      <td>23</td>\n",
              "      <td>0</td>\n",
              "    </tr>\n",
              "    <tr>\n",
              "      <th>99</th>\n",
              "      <td>1</td>\n",
              "      <td>122</td>\n",
              "      <td>90</td>\n",
              "      <td>51</td>\n",
              "      <td>220</td>\n",
              "      <td>49.7</td>\n",
              "      <td>0.325</td>\n",
              "      <td>31</td>\n",
              "      <td>1</td>\n",
              "    </tr>\n",
              "  </tbody>\n",
              "</table>\n",
              "<p>100 rows × 9 columns</p>\n",
              "</div>\n",
              "      <button class=\"colab-df-convert\" onclick=\"convertToInteractive('df-88db8f3d-da54-4fef-b645-ba8b63db399d')\"\n",
              "              title=\"Convert this dataframe to an interactive table.\"\n",
              "              style=\"display:none;\">\n",
              "        \n",
              "  <svg xmlns=\"http://www.w3.org/2000/svg\" height=\"24px\"viewBox=\"0 0 24 24\"\n",
              "       width=\"24px\">\n",
              "    <path d=\"M0 0h24v24H0V0z\" fill=\"none\"/>\n",
              "    <path d=\"M18.56 5.44l.94 2.06.94-2.06 2.06-.94-2.06-.94-.94-2.06-.94 2.06-2.06.94zm-11 1L8.5 8.5l.94-2.06 2.06-.94-2.06-.94L8.5 2.5l-.94 2.06-2.06.94zm10 10l.94 2.06.94-2.06 2.06-.94-2.06-.94-.94-2.06-.94 2.06-2.06.94z\"/><path d=\"M17.41 7.96l-1.37-1.37c-.4-.4-.92-.59-1.43-.59-.52 0-1.04.2-1.43.59L10.3 9.45l-7.72 7.72c-.78.78-.78 2.05 0 2.83L4 21.41c.39.39.9.59 1.41.59.51 0 1.02-.2 1.41-.59l7.78-7.78 2.81-2.81c.8-.78.8-2.07 0-2.86zM5.41 20L4 18.59l7.72-7.72 1.47 1.35L5.41 20z\"/>\n",
              "  </svg>\n",
              "      </button>\n",
              "      \n",
              "  <style>\n",
              "    .colab-df-container {\n",
              "      display:flex;\n",
              "      flex-wrap:wrap;\n",
              "      gap: 12px;\n",
              "    }\n",
              "\n",
              "    .colab-df-convert {\n",
              "      background-color: #E8F0FE;\n",
              "      border: none;\n",
              "      border-radius: 50%;\n",
              "      cursor: pointer;\n",
              "      display: none;\n",
              "      fill: #1967D2;\n",
              "      height: 32px;\n",
              "      padding: 0 0 0 0;\n",
              "      width: 32px;\n",
              "    }\n",
              "\n",
              "    .colab-df-convert:hover {\n",
              "      background-color: #E2EBFA;\n",
              "      box-shadow: 0px 1px 2px rgba(60, 64, 67, 0.3), 0px 1px 3px 1px rgba(60, 64, 67, 0.15);\n",
              "      fill: #174EA6;\n",
              "    }\n",
              "\n",
              "    [theme=dark] .colab-df-convert {\n",
              "      background-color: #3B4455;\n",
              "      fill: #D2E3FC;\n",
              "    }\n",
              "\n",
              "    [theme=dark] .colab-df-convert:hover {\n",
              "      background-color: #434B5C;\n",
              "      box-shadow: 0px 1px 3px 1px rgba(0, 0, 0, 0.15);\n",
              "      filter: drop-shadow(0px 1px 2px rgba(0, 0, 0, 0.3));\n",
              "      fill: #FFFFFF;\n",
              "    }\n",
              "  </style>\n",
              "\n",
              "      <script>\n",
              "        const buttonEl =\n",
              "          document.querySelector('#df-88db8f3d-da54-4fef-b645-ba8b63db399d button.colab-df-convert');\n",
              "        buttonEl.style.display =\n",
              "          google.colab.kernel.accessAllowed ? 'block' : 'none';\n",
              "\n",
              "        async function convertToInteractive(key) {\n",
              "          const element = document.querySelector('#df-88db8f3d-da54-4fef-b645-ba8b63db399d');\n",
              "          const dataTable =\n",
              "            await google.colab.kernel.invokeFunction('convertToInteractive',\n",
              "                                                     [key], {});\n",
              "          if (!dataTable) return;\n",
              "\n",
              "          const docLinkHtml = 'Like what you see? Visit the ' +\n",
              "            '<a target=\"_blank\" href=https://colab.research.google.com/notebooks/data_table.ipynb>data table notebook</a>'\n",
              "            + ' to learn more about interactive tables.';\n",
              "          element.innerHTML = '';\n",
              "          dataTable['output_type'] = 'display_data';\n",
              "          await google.colab.output.renderOutput(dataTable, element);\n",
              "          const docLink = document.createElement('div');\n",
              "          docLink.innerHTML = docLinkHtml;\n",
              "          element.appendChild(docLink);\n",
              "        }\n",
              "      </script>\n",
              "    </div>\n",
              "  </div>\n",
              "  "
            ]
          },
          "metadata": {},
          "execution_count": 98
        }
      ]
    },
    {
      "cell_type": "code",
      "source": [
        "diabetes_data[['Glucose', 'BloodPressure', 'SkinThickness', 'Insulin', 'BMI']] = diabetes_data[['Glucose', 'BloodPressure', 'SkinThickness', 'Insulin', 'BMI']].replace(0, diabetes_data[['Glucose', 'BloodPressure', 'SkinThickness', 'Insulin', 'BMI']].mean())"
      ],
      "metadata": {
        "id": "rTW5O4xUQeQY"
      },
      "id": "rTW5O4xUQeQY",
      "execution_count": 99,
      "outputs": []
    },
    {
      "cell_type": "code",
      "source": [
        "diabetes_data.head(100)"
      ],
      "metadata": {
        "colab": {
          "base_uri": "https://localhost:8080/",
          "height": 424
        },
        "id": "363Q5YvsRa96",
        "outputId": "f55aded8-9c95-4c6c-8bbc-becf747376fd"
      },
      "id": "363Q5YvsRa96",
      "execution_count": 100,
      "outputs": [
        {
          "output_type": "execute_result",
          "data": {
            "text/plain": [
              "    Pregnancies  Glucose  BloodPressure  SkinThickness     Insulin   BMI  \\\n",
              "0             6    148.0           72.0      35.000000   79.799479  33.6   \n",
              "1             1     85.0           66.0      29.000000   79.799479  26.6   \n",
              "2             8    183.0           64.0      20.536458   79.799479  23.3   \n",
              "3             1     89.0           66.0      23.000000   94.000000  28.1   \n",
              "4             0    137.0           40.0      35.000000  168.000000  43.1   \n",
              "..          ...      ...            ...            ...         ...   ...   \n",
              "95            6    144.0           72.0      27.000000  228.000000  33.9   \n",
              "96            2     92.0           62.0      28.000000   79.799479  31.6   \n",
              "97            1     71.0           48.0      18.000000   76.000000  20.4   \n",
              "98            6     93.0           50.0      30.000000   64.000000  28.7   \n",
              "99            1    122.0           90.0      51.000000  220.000000  49.7   \n",
              "\n",
              "    DiabetesPedigreeFunction  Age Outcome  \n",
              "0                      0.627   50       1  \n",
              "1                      0.351   31       0  \n",
              "2                      0.672   32       1  \n",
              "3                      0.167   21       0  \n",
              "4                      2.288   33       1  \n",
              "..                       ...  ...     ...  \n",
              "95                     0.255   40       0  \n",
              "96                     0.130   24       0  \n",
              "97                     0.323   22       0  \n",
              "98                     0.356   23       0  \n",
              "99                     0.325   31       1  \n",
              "\n",
              "[100 rows x 9 columns]"
            ],
            "text/html": [
              "\n",
              "  <div id=\"df-61afc108-5adb-41ad-8cbc-b332f3c9b636\">\n",
              "    <div class=\"colab-df-container\">\n",
              "      <div>\n",
              "<style scoped>\n",
              "    .dataframe tbody tr th:only-of-type {\n",
              "        vertical-align: middle;\n",
              "    }\n",
              "\n",
              "    .dataframe tbody tr th {\n",
              "        vertical-align: top;\n",
              "    }\n",
              "\n",
              "    .dataframe thead th {\n",
              "        text-align: right;\n",
              "    }\n",
              "</style>\n",
              "<table border=\"1\" class=\"dataframe\">\n",
              "  <thead>\n",
              "    <tr style=\"text-align: right;\">\n",
              "      <th></th>\n",
              "      <th>Pregnancies</th>\n",
              "      <th>Glucose</th>\n",
              "      <th>BloodPressure</th>\n",
              "      <th>SkinThickness</th>\n",
              "      <th>Insulin</th>\n",
              "      <th>BMI</th>\n",
              "      <th>DiabetesPedigreeFunction</th>\n",
              "      <th>Age</th>\n",
              "      <th>Outcome</th>\n",
              "    </tr>\n",
              "  </thead>\n",
              "  <tbody>\n",
              "    <tr>\n",
              "      <th>0</th>\n",
              "      <td>6</td>\n",
              "      <td>148.0</td>\n",
              "      <td>72.0</td>\n",
              "      <td>35.000000</td>\n",
              "      <td>79.799479</td>\n",
              "      <td>33.6</td>\n",
              "      <td>0.627</td>\n",
              "      <td>50</td>\n",
              "      <td>1</td>\n",
              "    </tr>\n",
              "    <tr>\n",
              "      <th>1</th>\n",
              "      <td>1</td>\n",
              "      <td>85.0</td>\n",
              "      <td>66.0</td>\n",
              "      <td>29.000000</td>\n",
              "      <td>79.799479</td>\n",
              "      <td>26.6</td>\n",
              "      <td>0.351</td>\n",
              "      <td>31</td>\n",
              "      <td>0</td>\n",
              "    </tr>\n",
              "    <tr>\n",
              "      <th>2</th>\n",
              "      <td>8</td>\n",
              "      <td>183.0</td>\n",
              "      <td>64.0</td>\n",
              "      <td>20.536458</td>\n",
              "      <td>79.799479</td>\n",
              "      <td>23.3</td>\n",
              "      <td>0.672</td>\n",
              "      <td>32</td>\n",
              "      <td>1</td>\n",
              "    </tr>\n",
              "    <tr>\n",
              "      <th>3</th>\n",
              "      <td>1</td>\n",
              "      <td>89.0</td>\n",
              "      <td>66.0</td>\n",
              "      <td>23.000000</td>\n",
              "      <td>94.000000</td>\n",
              "      <td>28.1</td>\n",
              "      <td>0.167</td>\n",
              "      <td>21</td>\n",
              "      <td>0</td>\n",
              "    </tr>\n",
              "    <tr>\n",
              "      <th>4</th>\n",
              "      <td>0</td>\n",
              "      <td>137.0</td>\n",
              "      <td>40.0</td>\n",
              "      <td>35.000000</td>\n",
              "      <td>168.000000</td>\n",
              "      <td>43.1</td>\n",
              "      <td>2.288</td>\n",
              "      <td>33</td>\n",
              "      <td>1</td>\n",
              "    </tr>\n",
              "    <tr>\n",
              "      <th>...</th>\n",
              "      <td>...</td>\n",
              "      <td>...</td>\n",
              "      <td>...</td>\n",
              "      <td>...</td>\n",
              "      <td>...</td>\n",
              "      <td>...</td>\n",
              "      <td>...</td>\n",
              "      <td>...</td>\n",
              "      <td>...</td>\n",
              "    </tr>\n",
              "    <tr>\n",
              "      <th>95</th>\n",
              "      <td>6</td>\n",
              "      <td>144.0</td>\n",
              "      <td>72.0</td>\n",
              "      <td>27.000000</td>\n",
              "      <td>228.000000</td>\n",
              "      <td>33.9</td>\n",
              "      <td>0.255</td>\n",
              "      <td>40</td>\n",
              "      <td>0</td>\n",
              "    </tr>\n",
              "    <tr>\n",
              "      <th>96</th>\n",
              "      <td>2</td>\n",
              "      <td>92.0</td>\n",
              "      <td>62.0</td>\n",
              "      <td>28.000000</td>\n",
              "      <td>79.799479</td>\n",
              "      <td>31.6</td>\n",
              "      <td>0.130</td>\n",
              "      <td>24</td>\n",
              "      <td>0</td>\n",
              "    </tr>\n",
              "    <tr>\n",
              "      <th>97</th>\n",
              "      <td>1</td>\n",
              "      <td>71.0</td>\n",
              "      <td>48.0</td>\n",
              "      <td>18.000000</td>\n",
              "      <td>76.000000</td>\n",
              "      <td>20.4</td>\n",
              "      <td>0.323</td>\n",
              "      <td>22</td>\n",
              "      <td>0</td>\n",
              "    </tr>\n",
              "    <tr>\n",
              "      <th>98</th>\n",
              "      <td>6</td>\n",
              "      <td>93.0</td>\n",
              "      <td>50.0</td>\n",
              "      <td>30.000000</td>\n",
              "      <td>64.000000</td>\n",
              "      <td>28.7</td>\n",
              "      <td>0.356</td>\n",
              "      <td>23</td>\n",
              "      <td>0</td>\n",
              "    </tr>\n",
              "    <tr>\n",
              "      <th>99</th>\n",
              "      <td>1</td>\n",
              "      <td>122.0</td>\n",
              "      <td>90.0</td>\n",
              "      <td>51.000000</td>\n",
              "      <td>220.000000</td>\n",
              "      <td>49.7</td>\n",
              "      <td>0.325</td>\n",
              "      <td>31</td>\n",
              "      <td>1</td>\n",
              "    </tr>\n",
              "  </tbody>\n",
              "</table>\n",
              "<p>100 rows × 9 columns</p>\n",
              "</div>\n",
              "      <button class=\"colab-df-convert\" onclick=\"convertToInteractive('df-61afc108-5adb-41ad-8cbc-b332f3c9b636')\"\n",
              "              title=\"Convert this dataframe to an interactive table.\"\n",
              "              style=\"display:none;\">\n",
              "        \n",
              "  <svg xmlns=\"http://www.w3.org/2000/svg\" height=\"24px\"viewBox=\"0 0 24 24\"\n",
              "       width=\"24px\">\n",
              "    <path d=\"M0 0h24v24H0V0z\" fill=\"none\"/>\n",
              "    <path d=\"M18.56 5.44l.94 2.06.94-2.06 2.06-.94-2.06-.94-.94-2.06-.94 2.06-2.06.94zm-11 1L8.5 8.5l.94-2.06 2.06-.94-2.06-.94L8.5 2.5l-.94 2.06-2.06.94zm10 10l.94 2.06.94-2.06 2.06-.94-2.06-.94-.94-2.06-.94 2.06-2.06.94z\"/><path d=\"M17.41 7.96l-1.37-1.37c-.4-.4-.92-.59-1.43-.59-.52 0-1.04.2-1.43.59L10.3 9.45l-7.72 7.72c-.78.78-.78 2.05 0 2.83L4 21.41c.39.39.9.59 1.41.59.51 0 1.02-.2 1.41-.59l7.78-7.78 2.81-2.81c.8-.78.8-2.07 0-2.86zM5.41 20L4 18.59l7.72-7.72 1.47 1.35L5.41 20z\"/>\n",
              "  </svg>\n",
              "      </button>\n",
              "      \n",
              "  <style>\n",
              "    .colab-df-container {\n",
              "      display:flex;\n",
              "      flex-wrap:wrap;\n",
              "      gap: 12px;\n",
              "    }\n",
              "\n",
              "    .colab-df-convert {\n",
              "      background-color: #E8F0FE;\n",
              "      border: none;\n",
              "      border-radius: 50%;\n",
              "      cursor: pointer;\n",
              "      display: none;\n",
              "      fill: #1967D2;\n",
              "      height: 32px;\n",
              "      padding: 0 0 0 0;\n",
              "      width: 32px;\n",
              "    }\n",
              "\n",
              "    .colab-df-convert:hover {\n",
              "      background-color: #E2EBFA;\n",
              "      box-shadow: 0px 1px 2px rgba(60, 64, 67, 0.3), 0px 1px 3px 1px rgba(60, 64, 67, 0.15);\n",
              "      fill: #174EA6;\n",
              "    }\n",
              "\n",
              "    [theme=dark] .colab-df-convert {\n",
              "      background-color: #3B4455;\n",
              "      fill: #D2E3FC;\n",
              "    }\n",
              "\n",
              "    [theme=dark] .colab-df-convert:hover {\n",
              "      background-color: #434B5C;\n",
              "      box-shadow: 0px 1px 3px 1px rgba(0, 0, 0, 0.15);\n",
              "      filter: drop-shadow(0px 1px 2px rgba(0, 0, 0, 0.3));\n",
              "      fill: #FFFFFF;\n",
              "    }\n",
              "  </style>\n",
              "\n",
              "      <script>\n",
              "        const buttonEl =\n",
              "          document.querySelector('#df-61afc108-5adb-41ad-8cbc-b332f3c9b636 button.colab-df-convert');\n",
              "        buttonEl.style.display =\n",
              "          google.colab.kernel.accessAllowed ? 'block' : 'none';\n",
              "\n",
              "        async function convertToInteractive(key) {\n",
              "          const element = document.querySelector('#df-61afc108-5adb-41ad-8cbc-b332f3c9b636');\n",
              "          const dataTable =\n",
              "            await google.colab.kernel.invokeFunction('convertToInteractive',\n",
              "                                                     [key], {});\n",
              "          if (!dataTable) return;\n",
              "\n",
              "          const docLinkHtml = 'Like what you see? Visit the ' +\n",
              "            '<a target=\"_blank\" href=https://colab.research.google.com/notebooks/data_table.ipynb>data table notebook</a>'\n",
              "            + ' to learn more about interactive tables.';\n",
              "          element.innerHTML = '';\n",
              "          dataTable['output_type'] = 'display_data';\n",
              "          await google.colab.output.renderOutput(dataTable, element);\n",
              "          const docLink = document.createElement('div');\n",
              "          docLink.innerHTML = docLinkHtml;\n",
              "          element.appendChild(docLink);\n",
              "        }\n",
              "      </script>\n",
              "    </div>\n",
              "  </div>\n",
              "  "
            ]
          },
          "metadata": {},
          "execution_count": 100
        }
      ]
    }
  ],
  "metadata": {
    "kernelspec": {
      "display_name": "Python 3 (ipykernel)",
      "language": "python",
      "name": "python3"
    },
    "language_info": {
      "codemirror_mode": {
        "name": "ipython",
        "version": 3
      },
      "file_extension": ".py",
      "mimetype": "text/x-python",
      "name": "python",
      "nbconvert_exporter": "python",
      "pygments_lexer": "ipython3",
      "version": "3.7.11"
    },
    "colab": {
      "provenance": [],
      "include_colab_link": true
    }
  },
  "nbformat": 4,
  "nbformat_minor": 5
}