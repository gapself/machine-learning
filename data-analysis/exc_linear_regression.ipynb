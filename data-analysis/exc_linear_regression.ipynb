{
  "cells": [
    {
      "cell_type": "markdown",
      "metadata": {
        "id": "view-in-github",
        "colab_type": "text"
      },
      "source": [
        "<a href=\"https://colab.research.google.com/github/gapself/machine-learning-projects/blob/main/data-analysis/exc_linear_regression.ipynb\" target=\"_parent\"><img src=\"https://colab.research.google.com/assets/colab-badge.svg\" alt=\"Open In Colab\"/></a>"
      ]
    },
    {
      "cell_type": "markdown",
      "metadata": {
        "id": "nTYBgjjnGnC3"
      },
      "source": [
        "# Zadanie 7"
      ]
    },
    {
      "cell_type": "markdown",
      "metadata": {
        "id": "m6T1rn6mGnC7"
      },
      "source": [
        "Zbiór: London_merged\n",
        "<br>\n",
        "Zbiór danych dotyczy bike-sharingu w Londynie.<br>"
      ]
    },
    {
      "cell_type": "markdown",
      "metadata": {
        "id": "gjnL-UKeGnC8"
      },
      "source": [
        "# 1. Przeprowadź regresję liniową, w której zmienną zależną jest kolumna cnt (wyłącz z analiz pierwszą kolumnę)."
      ]
    },
    {
      "cell_type": "code",
      "execution_count": null,
      "metadata": {
        "id": "5ZO4ZuTeGnC9",
        "outputId": "fc0dbc7c-2fde-4bad-aac1-b7cd5151eef1"
      },
      "outputs": [
        {
          "data": {
            "text/html": [
              "<div>\n",
              "<style scoped>\n",
              "    .dataframe tbody tr th:only-of-type {\n",
              "        vertical-align: middle;\n",
              "    }\n",
              "\n",
              "    .dataframe tbody tr th {\n",
              "        vertical-align: top;\n",
              "    }\n",
              "\n",
              "    .dataframe thead th {\n",
              "        text-align: right;\n",
              "    }\n",
              "</style>\n",
              "<table border=\"1\" class=\"dataframe\">\n",
              "  <thead>\n",
              "    <tr style=\"text-align: right;\">\n",
              "      <th></th>\n",
              "      <th>timestamp</th>\n",
              "      <th>cnt</th>\n",
              "      <th>t1</th>\n",
              "      <th>t2</th>\n",
              "      <th>hum</th>\n",
              "      <th>wind_speed</th>\n",
              "      <th>weather_code</th>\n",
              "      <th>is_holiday</th>\n",
              "      <th>is_weekend</th>\n",
              "      <th>season</th>\n",
              "    </tr>\n",
              "  </thead>\n",
              "  <tbody>\n",
              "    <tr>\n",
              "      <th>0</th>\n",
              "      <td>2015-01-04 00:00:00</td>\n",
              "      <td>182</td>\n",
              "      <td>3.0</td>\n",
              "      <td>2.0</td>\n",
              "      <td>93.0</td>\n",
              "      <td>6.0</td>\n",
              "      <td>3.0</td>\n",
              "      <td>0.0</td>\n",
              "      <td>1.0</td>\n",
              "      <td>3.0</td>\n",
              "    </tr>\n",
              "    <tr>\n",
              "      <th>1</th>\n",
              "      <td>2015-01-04 01:00:00</td>\n",
              "      <td>138</td>\n",
              "      <td>3.0</td>\n",
              "      <td>2.5</td>\n",
              "      <td>93.0</td>\n",
              "      <td>5.0</td>\n",
              "      <td>1.0</td>\n",
              "      <td>0.0</td>\n",
              "      <td>1.0</td>\n",
              "      <td>3.0</td>\n",
              "    </tr>\n",
              "    <tr>\n",
              "      <th>2</th>\n",
              "      <td>2015-01-04 02:00:00</td>\n",
              "      <td>134</td>\n",
              "      <td>2.5</td>\n",
              "      <td>2.5</td>\n",
              "      <td>96.5</td>\n",
              "      <td>0.0</td>\n",
              "      <td>1.0</td>\n",
              "      <td>0.0</td>\n",
              "      <td>1.0</td>\n",
              "      <td>3.0</td>\n",
              "    </tr>\n",
              "    <tr>\n",
              "      <th>3</th>\n",
              "      <td>2015-01-04 03:00:00</td>\n",
              "      <td>72</td>\n",
              "      <td>2.0</td>\n",
              "      <td>2.0</td>\n",
              "      <td>100.0</td>\n",
              "      <td>0.0</td>\n",
              "      <td>1.0</td>\n",
              "      <td>0.0</td>\n",
              "      <td>1.0</td>\n",
              "      <td>3.0</td>\n",
              "    </tr>\n",
              "    <tr>\n",
              "      <th>4</th>\n",
              "      <td>2015-01-04 04:00:00</td>\n",
              "      <td>47</td>\n",
              "      <td>2.0</td>\n",
              "      <td>0.0</td>\n",
              "      <td>93.0</td>\n",
              "      <td>6.5</td>\n",
              "      <td>1.0</td>\n",
              "      <td>0.0</td>\n",
              "      <td>1.0</td>\n",
              "      <td>3.0</td>\n",
              "    </tr>\n",
              "  </tbody>\n",
              "</table>\n",
              "</div>"
            ],
            "text/plain": [
              "             timestamp  cnt   t1   t2    hum  wind_speed  weather_code  \\\n",
              "0  2015-01-04 00:00:00  182  3.0  2.0   93.0         6.0           3.0   \n",
              "1  2015-01-04 01:00:00  138  3.0  2.5   93.0         5.0           1.0   \n",
              "2  2015-01-04 02:00:00  134  2.5  2.5   96.5         0.0           1.0   \n",
              "3  2015-01-04 03:00:00   72  2.0  2.0  100.0         0.0           1.0   \n",
              "4  2015-01-04 04:00:00   47  2.0  0.0   93.0         6.5           1.0   \n",
              "\n",
              "   is_holiday  is_weekend  season  \n",
              "0         0.0         1.0     3.0  \n",
              "1         0.0         1.0     3.0  \n",
              "2         0.0         1.0     3.0  \n",
              "3         0.0         1.0     3.0  \n",
              "4         0.0         1.0     3.0  "
            ]
          },
          "execution_count": 14,
          "metadata": {},
          "output_type": "execute_result"
        }
      ],
      "source": [
        "import pandas as pd\n",
        "import matplotlib.pyplot as plt\n",
        "from sklearn.linear_model import LinearRegression\n",
        "from scipy.stats import pearsonr as r_coef\n",
        "import numpy as np\n",
        "\n",
        "path = 'london_merged_7w.csv'\n",
        "df = pd.read_csv(path, sep=',')\n",
        "df.head()"
      ]
    },
    {
      "cell_type": "code",
      "execution_count": null,
      "metadata": {
        "id": "zlmX60wMGnC_",
        "outputId": "a844ae74-15d1-4f2e-d15c-723c28a280c3"
      },
      "outputs": [
        {
          "data": {
            "text/plain": [
              "(0.5180801615832425, 0.0)"
            ]
          },
          "execution_count": 15,
          "metadata": {},
          "output_type": "execute_result"
        }
      ],
      "source": [
        "data_notime = df.drop(labels=['timestamp'],axis=1)\n",
        "data_notime\n",
        "X = data_notime.drop(labels=['cnt'],axis=1)\n",
        "Y = data_notime['cnt']\n",
        "model = LinearRegression()\n",
        "model.fit(X,Y)\n",
        "model.coef_\n",
        "# # #predict and evaluate\n",
        "prediction = model.predict(X)\n",
        "#predict and evaluate\n",
        "coefficients = [round(x,3) for x in model.coef_]\n",
        "named_coef = list(zip(data_notime.keys(),coefficients))\n",
        "named_coef.sort(reverse=True,key = lambda x : x[1])\n",
        "r_coef(prediction,Y) # (0.5521667326219122, 0.0)"
      ]
    },
    {
      "cell_type": "markdown",
      "metadata": {
        "id": "t4uxsufOGnDA"
      },
      "source": [
        "# 2. Z kolumny time stamp stwórz kolumnę hour oraz year<br>"
      ]
    },
    {
      "cell_type": "code",
      "execution_count": null,
      "metadata": {
        "id": "_I1LbtIGGnDA",
        "outputId": "70946521-3979-4a64-e52d-36784f15a4a6"
      },
      "outputs": [
        {
          "data": {
            "text/html": [
              "<div>\n",
              "<style scoped>\n",
              "    .dataframe tbody tr th:only-of-type {\n",
              "        vertical-align: middle;\n",
              "    }\n",
              "\n",
              "    .dataframe tbody tr th {\n",
              "        vertical-align: top;\n",
              "    }\n",
              "\n",
              "    .dataframe thead th {\n",
              "        text-align: right;\n",
              "    }\n",
              "</style>\n",
              "<table border=\"1\" class=\"dataframe\">\n",
              "  <thead>\n",
              "    <tr style=\"text-align: right;\">\n",
              "      <th></th>\n",
              "      <th>cnt</th>\n",
              "      <th>t1</th>\n",
              "      <th>t2</th>\n",
              "      <th>hum</th>\n",
              "      <th>wind_speed</th>\n",
              "      <th>weather_code</th>\n",
              "      <th>is_holiday</th>\n",
              "      <th>is_weekend</th>\n",
              "      <th>season</th>\n",
              "      <th>year</th>\n",
              "      <th>hour</th>\n",
              "    </tr>\n",
              "  </thead>\n",
              "  <tbody>\n",
              "    <tr>\n",
              "      <th>0</th>\n",
              "      <td>182</td>\n",
              "      <td>3.0</td>\n",
              "      <td>2.0</td>\n",
              "      <td>93.0</td>\n",
              "      <td>6.0</td>\n",
              "      <td>3.0</td>\n",
              "      <td>0.0</td>\n",
              "      <td>1.0</td>\n",
              "      <td>3.0</td>\n",
              "      <td>2015</td>\n",
              "      <td>0</td>\n",
              "    </tr>\n",
              "    <tr>\n",
              "      <th>1</th>\n",
              "      <td>138</td>\n",
              "      <td>3.0</td>\n",
              "      <td>2.5</td>\n",
              "      <td>93.0</td>\n",
              "      <td>5.0</td>\n",
              "      <td>1.0</td>\n",
              "      <td>0.0</td>\n",
              "      <td>1.0</td>\n",
              "      <td>3.0</td>\n",
              "      <td>2015</td>\n",
              "      <td>1</td>\n",
              "    </tr>\n",
              "    <tr>\n",
              "      <th>2</th>\n",
              "      <td>134</td>\n",
              "      <td>2.5</td>\n",
              "      <td>2.5</td>\n",
              "      <td>96.5</td>\n",
              "      <td>0.0</td>\n",
              "      <td>1.0</td>\n",
              "      <td>0.0</td>\n",
              "      <td>1.0</td>\n",
              "      <td>3.0</td>\n",
              "      <td>2015</td>\n",
              "      <td>2</td>\n",
              "    </tr>\n",
              "    <tr>\n",
              "      <th>3</th>\n",
              "      <td>72</td>\n",
              "      <td>2.0</td>\n",
              "      <td>2.0</td>\n",
              "      <td>100.0</td>\n",
              "      <td>0.0</td>\n",
              "      <td>1.0</td>\n",
              "      <td>0.0</td>\n",
              "      <td>1.0</td>\n",
              "      <td>3.0</td>\n",
              "      <td>2015</td>\n",
              "      <td>3</td>\n",
              "    </tr>\n",
              "    <tr>\n",
              "      <th>4</th>\n",
              "      <td>47</td>\n",
              "      <td>2.0</td>\n",
              "      <td>0.0</td>\n",
              "      <td>93.0</td>\n",
              "      <td>6.5</td>\n",
              "      <td>1.0</td>\n",
              "      <td>0.0</td>\n",
              "      <td>1.0</td>\n",
              "      <td>3.0</td>\n",
              "      <td>2015</td>\n",
              "      <td>4</td>\n",
              "    </tr>\n",
              "  </tbody>\n",
              "</table>\n",
              "</div>"
            ],
            "text/plain": [
              "   cnt   t1   t2    hum  wind_speed  weather_code  is_holiday  is_weekend  \\\n",
              "0  182  3.0  2.0   93.0         6.0           3.0         0.0         1.0   \n",
              "1  138  3.0  2.5   93.0         5.0           1.0         0.0         1.0   \n",
              "2  134  2.5  2.5   96.5         0.0           1.0         0.0         1.0   \n",
              "3   72  2.0  2.0  100.0         0.0           1.0         0.0         1.0   \n",
              "4   47  2.0  0.0   93.0         6.5           1.0         0.0         1.0   \n",
              "\n",
              "   season  year hour  \n",
              "0     3.0  2015    0  \n",
              "1     3.0  2015    1  \n",
              "2     3.0  2015    2  \n",
              "3     3.0  2015    3  \n",
              "4     3.0  2015    4  "
            ]
          },
          "execution_count": 16,
          "metadata": {},
          "output_type": "execute_result"
        }
      ],
      "source": [
        "year_list=[]\n",
        "hour_list=[]\n",
        "for row in df['timestamp']:\n",
        "    year = row.split(\"-\")[0]\n",
        "    hour = row.split(\"-\")[2].split(\" \")[1].split(\":\")[0]\n",
        "    if hour[0]=='0':\n",
        "        hour_list.append(hour[1])\n",
        "    else:\n",
        "        hour_list.append(hour)\n",
        "    year_list.append(year)\n",
        "#     print(hour)\n",
        "data_notime['year']=year_list\n",
        "data_notime['hour']=hour_list\n",
        "data_notime.head()"
      ]
    },
    {
      "cell_type": "markdown",
      "metadata": {
        "id": "P6vTu70MGnDB"
      },
      "source": [
        "# 3. Wskaż, które parametry regresji są istotne na poziomie istotności 0,05"
      ]
    },
    {
      "cell_type": "code",
      "execution_count": null,
      "metadata": {
        "id": "i6YGwsLaGnDC",
        "outputId": "2be2d4d1-8787-46a6-d168-23ce4d12978d"
      },
      "outputs": [
        {
          "name": "stdout",
          "output_type": "stream",
          "text": [
            "const           0.000000e+00\n",
            "t1              2.842620e-13\n",
            "t2              1.922529e-02\n",
            "hum             0.000000e+00\n",
            "wind_speed      1.867415e-04\n",
            "weather_code    6.381311e-03\n",
            "is_holiday      4.446235e-08\n",
            "is_weekend      6.296503e-41\n",
            "season          6.821574e-18\n",
            "dtype: float64\n"
          ]
        },
        {
          "data": {
            "text/plain": [
              "const           0.000000e+00\n",
              "t1              2.842620e-13\n",
              "t2              1.922529e-02\n",
              "hum             0.000000e+00\n",
              "wind_speed      1.867415e-04\n",
              "weather_code    6.381311e-03\n",
              "is_holiday      4.446235e-08\n",
              "is_weekend      6.296503e-41\n",
              "season          6.821574e-18\n",
              "dtype: float64"
            ]
          },
          "execution_count": 17,
          "metadata": {},
          "output_type": "execute_result"
        }
      ],
      "source": [
        "import statsmodels.api as sm\n",
        "X = sm.add_constant(X)\n",
        "model = sm.OLS(Y,X) #zmienna zależna, współ\n",
        "results = model.fit()\n",
        "#print(results.params)\n",
        "p = results.pvalues\n",
        "#Get params significant at 0.05 p-value\n",
        "print(p)\n",
        "p[p<=0.05]"
      ]
    },
    {
      "cell_type": "markdown",
      "metadata": {
        "id": "sysqVL5xGnDD"
      },
      "source": [
        "# 4. Przedstaw korelacje między wszystkimi zmiennymi za pomocą heatmapy.<br>\n"
      ]
    },
    {
      "cell_type": "code",
      "execution_count": null,
      "metadata": {
        "id": "zL2VWkN9GnDD",
        "outputId": "15ab0b83-9cfb-4bff-cc1a-291df2c9dd1a"
      },
      "outputs": [
        {
          "data": {
            "image/png": "[encoded data removed]",
            "text/plain": [
              "<Figure size 288x288 with 1 Axes>"
            ]
          },
          "metadata": {
            "needs_background": "light"
          },
          "output_type": "display_data"
        },
        {
          "data": {
            "text/html": [
              "<div>\n",
              "<style scoped>\n",
              "    .dataframe tbody tr th:only-of-type {\n",
              "        vertical-align: middle;\n",
              "    }\n",
              "\n",
              "    .dataframe tbody tr th {\n",
              "        vertical-align: top;\n",
              "    }\n",
              "\n",
              "    .dataframe thead th {\n",
              "        text-align: right;\n",
              "    }\n",
              "</style>\n",
              "<table border=\"1\" class=\"dataframe\">\n",
              "  <thead>\n",
              "    <tr style=\"text-align: right;\">\n",
              "      <th></th>\n",
              "      <th>cnt</th>\n",
              "      <th>t1</th>\n",
              "      <th>t2</th>\n",
              "      <th>hum</th>\n",
              "      <th>wind_speed</th>\n",
              "      <th>weather_code</th>\n",
              "      <th>is_holiday</th>\n",
              "      <th>is_weekend</th>\n",
              "      <th>season</th>\n",
              "      <th>year</th>\n",
              "      <th>hour</th>\n",
              "    </tr>\n",
              "  </thead>\n",
              "  <tbody>\n",
              "    <tr>\n",
              "      <th>0</th>\n",
              "      <td>182</td>\n",
              "      <td>3.0</td>\n",
              "      <td>2.0</td>\n",
              "      <td>93.0</td>\n",
              "      <td>6.0</td>\n",
              "      <td>3.0</td>\n",
              "      <td>0.0</td>\n",
              "      <td>1.0</td>\n",
              "      <td>3.0</td>\n",
              "      <td>2015</td>\n",
              "      <td>0</td>\n",
              "    </tr>\n",
              "    <tr>\n",
              "      <th>1</th>\n",
              "      <td>138</td>\n",
              "      <td>3.0</td>\n",
              "      <td>2.5</td>\n",
              "      <td>93.0</td>\n",
              "      <td>5.0</td>\n",
              "      <td>1.0</td>\n",
              "      <td>0.0</td>\n",
              "      <td>1.0</td>\n",
              "      <td>3.0</td>\n",
              "      <td>2015</td>\n",
              "      <td>1</td>\n",
              "    </tr>\n",
              "    <tr>\n",
              "      <th>2</th>\n",
              "      <td>134</td>\n",
              "      <td>2.5</td>\n",
              "      <td>2.5</td>\n",
              "      <td>96.5</td>\n",
              "      <td>0.0</td>\n",
              "      <td>1.0</td>\n",
              "      <td>0.0</td>\n",
              "      <td>1.0</td>\n",
              "      <td>3.0</td>\n",
              "      <td>2015</td>\n",
              "      <td>2</td>\n",
              "    </tr>\n",
              "    <tr>\n",
              "      <th>3</th>\n",
              "      <td>72</td>\n",
              "      <td>2.0</td>\n",
              "      <td>2.0</td>\n",
              "      <td>100.0</td>\n",
              "      <td>0.0</td>\n",
              "      <td>1.0</td>\n",
              "      <td>0.0</td>\n",
              "      <td>1.0</td>\n",
              "      <td>3.0</td>\n",
              "      <td>2015</td>\n",
              "      <td>3</td>\n",
              "    </tr>\n",
              "    <tr>\n",
              "      <th>4</th>\n",
              "      <td>47</td>\n",
              "      <td>2.0</td>\n",
              "      <td>0.0</td>\n",
              "      <td>93.0</td>\n",
              "      <td>6.5</td>\n",
              "      <td>1.0</td>\n",
              "      <td>0.0</td>\n",
              "      <td>1.0</td>\n",
              "      <td>3.0</td>\n",
              "      <td>2015</td>\n",
              "      <td>4</td>\n",
              "    </tr>\n",
              "  </tbody>\n",
              "</table>\n",
              "</div>"
            ],
            "text/plain": [
              "   cnt   t1   t2    hum  wind_speed  weather_code  is_holiday  is_weekend  \\\n",
              "0  182  3.0  2.0   93.0         6.0           3.0         0.0         1.0   \n",
              "1  138  3.0  2.5   93.0         5.0           1.0         0.0         1.0   \n",
              "2  134  2.5  2.5   96.5         0.0           1.0         0.0         1.0   \n",
              "3   72  2.0  2.0  100.0         0.0           1.0         0.0         1.0   \n",
              "4   47  2.0  0.0   93.0         6.5           1.0         0.0         1.0   \n",
              "\n",
              "   season  year hour  \n",
              "0     3.0  2015    0  \n",
              "1     3.0  2015    1  \n",
              "2     3.0  2015    2  \n",
              "3     3.0  2015    3  \n",
              "4     3.0  2015    4  "
            ]
          },
          "execution_count": 6,
          "metadata": {},
          "output_type": "execute_result"
        }
      ],
      "source": [
        "corrMatrix = data_notime.corr()\n",
        "plt.matshow(corrMatrix.corr())\n",
        "plt.show()\n",
        "data_notime.head()"
      ]
    },
    {
      "cell_type": "markdown",
      "metadata": {
        "id": "-w9oD2-kGnDE"
      },
      "source": [
        "\n",
        "# 5. Podziel dane ze względu na rok, przeprowadź dla każdego z lat osobną analizę regresyjną."
      ]
    },
    {
      "cell_type": "code",
      "execution_count": null,
      "metadata": {
        "id": "ztBfvkmDGnDE"
      },
      "outputs": [],
      "source": [
        "unique_values = data_notime[\"year\"].unique() # ==> array(['2015', '2016', '2017'], dtype=object)\n",
        "data_2015 = data_notime[data_notime[\"year\"]==\"2015\"]\n",
        "data_2016 = data_notime[data_notime[\"year\"]==\"2016\"]\n",
        "data_2017 = data_notime[data_notime[\"year\"]==\"2017\"]\n",
        "# data_2015.head()"
      ]
    },
    {
      "cell_type": "code",
      "execution_count": null,
      "metadata": {
        "id": "4XAaW3yPGnDE",
        "outputId": "de394fdf-471c-4daa-91a6-a8d0c5796057"
      },
      "outputs": [
        {
          "data": {
            "text/plain": [
              "(0.5523455324592398, 0.0)"
            ]
          },
          "execution_count": 8,
          "metadata": {},
          "output_type": "execute_result"
        }
      ],
      "source": [
        "X_2015 = data_2015.drop(labels=['cnt'],axis=1)\n",
        "Y_2015 = data_2015['cnt']\n",
        "model = LinearRegression()\n",
        "model.fit(X_2015,Y_2015)\n",
        "model.coef_\n",
        "# # #predict and evaluate\n",
        "prediction = model.predict(X_2015)\n",
        "#predict and evaluate\n",
        "coefficients = [round(x,3) for x in model.coef_]\n",
        "named_coef = list(zip(data_notime.keys(),coefficients))\n",
        "named_coef.sort(reverse=True,key = lambda x : x[1])\n",
        "r_coef(prediction,Y_2015)"
      ]
    },
    {
      "cell_type": "code",
      "execution_count": null,
      "metadata": {
        "id": "KaxVnuf8GnDF",
        "outputId": "ff042443-d6b8-42f1-9acb-9e17a5a19ed6"
      },
      "outputs": [
        {
          "data": {
            "text/plain": [
              "(0.551658356531781, 0.0)"
            ]
          },
          "execution_count": 9,
          "metadata": {},
          "output_type": "execute_result"
        }
      ],
      "source": [
        "X_2016 = data_2016.drop(labels=['cnt'],axis=1)\n",
        "Y_2016 = data_2016['cnt']\n",
        "model = LinearRegression()\n",
        "model.fit(X_2016,Y_2016)\n",
        "model.coef_\n",
        "# # #predict and evaluate\n",
        "prediction = model.predict(X_2016)\n",
        "#predict and evaluate\n",
        "coefficients = [round(x,3) for x in model.coef_]\n",
        "named_coef = list(zip(data_notime.keys(),coefficients))\n",
        "named_coef.sort(reverse=True,key = lambda x : x[1])\n",
        "r_coef(prediction,Y_2016)"
      ]
    },
    {
      "cell_type": "code",
      "execution_count": null,
      "metadata": {
        "id": "3zTWKwLrGnDG",
        "outputId": "26c80a05-550f-4e25-fd5d-1164dfdf1084"
      },
      "outputs": [
        {
          "data": {
            "text/plain": [
              "(0.5957160147959107, 3.387759022435472e-08)"
            ]
          },
          "execution_count": 10,
          "metadata": {},
          "output_type": "execute_result"
        }
      ],
      "source": [
        "X_2017 = data_2017.drop(labels=['cnt'],axis=1)\n",
        "Y_2017 = data_2017['cnt']\n",
        "model = LinearRegression()\n",
        "model.fit(X_2017,Y_2017)\n",
        "model.coef_\n",
        "# # #predict and evaluate\n",
        "prediction = model.predict(X_2017)\n",
        "#predict and evaluate\n",
        "coefficients = [round(x,3) for x in model.coef_]\n",
        "named_coef = list(zip(data_notime.keys(),coefficients))\n",
        "named_coef.sort(reverse=True,key = lambda x : x[1])\n",
        "r_coef(prediction,Y_2017)"
      ]
    }
  ],
  "metadata": {
    "kernelspec": {
      "display_name": "Python 3",
      "language": "python",
      "name": "python3"
    },
    "language_info": {
      "codemirror_mode": {
        "name": "ipython",
        "version": 3
      },
      "file_extension": ".py",
      "mimetype": "text/x-python",
      "name": "python",
      "nbconvert_exporter": "python",
      "pygments_lexer": "ipython3",
      "version": "3.8.3"
    },
    "colab": {
      "provenance": [],
      "include_colab_link": true
    }
  },
  "nbformat": 4,
  "nbformat_minor": 0
}