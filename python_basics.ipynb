{
  "nbformat": 4,
  "nbformat_minor": 0,
  "metadata": {
    "colab": {
      "provenance": [],
      "collapsed_sections": [
        "SHE98MOvGNtV",
        "Iyrn3r3l2K22"
      ],
      "toc_visible": true,
      "authorship_tag": "ABX9TyNwuZGGOSyE46D+1G0nvHLG",
      "include_colab_link": true
    },
    "kernelspec": {
      "name": "python3",
      "display_name": "Python 3"
    },
    "language_info": {
      "name": "python"
    }
  },
  "cells": [
    {
      "cell_type": "markdown",
      "metadata": {
        "id": "view-in-github",
        "colab_type": "text"
      },
      "source": [
        "<a href=\"https://colab.research.google.com/github/gapself/machine-learning-projects/blob/main/python_basics.ipynb\" target=\"_parent\"><img src=\"https://colab.research.google.com/assets/colab-badge.svg\" alt=\"Open In Colab\"/></a>"
      ]
    },
    {
      "cell_type": "markdown",
      "source": [
        "# Typy danych w Python"
      ],
      "metadata": {
        "id": "q-5F9T3dxfke"
      }
    },
    {
      "cell_type": "markdown",
      "source": [
        "* str – string, tekstowy typ danych,\n",
        "* int – liczba,\n",
        "* float – liczba zmiennoprzecinkowa,\n",
        "* complex – liczba zespolona,\n",
        "* list – lista\n",
        "* tuple – kortka\n",
        "* range – zakres, liczby naturalne stanowiące szereg arytmetyczny,\n",
        "* dict – słownik,\n",
        "* set – zbiór,\n",
        "* frozenset – zbiór niemutowalny,\n",
        "* bool – logika boolowska,\n",
        "* bytes – konwersja ciągu na bajty, \n",
        "* bytearray – mutowalny wariant bytes,\n",
        "* memoryview – dostęp do wewnętrznych danych obiektów obsługujących bufory protokołów"
      ],
      "metadata": {
        "id": "zskHWxXTxjOD"
      }
    },
    {
      "cell_type": "markdown",
      "source": [
        "## Krotki - tuple\n",
        "\n",
        "*   niezmienny typ danych (niemutowalne)❗❗❗⛔ można z niej pobierać dane, ale nie można ich modyfikować ani usuwać\n",
        "*   odwoływanie po indeksach ✅\n",
        "*   wycinanie fragmentów ✅\n",
        "* 2 metody: count(), index()\n",
        "* funkcje: len(), max(), min(), sum(), any(), all(), sorted()\n",
        "\n"
      ],
      "metadata": {
        "id": "fabqBSo4M4YD"
      }
    },
    {
      "cell_type": "code",
      "source": [
        "names = ('ddeby', 'listy', 'tuple')\n",
        "print(names[0])\n",
        "print(all(names))"
      ],
      "metadata": {
        "colab": {
          "base_uri": "https://localhost:8080/"
        },
        "id": "j-H5z8UmNAnN",
        "outputId": "b90080a9-aa8e-43dd-f520-fe18049c37aa"
      },
      "execution_count": 186,
      "outputs": [
        {
          "output_type": "stream",
          "name": "stdout",
          "text": [
            "ddeby\n",
            "True\n"
          ]
        }
      ]
    },
    {
      "cell_type": "markdown",
      "source": [
        "## Listy\n",
        "\n",
        "*   mutowalne ✅   add, edit, delete\n",
        "*   odwoływanie po indeksach ✅\n",
        "*   wycinanie fragmentów ✅\n",
        "* metody: append(), clear(), copy(), extend(), index(), insert(), pop(), remove(), reverse(), sort()\n",
        "* funkcje: len(), max(), min(), sum(), any(), all(), sorted()\n"
      ],
      "metadata": {
        "id": "avU9PAWoxccS"
      }
    },
    {
      "cell_type": "code",
      "execution_count": 184,
      "metadata": {
        "colab": {
          "base_uri": "https://localhost:8080/"
        },
        "id": "DvM_ukjDfFw3",
        "outputId": "b8bdd219-bf9a-4fcb-9217-1125b4373d68"
      },
      "outputs": [
        {
          "output_type": "stream",
          "name": "stdout",
          "text": [
            "[4, 3, 2, 1]\n"
          ]
        }
      ],
      "source": [
        "li = [1,2,3,4]\n",
        "reversed_li = li[::-1]\n",
        "print(reversed_li)"
      ]
    },
    {
      "cell_type": "markdown",
      "source": [
        "## Słowniki\n",
        "\n",
        "*   mutowalne ✅   add, edit, delete\n",
        "*   odwoływanie po indeksach ✅\n",
        "*   wycinanie fragmentów ✅"
      ],
      "metadata": {
        "id": "DzR5NsptN6DH"
      }
    },
    {
      "cell_type": "markdown",
      "source": [
        "# Biblioteki must know\n",
        "\n",
        "* random – biblioteka służąca do pseudolosowego generowania liczb,\n",
        "* datatime – moduł pozwalający na pracę z datą i godziną,\n",
        "* json  – zapisuje listy, logikę, liczby, krotki i słowniki do pliku JSON,\n",
        "* os – moduł pozwalający na integrację z systemem plików OS-a,\n",
        "* logging – biblioteka z API pozwalającym na zapisywanie logów"
      ],
      "metadata": {
        "id": "lUrcDyxh_nKs"
      }
    },
    {
      "cell_type": "markdown",
      "source": [
        "# Parametry \\*args i \\**kwargs"
      ],
      "metadata": {
        "id": "RKx8eDsepcWE"
      }
    },
    {
      "cell_type": "markdown",
      "source": [
        "Za pomocą *args przekazujemy do funkcji dowolną liczbę argumentów pozycyjnych (tuple). Oddzielone są one od siebie przecinkami, mogą być różnego rodzaju , ale co najważniejsze nie odwołujemy się do nich poprzez ich nazwy, ale poprzez indeksy."
      ],
      "metadata": {
        "id": "1T1Xoh7bptYR"
      }
    },
    {
      "cell_type": "code",
      "source": [
        "def funkcja(*args):\n",
        "    print(\"Ilosc zmiennych: \", len(args))\n",
        "    for arg in args:\n",
        "        print(arg)\n",
        "    \n",
        "funkcja(1, 2, \"abc\", [1, 2, 3])"
      ],
      "metadata": {
        "colab": {
          "base_uri": "https://localhost:8080/"
        },
        "id": "WjKx1nPbpnXm",
        "outputId": "18b81ffb-bd68-4af7-8450-43b3e193c33e"
      },
      "execution_count": 9,
      "outputs": [
        {
          "output_type": "stream",
          "name": "stdout",
          "text": [
            "Ilosc zmiennych:  4\n",
            "1\n",
            "2\n",
            "abc\n",
            "[1, 2, 3]\n"
          ]
        }
      ]
    },
    {
      "cell_type": "markdown",
      "source": [
        "z **kwargs, w którym umieszczamy pary klucz-wartość, czyli zmienną słownikową (dictionary). Przetwarzając zapisane w niej dane odwołujemy się do kluczy nie zaś do indeksów."
      ],
      "metadata": {
        "id": "SK4s194xtDZM"
      }
    },
    {
      "cell_type": "code",
      "source": [
        "def funkcja(**kwargs):\n",
        "    print(\"Ilosc zmiennych: \", len(kwargs))\n",
        "    for key, value in kwargs.items():\n",
        "        print(\"{0} = {1}\".format(key, value))\n",
        "    \n",
        "    \n",
        "funkcja(jeden=1, dwa=2, trzy=\"abc\", cztery=[1, 2, 3])"
      ],
      "metadata": {
        "colab": {
          "base_uri": "https://localhost:8080/"
        },
        "id": "wLoHF2t5s3oc",
        "outputId": "a32f7260-d661-4220-dd14-5432bdd6d4d1"
      },
      "execution_count": 10,
      "outputs": [
        {
          "output_type": "stream",
          "name": "stdout",
          "text": [
            "Ilosc zmiennych:  4\n",
            "jeden = 1\n",
            "dwa = 2\n",
            "trzy = abc\n",
            "cztery = [1, 2, 3]\n"
          ]
        }
      ]
    },
    {
      "cell_type": "markdown",
      "source": [
        "# Metody"
      ],
      "metadata": {
        "id": "IufRwpiK0zGV"
      }
    },
    {
      "cell_type": "markdown",
      "source": [
        "### enumerate()"
      ],
      "metadata": {
        "id": "Ul7QCSNU025s"
      }
    },
    {
      "cell_type": "markdown",
      "source": [
        "The enumerate() function converts a data collection object into an enumerate object (object with key-value pair)\n"
      ],
      "metadata": {
        "id": "8Vo3gg_M0-Sh"
      }
    },
    {
      "cell_type": "code",
      "source": [
        "my_list = ['joe', 'harambe', 'kakashu', 'ligma', 'deez']\n",
        "print(\"The list is\", my_list)\n",
        "# Element to be searched in the list\n",
        "element = 'deez'\n",
        "\n",
        "for x, y in enumerate(my_list):\n",
        "    if y == element:\n",
        "        print(f\"Index of the element '{y}' in the list: {x-1}\")\n",
        "        break # break if element is found in the list\n",
        "else: # If element is not found in the list\n",
        "    print(element, \"is not found in the list.\")"
      ],
      "metadata": {
        "colab": {
          "base_uri": "https://localhost:8080/"
        },
        "id": "TSebk7Yw01kE",
        "outputId": "b1995c5f-938f-4538-b23d-9a6b024758d0"
      },
      "execution_count": 56,
      "outputs": [
        {
          "output_type": "stream",
          "name": "stdout",
          "text": [
            "The list is ['joe', 'harambe', 'kakashu', 'ligma', 'deez']\n",
            "Index of the element 'deez' in the list: 3\n"
          ]
        }
      ]
    },
    {
      "cell_type": "markdown",
      "source": [
        "#Funkcje\n"
      ],
      "metadata": {
        "id": "Czj7ASQtkUA3"
      }
    },
    {
      "cell_type": "markdown",
      "source": [
        "### Funkcja jako parametr"
      ],
      "metadata": {
        "id": "ML8FU3AfkQpP"
      }
    },
    {
      "cell_type": "code",
      "source": [
        "def wykonaj(funkcja, a, b):\n",
        "    x = funkcja (a, b)\n",
        "    return x\n",
        "def dodaj(a,b):\n",
        "    return a+b\n",
        "def odejmij(a,b):\n",
        "    return a-b\n",
        "wykonaj(dodaj, 2, 3)\n",
        "wykonaj(odejmij, 2, 3)"
      ],
      "metadata": {
        "colab": {
          "base_uri": "https://localhost:8080/"
        },
        "id": "5KE6OItEkipI",
        "outputId": "1ce0c6a0-822c-49e2-a8e5-64e1f43ea667"
      },
      "execution_count": 2,
      "outputs": [
        {
          "output_type": "execute_result",
          "data": {
            "text/plain": [
              "-1"
            ]
          },
          "metadata": {},
          "execution_count": 2
        }
      ]
    },
    {
      "cell_type": "markdown",
      "source": [
        "### Funkcja w funkcji"
      ],
      "metadata": {
        "id": "d03Kbvswkolo"
      }
    },
    {
      "cell_type": "code",
      "source": [
        "def funk():\n",
        "    \n",
        "    def funkWew(a,b):\n",
        "        return a * b\n",
        "    \n",
        "    return funkWew\n",
        "x = funk()\n",
        "x(3,3)"
      ],
      "metadata": {
        "colab": {
          "base_uri": "https://localhost:8080/"
        },
        "id": "cjzudCaRkoZk",
        "outputId": "4814b412-afc7-43ad-f3b5-8d60e7ce3275"
      },
      "execution_count": 3,
      "outputs": [
        {
          "output_type": "execute_result",
          "data": {
            "text/plain": [
              "9"
            ]
          },
          "metadata": {},
          "execution_count": 3
        }
      ]
    },
    {
      "cell_type": "markdown",
      "source": [
        "## Dekoratory funkcji"
      ],
      "metadata": {
        "id": "GJq06XeCmtjo"
      }
    },
    {
      "cell_type": "markdown",
      "source": [
        "Wprowadzamy druga funkcje, którą nazwaliśmy 'dekor’. Rolą tej funkcji, jest 'udekowowanie’ przekazanej jej w parametrze funkcji."
      ],
      "metadata": {
        "id": "uiX52dtNkuZY"
      }
    },
    {
      "cell_type": "code",
      "source": [
        "def zwykłaFunkcja():\n",
        "    print (\"To jest zwykła funkcja\")\n",
        "\n",
        "def dekor(funkcja):   \n",
        "    def wew():\n",
        "        print(\"Dekorujemy funkcję\")\n",
        "        return funkcja()\n",
        "        \n",
        "    return wew\n",
        "    \n",
        "nowaFunkcja = dekor(zwykłaFunkcja)\n",
        "nowaFunkcja()"
      ],
      "metadata": {
        "colab": {
          "base_uri": "https://localhost:8080/"
        },
        "id": "sB22w6dqlDl2",
        "outputId": "0d162c29-fe46-4bb4-ca26-dec539fedcd8"
      },
      "execution_count": 6,
      "outputs": [
        {
          "output_type": "stream",
          "name": "stdout",
          "text": [
            "Dekorujemy funkcję\n",
            "To jest zwykła funkcja\n"
          ]
        }
      ]
    },
    {
      "cell_type": "markdown",
      "source": [
        "Jest to znaczące ułatwienie, które oferuje Python. Jednocześnie nasz kod staje się czytelniejszy. Nasz dekorator '@dekor’, możemy umieścić przed każdą funkcją, którą chcemy udekorować.\n",
        "\n"
      ],
      "metadata": {
        "id": "c2uNZS6DlCgF"
      }
    },
    {
      "cell_type": "code",
      "source": [
        "def dekor(funkcja):\n",
        "    def wew():\n",
        "        print(\"Dekorujemy funkcję\")\n",
        "        return funkcja()\n",
        "    return wew\n",
        "\n",
        "@dekor\n",
        "def zwykłaFunkcja():\n",
        "    print (\"To jest zwykła funkcja\")\n",
        "nowaFunkcja()"
      ],
      "metadata": {
        "colab": {
          "base_uri": "https://localhost:8080/"
        },
        "id": "PQFYqT5fmLH5",
        "outputId": "6a039eec-8584-4d18-d210-16e16116c0e3"
      },
      "execution_count": 7,
      "outputs": [
        {
          "output_type": "stream",
          "name": "stdout",
          "text": [
            "Dekorujemy funkcję\n",
            "To jest zwykła funkcja\n"
          ]
        }
      ]
    },
    {
      "cell_type": "markdown",
      "source": [
        "Dekorowanie funkcji z parametrami"
      ],
      "metadata": {
        "id": "eULuRCzenA70"
      }
    },
    {
      "cell_type": "code",
      "source": [
        "def dekor(funkcja):\n",
        "    \n",
        "    def wew(*args, **kwargs):\n",
        "        print(\"Dekorujemy funkcję\")\n",
        "        return funkcja(*args, **kwargs)\n",
        "        \n",
        "    return wew\n",
        "\n",
        "@dekor\n",
        "def zwykłaFunkcja(a, b, c):\n",
        "    print(\"To jest zwykła funkcja, która dodaje liczby:\")\n",
        "    print(a+b+c)\n",
        "\n",
        "zwykłaFunkcja(1,2,3)\n",
        "\n",
        "zwykłaFunkcja.__name__"
      ],
      "metadata": {
        "colab": {
          "base_uri": "https://localhost:8080/",
          "height": 87
        },
        "id": "U-2A5AKlnEup",
        "outputId": "da70664f-dbd3-4fdc-f37c-7362497be56d"
      },
      "execution_count": 17,
      "outputs": [
        {
          "output_type": "stream",
          "name": "stdout",
          "text": [
            "Dekorujemy funkcję\n",
            "To jest zwykła funkcja, która dodaje liczby:\n",
            "6\n"
          ]
        },
        {
          "output_type": "execute_result",
          "data": {
            "text/plain": [
              "'wew'"
            ],
            "application/vnd.google.colaboratory.intrinsic+json": {
              "type": "string"
            }
          },
          "metadata": {},
          "execution_count": 17
        }
      ]
    },
    {
      "cell_type": "markdown",
      "source": [
        "print(funkcja.__name__) to uzyskamy informację, która z udekorowanych funkcji została wykonana.\n",
        "\n"
      ],
      "metadata": {
        "id": "DqSfQH_ltO7B"
      }
    },
    {
      "cell_type": "markdown",
      "source": [
        "## Funkcje rekurencyjne"
      ],
      "metadata": {
        "id": "SHE98MOvGNtV"
      }
    },
    {
      "cell_type": "markdown",
      "source": [
        "https://analityk.edu.pl/funkcje-rekurencyjne-w-python/"
      ],
      "metadata": {
        "id": "el3GqKToGMLJ"
      }
    },
    {
      "cell_type": "markdown",
      "source": [
        "## Generatory"
      ],
      "metadata": {
        "id": "8OJPzJCWGxu2"
      }
    },
    {
      "cell_type": "markdown",
      "source": [
        "# Programowanie obiektowe\n",
        "\n",
        "- w skrócie przejrzysty kod bez powtarzalności opisujący jednym fragmentem kodu jakiś konkret problem"
      ],
      "metadata": {
        "id": "OMhiBXf1Fv4z"
      }
    },
    {
      "cell_type": "markdown",
      "source": [
        "## Funkcja specjalna \\____init____"
      ],
      "metadata": {
        "id": "-yI3JoMuoI5k"
      }
    },
    {
      "cell_type": "markdown",
      "source": [
        "funkcja init przyjmuje tutaj 2 parametry\n",
        "1. Pierwszym parametrem musi być self, ponieważ funkcja jest definiowana w obrębie klasy.\n",
        "2. Drugim jest instancja - koty z podanymi w nawiasie latami ich urodzin.\n"
      ],
      "metadata": {
        "id": "WAKvpBpvook4"
      }
    },
    {
      "cell_type": "code",
      "source": [
        "class koty:\n",
        "    def __init__(self,rok):\n",
        "        self.rok_urodzenia = rok\n",
        "\n",
        "Kremówka = koty(2016)\n",
        "Helen = koty(2013)\n",
        "Nefretka = koty(2014)\n",
        "\n",
        "print(Kremówka.rok_urodzenia)\n",
        "print(Helen.rok_urodzenia)\n",
        "print(Nefretka.rok_urodzenia)"
      ],
      "metadata": {
        "colab": {
          "base_uri": "https://localhost:8080/"
        },
        "id": "AZF-zY_uoHlC",
        "outputId": "a3afc1bd-a2da-443a-af6f-e53cfd4d928b"
      },
      "execution_count": 2,
      "outputs": [
        {
          "output_type": "stream",
          "name": "stdout",
          "text": [
            "2016\n",
            "2013\n",
            "2014\n"
          ]
        }
      ]
    },
    {
      "cell_type": "code",
      "source": [
        "class nazwa_Klasy:\n",
        "  def __init__(self, imie):\n",
        "    self.powitanie = 'Hej ' + imie\n",
        "\n",
        "instancja = nazwa_Klasy('Gabi')\n",
        "print(instancja.powitanie)"
      ],
      "metadata": {
        "colab": {
          "base_uri": "https://localhost:8080/"
        },
        "id": "YyH-NnsppSaV",
        "outputId": "9d98a13c-9a03-4592-d470-0d1e4d5bcc17"
      },
      "execution_count": 9,
      "outputs": [
        {
          "output_type": "stream",
          "name": "stdout",
          "text": [
            "Hej Gabi\n"
          ]
        }
      ]
    },
    {
      "cell_type": "markdown",
      "source": [
        "## Dziedziczenie"
      ],
      "metadata": {
        "id": "DRHrpdLoF7sN"
      }
    },
    {
      "cell_type": "markdown",
      "source": [
        "1. Powiedzmy, chcemy zaimplementować obiekty odpowiadające zwierzętom: pies, kot.\n",
        "<br><br>\n",
        "Każdy jest inny, ale wszystkie mają wiele cech i metod wspólnych.\n",
        "\n",
        "* Wspólne cechy: zwierze, odglos, kolor.\n",
        "\n",
        "* Wspólne operacje: wydawanie odgłosów, zabawa itd\n",
        "\n",
        "Mogli byśmy zaimplementować 3 klasy, odpowiadające ptakom – sowa, orzeł, pingwin, i od początku do końca w nich zdefiniować nasze konstruktory oraz metody.\n",
        "Programowanie jednak nie lubi powtarzalności.<br>\n",
        "------------------------------\\\n",
        "Skoro, wszystkie te 2 obiekty, posiadają cechy i metody wspólne, czy można to zapisać, tak aby aby to co wspólne, napisać raz, a potem wykorzystać?\n",
        "* wtedy zwierzęta są potomkami klasy, bo łączy ich ta jedna klasa wspólna <br><br>\n",
        "\n",
        "klasa kot, ma kolor, wielkość, wydaje odgłosy\n",
        "\n",
        "klasa pies, potomek klasy kot, dodatkowo bawi się"
      ],
      "metadata": {
        "id": "5pcj3-PsqiaC"
      }
    },
    {
      "cell_type": "code",
      "source": [
        "class Zwierzeta:\n",
        "  def __init__(self,zwierze,odglos, kolor):\n",
        "    self.zwierze = zwierze\n",
        "    self.odglos = odglos\n",
        "    self.kolor = kolor\n",
        "  \n",
        "  def dajGlos(self):\n",
        "    print(f'{self.zwierze} koloru {self.kolor} robi: {self.odglos}')\n",
        "\n",
        "class Pies(Zwierzeta):\n",
        "  def sikanie(self, dojrzalosc):\n",
        "    self.dojrzalosc = dojrzalosc\n",
        "    if dojrzalosc == 'szczeniaczek':\n",
        "      print(f'{self.dojrzalosc} sika na matę')\n",
        "    elif dojrzalosc == 'stary': \n",
        "      print(f'{self.dojrzalosc} {self.zwierze} sika na trawę')\n",
        "\n",
        "class Kot(Zwierzeta):\n",
        "  def sikanie(self):\n",
        "    print(f'{self.zwierze} sika do kuwety')\n",
        "\n",
        "\n",
        "class Krowa(Zwierzeta):\n",
        "  def dojenie(self):\n",
        "    print(f'{self.zwierze} jest dojona z samego rana')\n",
        "\n",
        "\n",
        "instancja1 = Pies('pies','hau hau','biały')\n",
        "instancja2 = Kot('kot','miau miau','czarny w łatki')\n",
        "instancja3 = Krowa('krowa','muuuuu','brązowa')\n",
        "\n",
        "\n",
        "instancja1.sikanie('szczeniaczek')\n",
        "instancja1.sikanie('stary')\n",
        "instancja3.dojenie()"
      ],
      "metadata": {
        "colab": {
          "base_uri": "https://localhost:8080/"
        },
        "id": "jqCCC8Kyqhq0",
        "outputId": "2b55a697-9538-460b-c581-ad116943d26b"
      },
      "execution_count": 36,
      "outputs": [
        {
          "output_type": "stream",
          "name": "stdout",
          "text": [
            "szczeniaczek sika na matę\n",
            "stary pies sika na trawę\n",
            "krowa jest dojona z samego rana\n"
          ]
        }
      ]
    },
    {
      "cell_type": "markdown",
      "source": [
        "## super().__init__"
      ],
      "metadata": {
        "id": "Ic2-SdD65qBg"
      }
    },
    {
      "cell_type": "markdown",
      "source": [
        "super().__init__ metoda.\n",
        "W momencie tworzenia klas 'pies/kot/krowa', jako pierwszy parametr, podajemy nazwę zwierzęcia. Jest to bez sensu. Skoro tworzymy klasę o jego nazwie, to powinna widzieć, że jest psem/kotem/krową, prawda?<br><br> Dzieje się tak, ponieważ korzystamy z konstruktora klasy, którą dziedziczymy, a ta nie wie kto ją będzie dziedziczyć. Za chwilę to naprawimy."
      ],
      "metadata": {
        "id": "zULF9onz1D6s"
      }
    },
    {
      "cell_type": "code",
      "source": [
        "class Zwierzeta:\n",
        "  def __init__(self,zwierze,odglos,kolor):\n",
        "    self.zwierze = zwierze\n",
        "    self.odglos = odglos\n",
        "    self.kolor = kolor\n",
        "  \n",
        "  def dajGlos(self):\n",
        "    print(f'{self.zwierze} koloru {self.kolor} robi: {self.odglos}')\n",
        "\n",
        "class Pies(Zwierzeta):\n",
        "  def __init__(self, odglos,kolor):\n",
        "    super().__init__('pies', odglos, kolor)\n",
        "\n",
        "  def sikanie(self, dojrzalosc):\n",
        "    self.dojrzalosc = dojrzalosc\n",
        "    if dojrzalosc == 'szczeniaczek':\n",
        "      print(f'{self.dojrzalosc} sika na matę')\n",
        "    elif dojrzalosc == 'stary': \n",
        "      print(f'{self.dojrzalosc} {self.zwierze} sika na trawę')\n",
        "\n",
        "class Kot(Zwierzeta):\n",
        "  def __init__(self, odglos, kolor):\n",
        "    super().__init__('kot',odglos,kolor)\n",
        "\n",
        "  def sikanie(self):\n",
        "    print(f'{self.zwierze} sika do kuwety')\n",
        "\n",
        "\n",
        "class Krowa(Zwierzeta):\n",
        "  def __init__(self, odglos, kolor):\n",
        "    super().__init__('krowa',odglos,kolor)\n",
        "  def dojenie(self):\n",
        "    print(f'{self.zwierze} jest dojona z samego rana')\n",
        "\n",
        "\n",
        "instancja1 = Pies('hau hau', 'biały')\n",
        "# instancja2 = Kot('czarny w łatki')\n",
        "# instancja3 = Krowa('brązowa')\n",
        "\n",
        "instancja1.dajGlos()\n",
        "# instancja1.sikanie('stary')\n",
        "# instancja3.dojenie()"
      ],
      "metadata": {
        "colab": {
          "base_uri": "https://localhost:8080/"
        },
        "id": "qyvRLaiq1Xq7",
        "outputId": "567b77d2-230b-44f5-8cb9-830f7f5ed9e5"
      },
      "execution_count": 51,
      "outputs": [
        {
          "output_type": "stream",
          "name": "stdout",
          "text": [
            "szczeniaczek sika na matę\n",
            "pies koloru biały robi: hau hau\n"
          ]
        }
      ]
    },
    {
      "cell_type": "markdown",
      "source": [
        "## def main()"
      ],
      "metadata": {
        "id": "T-EnwOj36VT4"
      }
    },
    {
      "cell_type": "code",
      "source": [
        "class Zwierzeta:\n",
        "  def __init__(self,zwierze,odglos,kolor):\n",
        "    self.zwierze = zwierze\n",
        "    self.odglos = odglos\n",
        "    self.kolor = kolor\n",
        "  \n",
        "  def dajGlos(self):\n",
        "    print(f'{self.zwierze} koloru {self.kolor} robi: {self.odglos}')\n",
        "\n",
        "class Pies(Zwierzeta):\n",
        "  def __init__(self, odglos,kolor):\n",
        "    super().__init__('pies', odglos, kolor)\n",
        "\n",
        "  def sikanie(self, dojrzalosc):\n",
        "    self.dojrzalosc = dojrzalosc\n",
        "    if dojrzalosc == 'szczeniak':\n",
        "      print(f'{self.dojrzalosc} sika na matę')\n",
        "    elif dojrzalosc == 'stary': \n",
        "      print(f'{self.dojrzalosc} {self.zwierze} sika na trawę')\n",
        "\n",
        "class Kot(Zwierzeta):\n",
        "  def __init__(self, odglos, kolor):\n",
        "    super().__init__('kot',odglos,kolor)\n",
        "\n",
        "  def sikanie(self):\n",
        "    print(f'{self.zwierze} sika do kuwety')\n",
        "\n",
        "\n",
        "class Krowa(Zwierzeta):\n",
        "  def __init__(self, odglos, kolor):\n",
        "    super().__init__('krowa',odglos,kolor)\n",
        "  def dojenie(self):\n",
        "    print(f'{self.zwierze} jest dojona z samego rana')\n",
        "\n",
        "def main():\n",
        "    # tworzymy 3 obiekty klasy Zwierzeta\n",
        "    instancja1 = Pies('hau hau', 'biały')\n",
        "    instancja2 = Kot('miau', 'czarny w łatki')\n",
        "    instancja3 = Krowa('muuu','brązowa')\n",
        "\n",
        "    instancja1.dajGlos()\n",
        "    instancja1.sikanie('stary')\n",
        "    instancja1.sikanie('szczeniak')\n",
        "    instancja3.dojenie()\n",
        "    instancja2.sikanie()\n",
        "\n",
        "if __name__ == \"__main__\":\n",
        "    main()"
      ],
      "metadata": {
        "colab": {
          "base_uri": "https://localhost:8080/"
        },
        "id": "Dz05wJsR6aJF",
        "outputId": "9218f94d-ce3a-4367-8b49-612666e620c0"
      },
      "execution_count": 53,
      "outputs": [
        {
          "output_type": "stream",
          "name": "stdout",
          "text": [
            "pies koloru biały robi: hau hau\n",
            "stary pies sika na trawę\n",
            "szczeniak sika na matę\n",
            "krowa jest dojona z samego rana\n",
            "kot sika do kuwety\n"
          ]
        }
      ]
    },
    {
      "cell_type": "markdown",
      "source": [
        "## Abstrakcja\n",
        "\n",
        "trochę przypomina zastosowanie super().init.\n",
        "- spr roznice later\n",
        "<br>\n",
        "Zauważyłam, że wszędzie w instancjach wypisuję odgłos zwierzęcia, a warto byłoby tego uniknąć, dlatego:\n",
        "- definiuję nową metodę w klasie bazowej: rodzaj_odglosu(). Będzie ona zwracać odglos, np. \"hau hau\". moze zwracać cokolwiek: bedzie pusta (pass)\n",
        "- oznaczenie tej metody jako abstrakcyjnej = Oznacza to, że definiujemy w klasie bazowej taką metodę, której nie implementujemy, ale spodziewamy się, że klasy dziedziczące się tym zajmą\n",
        "\n",
        "- mozna bylo zastosowac to np. do nazwy gatunku tez\n",
        "\n",
        "- class Zwierzeta ==> class Zwierzeta(ABC) +  from abc import ABC, abstractmethod\n"
      ],
      "metadata": {
        "id": "sGBM4GpNAdoy"
      }
    },
    {
      "cell_type": "code",
      "source": [
        "from abc import ABC, abstractmethod\n",
        "\n",
        "class Zwierzeta(ABC):\n",
        "  def __init__(self,zwierze,kolor):\n",
        "    self.zwierze = zwierze\n",
        "    self.kolor = kolor\n",
        "\n",
        "  @abstractmethod # tutaj wymuszamy implementację tej metody w klasach pochodnych\n",
        "  def rodzajOdglosu(self): \n",
        "    pass\n",
        "  \n",
        "  def dajGlos(self):\n",
        "    print(f'{self.zwierze} koloru {self.kolor} robi: {self.rodzajOdglosu()}')\n",
        "\n",
        "class Pies(Zwierzeta):\n",
        "  def __init__(self,kolor):\n",
        "    super().__init__('pies', kolor)\n",
        "\n",
        "  def rodzajOdglosu(self): \n",
        "    return 'hau hau'\n",
        "\n",
        "  def sikanie(self, dojrzalosc):\n",
        "    self.dojrzalosc = dojrzalosc\n",
        "    if dojrzalosc == 'szczeniak':\n",
        "      print(f'{self.dojrzalosc} sika na matę')\n",
        "    elif dojrzalosc == 'stary': \n",
        "      print(f'{self.dojrzalosc} {self.zwierze} sika na trawę')\n",
        "\n",
        "class Kot(Zwierzeta):\n",
        "  def __init__(self, kolor):\n",
        "    super().__init__('kot',kolor)\n",
        "\n",
        "  def rodzajOdglosu(self): \n",
        "    return 'miau miau'\n",
        "\n",
        "  def sikanie(self):\n",
        "    print(f'{self.zwierze} sika do kuwety')\n",
        "\n",
        "\n",
        "class Krowa(Zwierzeta):\n",
        "  def __init__(self, kolor):\n",
        "    super().__init__('krowa',kolor)\n",
        "\n",
        "  def rodzajOdglosu(self): \n",
        "    return 'muuu'\n",
        "\n",
        "  def dojenie(self):\n",
        "    print(f'{self.zwierze} jest dojona z samego rana')\n",
        "\n",
        "def main():\n",
        "    # tworzymy 3 obiekty klasy Zwierzeta\n",
        "    instancja1 = Pies('biały')\n",
        "    instancja2 = Kot('czarny w łatki')\n",
        "    instancja3 = Krowa('brązowa')\n",
        "\n",
        "    instancja1.dajGlos()\n",
        "    instancja2.dajGlos()\n",
        "    instancja1.sikanie('stary')\n",
        "    instancja1.sikanie('szczeniak')\n",
        "    instancja3.dojenie()\n",
        "    instancja2.sikanie()\n",
        "\n",
        "if __name__ == \"__main__\":\n",
        "    main()"
      ],
      "metadata": {
        "colab": {
          "base_uri": "https://localhost:8080/"
        },
        "id": "EKsBTvyWAfsi",
        "outputId": "c7a85478-4a7b-4d00-ea09-cc4389bddc7f"
      },
      "execution_count": 70,
      "outputs": [
        {
          "output_type": "stream",
          "name": "stdout",
          "text": [
            "pies koloru biały robi: hau hau\n",
            "kot koloru czarny w łatki robi: miau miau\n",
            "stary pies sika na trawę\n",
            "szczeniak sika na matę\n",
            "krowa jest dojona z samego rana\n",
            "kot sika do kuwety\n"
          ]
        }
      ]
    },
    {
      "cell_type": "markdown",
      "source": [
        "## Polimorfizm\n",
        "\n",
        "Oznacza to, że klasa dziedzicząca może być użyta wszędzie tam, gdzie może być użyta klasa bazowa.\n",
        "\n",
        "\n",
        "\n",
        "```\n",
        "Dumboo = Slon(\"Dumboo\", 77, 6000)\n",
        "\n",
        "możemy też:\n",
        "\n",
        "jakis_zwierz = Zwierze(\"Katarzyna\", 31, 80)\n",
        "```\n",
        "\n",
        "\n",
        "\n",
        "Oznacza to, że instancja klasy dziedziczącej jest uznawana za instancję klasy bazowej. W języku Python sprawdzenie przynależności danego obiektu do klasy wykonuje się metodą isinstance():"
      ],
      "metadata": {
        "id": "3bH0AZsN_4JU"
      }
    },
    {
      "cell_type": "code",
      "source": [
        "jakas_instancja_klasy_bazowej = Zwierzeta('Słóń','szary')"
      ],
      "metadata": {
        "id": "cilFi9SAFyOJ"
      },
      "execution_count": 72,
      "outputs": []
    },
    {
      "cell_type": "markdown",
      "source": [
        "## Hermetyzacja"
      ],
      "metadata": {
        "id": "4K_cW1bbF3_6"
      }
    },
    {
      "cell_type": "markdown",
      "source": [
        "Pisząc programy obiektowo, staramy się, aby wnętrze klasy, w szczególności sposób przechowywania poszczególnych danych w polach, pozostawał dla użytkownika nieznany. Dlatego raczej chcemy udostępniać interfejs klasy (możliwość użycia danej klasy do rozwiązania swoich problemów) poprzez metody, niż pola.\n",
        "\n",
        "- Po pierwsze możemy chcieć wykonać pewne dodatkowe czynności podczas zmiany pola.\n",
        "\n",
        "- bardzo ważne pole, którego zmiana pociąga za sobą w konsekwencji przeliczenie i modyfikację także innych pól\n",
        "\n",
        "- implementacja klasy może się zmienić. Być może pojawią się nowe pola, a stare zostaną usunięte\n",
        "\n",
        "- Jeśli jest to kod, który operuje na metodach, to prawdopodobnie uda nam się zachować taką samą metodę zwracającą daną informację, choć wyliczającą ją w inny sposób w swym wnętrzu.\n",
        "<br>\n",
        "source: https://www.kodolamacz.pl/blog/wyzwanie-python-5-zaawansowane-aspekty-programowania-obiektowego/"
      ],
      "metadata": {
        "id": "IdXlvUtvGhrC"
      }
    },
    {
      "cell_type": "markdown",
      "source": [
        "# Testy"
      ],
      "metadata": {
        "id": "axCO3TGpG244"
      }
    },
    {
      "cell_type": "markdown",
      "source": [
        "# Praca z HTTP i JSON-em"
      ],
      "metadata": {
        "id": "HcG7RSXSHAjL"
      }
    },
    {
      "cell_type": "markdown",
      "source": [
        "# Zadania"
      ],
      "metadata": {
        "id": "ZZEqhGxctoHT"
      }
    },
    {
      "cell_type": "markdown",
      "source": [
        "## Ćw 1 - @dekorator"
      ],
      "metadata": {
        "id": "yVWeofCfx7_a"
      }
    },
    {
      "cell_type": "markdown",
      "source": [
        "Napisać dekorator, mający za zadanie, drukować informację o czasie wykonywania funkcji. Dekorator, powinien być gotowy dekorować funkcje przyjmujące różną ilość parametrów.\n",
        "\n"
      ],
      "metadata": {
        "id": "mZ-nU5Swtq0s"
      }
    },
    {
      "cell_type": "code",
      "source": [
        "import time\n",
        "start = time.time()\n",
        "time.sleep(1)\n",
        "koniec = time.time()\n",
        "print(koniec - start)"
      ],
      "metadata": {
        "colab": {
          "base_uri": "https://localhost:8080/"
        },
        "id": "_e5ToiZjtqKd",
        "outputId": "ec7bda14-5863-4ab2-8332-fb443127a7b0"
      },
      "execution_count": 41,
      "outputs": [
        {
          "output_type": "stream",
          "name": "stdout",
          "text": [
            "1.001448631286621\n"
          ]
        }
      ]
    },
    {
      "cell_type": "code",
      "source": [
        "def dekor(funkcja):\n",
        "  def wew(*args,**kwargs):\n",
        "    start = time.time()\n",
        "    x = funkcja(*args,**kwargs)\n",
        "    koniec = time.time()\n",
        "    diff = koniec - start\n",
        "    print(f'Funkcja {zwyklaFunkcja.__name__} wykonywała się {diff}')\n",
        "  return wew\n",
        "\n",
        "@dekor\n",
        "def zwyklaFunkcja(a,b,c):\n",
        "  dzialanie = a+b+c-a-b-c\n",
        "  time.sleep(1)\n",
        "  print('zzz')\n",
        "  return dzialanie\n",
        "\n",
        "zwyklaFunkcja(1,2,3)"
      ],
      "metadata": {
        "colab": {
          "base_uri": "https://localhost:8080/"
        },
        "id": "ze9fES3ity5r",
        "outputId": "4a19426c-95d1-44ab-afa6-b2b2c43862dc"
      },
      "execution_count": 45,
      "outputs": [
        {
          "output_type": "stream",
          "name": "stdout",
          "text": [
            "zzz\n",
            "Funkcja wew wykonywała się 1.002204179763794\n"
          ]
        }
      ]
    },
    {
      "cell_type": "code",
      "source": [
        "import time\n",
        "\n",
        "def dekor(funkcja):\n",
        "    \n",
        "    def wew(*args, **kwargs):\n",
        "        start = time.time()\n",
        "        x = funkcja(*args, **kwargs)\n",
        "        koniec = time.time()\n",
        "        print(funkcja.__name__, \"wykonywała się\", koniec - start, \"sekund.\")\n",
        "        return x\n",
        "    return wew\n",
        "\n",
        "@dekor\n",
        "def dodaj(a,b):\n",
        "    time.sleep(1)\n",
        "    return a+b\n",
        "\n",
        "@dekor\n",
        "def odejmij(a,b,c):\n",
        "    time.sleep(0.5)\n",
        "    return a-b-c\n",
        "\n",
        "print(dodaj(2,2))\n",
        "print(odejmij(1,2,3))"
      ],
      "metadata": {
        "colab": {
          "base_uri": "https://localhost:8080/"
        },
        "id": "zM7lQV1Oww8n",
        "outputId": "e14be93d-0cad-483b-87dd-d05ebfc6b923"
      },
      "execution_count": 44,
      "outputs": [
        {
          "output_type": "stream",
          "name": "stdout",
          "text": [
            "dodaj wykonywała się 1.001136064529419 sekund.\n",
            "4\n",
            "odejmij wykonywała się 0.5006606578826904 sekund.\n",
            "-4\n"
          ]
        }
      ]
    },
    {
      "cell_type": "markdown",
      "source": [
        "## Ćw 2 - algorytm bąbelkowy"
      ],
      "metadata": {
        "id": "gJ-Sjyy9x_3G"
      }
    },
    {
      "cell_type": "markdown",
      "source": [
        "Problem: mamy podaną listę liczb. Np. A = [2,1,5,3,6]. Należy posortować ją rosnąco, za pomocą algorytmu bąbelkowego.\n",
        "\n"
      ],
      "metadata": {
        "id": "HkzhjBlfyECR"
      }
    },
    {
      "cell_type": "markdown",
      "source": [
        "1. ’przejściu’ przez poszczególne elementy list, np za pomocą pętli 'for’,\n",
        "2. sprawdzeniu czy element następny na liście, jest mniejszy. Jeżeli tak, zastąpieniu ich miejscami.\n",
        "3. Powtarzamy czynność, dla kolejnego elementu i sprawdzamy czy kolejny jest mniejszy. Jeżeli tak, to zamieniamy miejscami, itd\n",
        "4. W momencie, kiedy dojdziemy do końca listy, na jej końcu powinna znajdować się największa liczba z listy,\n",
        "5. Następnie powtarzamy naszą pętlę 'for’, zaczynając od początku.\n",
        "kończymy wtedy, gdy wykonamy interakcję bez zmiany kolejności żadnego elementu"
      ],
      "metadata": {
        "id": "YIn292hlyONo"
      }
    },
    {
      "cell_type": "code",
      "source": [
        "A = [2,1,5,3,6] #5 el #do 4 iteracja\n",
        "\n",
        "def babelkowe(lista):\n",
        "  for id in range(0, len(lista)-1):\n",
        "    scnd_num = id+1\n",
        "    if lista[scnd_num] < lista[id]:\n",
        "\n",
        "      return lista\n",
        "\n",
        "# # for el in A:\n",
        "#   id = A.index(el)\n",
        "#   print(A[id])\n",
        "#   if A[id+1] < A[id]:\n",
        "#     A.remove(A[id])\n",
        "#     A.insert(A[id],id+1)\n",
        "babelkowe(A)"
      ],
      "metadata": {
        "colab": {
          "base_uri": "https://localhost:8080/"
        },
        "id": "WlCwAG9IyUeq",
        "outputId": "9d4da258-8499-4178-c748-480ad182e04f"
      },
      "execution_count": 92,
      "outputs": [
        {
          "output_type": "execute_result",
          "data": {
            "text/plain": [
              "[2, 1, 5, 3, 6]"
            ]
          },
          "metadata": {},
          "execution_count": 92
        }
      ]
    },
    {
      "cell_type": "code",
      "source": [
        "def sortowanie_babelkowe(lista):\n",
        "    n = len(lista)\n",
        "    \n",
        "    while n > 1:\n",
        "        zamien = False\n",
        "        for l in range(0, n-1):\n",
        "            if lista[l] > lista[l+1]:\n",
        "                lista[l], lista[l+1] = lista[l+1], lista[l]\n",
        "                zamien = True\n",
        "                \n",
        "        n -= 1\n",
        "        print(lista)\n",
        "        if zamien == False: break\n",
        "        \n",
        "    return lista\n",
        "        \n",
        "sortowanie_babelkowe([5,6,-1,0])"
      ],
      "metadata": {
        "colab": {
          "base_uri": "https://localhost:8080/"
        },
        "id": "G7zSa5PI7LrL",
        "outputId": "cea31066-eab0-4518-bc80-ff9ee9f07ac5"
      },
      "execution_count": 80,
      "outputs": [
        {
          "output_type": "stream",
          "name": "stdout",
          "text": [
            "[5, -1, 0, 6]\n",
            "[-1, 0, 5, 6]\n",
            "[-1, 0, 5, 6]\n"
          ]
        },
        {
          "output_type": "execute_result",
          "data": {
            "text/plain": [
              "[-1, 0, 5, 6]"
            ]
          },
          "metadata": {},
          "execution_count": 80
        }
      ]
    },
    {
      "cell_type": "markdown",
      "source": [
        "## Ćw 3 - wyszukiwanie binarne"
      ],
      "metadata": {
        "id": "N4fek7vk-9S5"
      }
    },
    {
      "cell_type": "markdown",
      "source": [
        "*   Wyszukiwanie binarne, to algorytm mający na celu sprawdzenie czy podany element znajduje się na posortowanej liście liczb oraz wskazanie jego miejsca.\n",
        "\n",
        "*   Działa w czasie logarytmicznym co nabiera znaczenia w przypadku dużych zbiorów danych.\n"
      ],
      "metadata": {
        "id": "rdqnEp8l_I5I"
      }
    },
    {
      "cell_type": "code",
      "source": [
        "http://analityk.edu.pl/wyszukiwanie-binarne/"
      ],
      "metadata": {
        "id": "Bn0zJR65_Wva"
      },
      "execution_count": null,
      "outputs": []
    },
    {
      "cell_type": "markdown",
      "source": [
        "# Importowanie danych z innych plików Colab"
      ],
      "metadata": {
        "id": "Iyrn3r3l2K22"
      }
    },
    {
      "cell_type": "code",
      "source": [
        "from google.colab import drive\n",
        "drive.mount('/content/gdrive/')"
      ],
      "metadata": {
        "colab": {
          "base_uri": "https://localhost:8080/"
        },
        "id": "9vVhkO2l2OEu",
        "outputId": "d5c1e0e6-33a0-4115-d920-54d5346a8bc7"
      },
      "execution_count": 76,
      "outputs": [
        {
          "output_type": "stream",
          "name": "stdout",
          "text": [
            "Drive already mounted at /content/gdrive/; to attempt to forcibly remount, call drive.mount(\"/content/gdrive/\", force_remount=True).\n"
          ]
        }
      ]
    },
    {
      "cell_type": "code",
      "source": [
        "import sys\n",
        "sys.path.append('/content/gdrive/MyDrive/Colab Notebooks/python_modules.ipynb')"
      ],
      "metadata": {
        "id": "7GmhL0ZWEsdE"
      },
      "execution_count": 177,
      "outputs": []
    },
    {
      "cell_type": "code",
      "source": [
        "%cd /content/gdrive/MyDrive/Colab Notebooks/\n",
        "!ls"
      ],
      "metadata": {
        "id": "GOMBYcFf8tRJ"
      },
      "execution_count": null,
      "outputs": []
    },
    {
      "cell_type": "code",
      "source": [
        "!python python_methods.ipynb"
      ],
      "metadata": {
        "id": "M7o7bNvJAuL5"
      },
      "execution_count": 134,
      "outputs": []
    },
    {
      "cell_type": "code",
      "source": [
        "!cp \"/content/gdrive/MyDrive/Colab Notebooks/python_modules.ipynb\" ."
      ],
      "metadata": {
        "colab": {
          "base_uri": "https://localhost:8080/"
        },
        "id": "4I_seh7sDPWi",
        "outputId": "f6ba8e19-fc5d-4474-8c79-0c3f87b05d87"
      },
      "execution_count": 180,
      "outputs": [
        {
          "output_type": "stream",
          "name": "stdout",
          "text": [
            "cp: '/content/gdrive/MyDrive/Colab Notebooks/python_modules.ipynb' and './python_modules.ipynb' are the same file\n"
          ]
        }
      ]
    },
    {
      "cell_type": "code",
      "source": [
        "import python_modules\n",
        "print(python_modules.zlicz(\"Ala ma kota\"))"
      ],
      "metadata": {
        "colab": {
          "base_uri": "https://localhost:8080/",
          "height": 322
        },
        "id": "DTy3vIBS40C_",
        "outputId": "3142c61f-72df-4874-870b-ce43ba07f0e4"
      },
      "execution_count": 181,
      "outputs": [
        {
          "output_type": "error",
          "ename": "ModuleNotFoundError",
          "evalue": "ignored",
          "traceback": [
            "\u001b[0;31m---------------------------------------------------------------------------\u001b[0m",
            "\u001b[0;31mModuleNotFoundError\u001b[0m                       Traceback (most recent call last)",
            "\u001b[0;32m<ipython-input-181-c39ebd129c66>\u001b[0m in \u001b[0;36m<cell line: 1>\u001b[0;34m()\u001b[0m\n\u001b[0;32m----> 1\u001b[0;31m \u001b[0;32mimport\u001b[0m \u001b[0mpython_modules\u001b[0m\u001b[0;34m\u001b[0m\u001b[0;34m\u001b[0m\u001b[0m\n\u001b[0m\u001b[1;32m      2\u001b[0m \u001b[0mprint\u001b[0m\u001b[0;34m(\u001b[0m\u001b[0mpython_modules\u001b[0m\u001b[0;34m.\u001b[0m\u001b[0mzlicz\u001b[0m\u001b[0;34m(\u001b[0m\u001b[0;34m\"Ala ma kota\"\u001b[0m\u001b[0;34m)\u001b[0m\u001b[0;34m)\u001b[0m\u001b[0;34m\u001b[0m\u001b[0;34m\u001b[0m\u001b[0m\n",
            "\u001b[0;31mModuleNotFoundError\u001b[0m: No module named 'python_modules'",
            "",
            "\u001b[0;31m---------------------------------------------------------------------------\u001b[0;32m\nNOTE: If your import is failing due to a missing package, you can\nmanually install dependencies using either !pip or !apt.\n\nTo view examples of installing some common dependencies, click the\n\"Open Examples\" button below.\n\u001b[0;31m---------------------------------------------------------------------------\u001b[0m\n"
          ],
          "errorDetails": {
            "actions": [
              {
                "action": "open_url",
                "actionText": "Open Examples",
                "url": "/notebooks/snippets/importing_libraries.ipynb"
              }
            ]
          }
        }
      ]
    },
    {
      "cell_type": "code",
      "source": [
        "print(python_modules.niezlicz(\"Ala ma kota\"))"
      ],
      "metadata": {
        "colab": {
          "base_uri": "https://localhost:8080/",
          "height": 166
        },
        "id": "Z0ZrQAHG-cCv",
        "outputId": "db1e15da-6c41-4235-b489-53a81df04e69"
      },
      "execution_count": 182,
      "outputs": [
        {
          "output_type": "error",
          "ename": "NameError",
          "evalue": "ignored",
          "traceback": [
            "\u001b[0;31m---------------------------------------------------------------------------\u001b[0m",
            "\u001b[0;31mNameError\u001b[0m                                 Traceback (most recent call last)",
            "\u001b[0;32m<ipython-input-182-b928b09ed025>\u001b[0m in \u001b[0;36m<cell line: 1>\u001b[0;34m()\u001b[0m\n\u001b[0;32m----> 1\u001b[0;31m \u001b[0mprint\u001b[0m\u001b[0;34m(\u001b[0m\u001b[0mpython_modules\u001b[0m\u001b[0;34m.\u001b[0m\u001b[0mniezlicz\u001b[0m\u001b[0;34m(\u001b[0m\u001b[0;34m\"Ala ma kota\"\u001b[0m\u001b[0;34m)\u001b[0m\u001b[0;34m)\u001b[0m\u001b[0;34m\u001b[0m\u001b[0;34m\u001b[0m\u001b[0m\n\u001b[0m",
            "\u001b[0;31mNameError\u001b[0m: name 'python_modules' is not defined"
          ]
        }
      ]
    }
  ]
}